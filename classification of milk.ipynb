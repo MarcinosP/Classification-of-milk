{
 "cells": [
  {
   "cell_type": "markdown",
   "id": "7QRwRfkHtMiS",
   "metadata": {
    "id": "7QRwRfkHtMiS"
   },
   "source": [
    "# Classification"
   ]
  },
  {
   "cell_type": "markdown",
   "id": "EOWO06JzUZIO",
   "metadata": {
    "id": "EOWO06JzUZIO"
   },
   "source": [
    "# Connecting to Google Drive"
   ]
  },
  {
   "cell_type": "code",
   "execution_count": 1,
   "id": "psYBer29UWin",
   "metadata": {
    "colab": {
     "base_uri": "https://localhost:8080/"
    },
    "id": "psYBer29UWin",
    "outputId": "bd50af7e-5f8d-4204-a4d9-9e5e0d3be752"
   },
   "outputs": [
    {
     "name": "stdout",
     "output_type": "stream",
     "text": [
      "Mounted at /content/drive\n"
     ]
    }
   ],
   "source": [
    "import sys\n",
    "from google.colab import drive\n",
    "\n",
    "drive.mount('/content/drive')\n",
    "path_nb = r'/content/drive/My Drive/mow2/'\n",
    "sys.path.append(path_nb)"
   ]
  },
  {
   "cell_type": "markdown",
   "id": "1ce8d098",
   "metadata": {
    "id": "1ce8d098"
   },
   "source": [
    "# Loading the dataset"
   ]
  },
  {
   "cell_type": "code",
   "execution_count": null,
   "id": "ba933034",
   "metadata": {
    "colab": {
     "base_uri": "https://localhost:8080/"
    },
    "id": "ba933034",
    "outputId": "8676a246-8f00-4c80-83e5-37bc706f4ac4"
   },
   "outputs": [
    {
     "name": "stdout",
     "output_type": "stream",
     "text": [
      "       pH  Temprature  Taste  Odor  Fat   Turbidity  Colour  Grade\n",
      "0     6.6          35      1     0     1          0     254      0\n",
      "1     6.6          36      0     1     0          1     253      0\n",
      "2     8.5          70      1     1     1          1     246      1\n",
      "3     9.5          34      1     1     0          1     255      1\n",
      "4     6.6          37      0     0     0          0     255      2\n",
      "...   ...         ...    ...   ...   ...        ...     ...    ...\n",
      "1054  6.7          45      1     1     0          0     247      2\n",
      "1055  6.7          38      1     0     1          0     255      0\n",
      "1056  3.0          40      1     1     1          1     255      1\n",
      "1057  6.8          43      1     0     1          0     250      0\n",
      "1058  8.6          55      0     1     1          1     255      1\n",
      "\n",
      "[1059 rows x 8 columns]\n"
     ]
    }
   ],
   "source": [
    "import pandas as pd\n",
    "from sklearn import preprocessing\n",
    "\n",
    "data = pd.read_csv(path_nb +'milknew.csv')\n",
    "data.Grade = pd.factorize(data.Grade)[0]\n",
    "\n",
    "print(data) "
   ]
  },
  {
   "cell_type": "markdown",
   "id": "q8XpDdu6kj6T",
   "metadata": {
    "id": "q8XpDdu6kj6T"
   },
   "source": [
    "Dataset contains 7 featurtes: \n",
    "\n",
    "*   pH - pH of milk \n",
    "*   Temperature - temperature of milk\n",
    "*   Taste - taste of milk (binary variable) \n",
    "*   Odor - smell of milk (binary variable) \n",
    "*   Fat - is milk fat (binary variable) \n",
    "*   Turbidity - turbidity of milk (binary variable) \n",
    "*   Colour - colour of milk\n"
   ]
  },
  {
   "cell_type": "markdown",
   "id": "8ab46376",
   "metadata": {
    "id": "8ab46376"
   },
   "source": [
    "# Data description"
   ]
  },
  {
   "cell_type": "code",
   "execution_count": null,
   "id": "796581f7",
   "metadata": {
    "colab": {
     "base_uri": "https://localhost:8080/",
     "height": 300
    },
    "id": "796581f7",
    "outputId": "3ac1533f-b8c5-483a-fea4-12de7d934cf0"
   },
   "outputs": [
    {
     "data": {
      "text/html": [
       "\n",
       "  <div id=\"df-bd3e933a-223c-4b74-ae49-e2c83fd93dac\">\n",
       "    <div class=\"colab-df-container\">\n",
       "      <div>\n",
       "<style scoped>\n",
       "    .dataframe tbody tr th:only-of-type {\n",
       "        vertical-align: middle;\n",
       "    }\n",
       "\n",
       "    .dataframe tbody tr th {\n",
       "        vertical-align: top;\n",
       "    }\n",
       "\n",
       "    .dataframe thead th {\n",
       "        text-align: right;\n",
       "    }\n",
       "</style>\n",
       "<table border=\"1\" class=\"dataframe\">\n",
       "  <thead>\n",
       "    <tr style=\"text-align: right;\">\n",
       "      <th></th>\n",
       "      <th>pH</th>\n",
       "      <th>Temprature</th>\n",
       "      <th>Taste</th>\n",
       "      <th>Odor</th>\n",
       "      <th>Fat</th>\n",
       "      <th>Turbidity</th>\n",
       "      <th>Colour</th>\n",
       "      <th>Grade</th>\n",
       "    </tr>\n",
       "  </thead>\n",
       "  <tbody>\n",
       "    <tr>\n",
       "      <th>count</th>\n",
       "      <td>1059.000000</td>\n",
       "      <td>1059.000000</td>\n",
       "      <td>1059.000000</td>\n",
       "      <td>1059.000000</td>\n",
       "      <td>1059.000000</td>\n",
       "      <td>1059.000000</td>\n",
       "      <td>1059.000000</td>\n",
       "      <td>1059.000000</td>\n",
       "    </tr>\n",
       "    <tr>\n",
       "      <th>mean</th>\n",
       "      <td>6.630123</td>\n",
       "      <td>44.226629</td>\n",
       "      <td>0.546742</td>\n",
       "      <td>0.432483</td>\n",
       "      <td>0.671388</td>\n",
       "      <td>0.491029</td>\n",
       "      <td>251.840415</td>\n",
       "      <td>1.111426</td>\n",
       "    </tr>\n",
       "    <tr>\n",
       "      <th>std</th>\n",
       "      <td>1.399679</td>\n",
       "      <td>10.098364</td>\n",
       "      <td>0.498046</td>\n",
       "      <td>0.495655</td>\n",
       "      <td>0.469930</td>\n",
       "      <td>0.500156</td>\n",
       "      <td>4.307424</td>\n",
       "      <td>0.763568</td>\n",
       "    </tr>\n",
       "    <tr>\n",
       "      <th>min</th>\n",
       "      <td>3.000000</td>\n",
       "      <td>34.000000</td>\n",
       "      <td>0.000000</td>\n",
       "      <td>0.000000</td>\n",
       "      <td>0.000000</td>\n",
       "      <td>0.000000</td>\n",
       "      <td>240.000000</td>\n",
       "      <td>0.000000</td>\n",
       "    </tr>\n",
       "    <tr>\n",
       "      <th>25%</th>\n",
       "      <td>6.500000</td>\n",
       "      <td>38.000000</td>\n",
       "      <td>0.000000</td>\n",
       "      <td>0.000000</td>\n",
       "      <td>0.000000</td>\n",
       "      <td>0.000000</td>\n",
       "      <td>250.000000</td>\n",
       "      <td>1.000000</td>\n",
       "    </tr>\n",
       "    <tr>\n",
       "      <th>50%</th>\n",
       "      <td>6.700000</td>\n",
       "      <td>41.000000</td>\n",
       "      <td>1.000000</td>\n",
       "      <td>0.000000</td>\n",
       "      <td>1.000000</td>\n",
       "      <td>0.000000</td>\n",
       "      <td>255.000000</td>\n",
       "      <td>1.000000</td>\n",
       "    </tr>\n",
       "    <tr>\n",
       "      <th>75%</th>\n",
       "      <td>6.800000</td>\n",
       "      <td>45.000000</td>\n",
       "      <td>1.000000</td>\n",
       "      <td>1.000000</td>\n",
       "      <td>1.000000</td>\n",
       "      <td>1.000000</td>\n",
       "      <td>255.000000</td>\n",
       "      <td>2.000000</td>\n",
       "    </tr>\n",
       "    <tr>\n",
       "      <th>max</th>\n",
       "      <td>9.500000</td>\n",
       "      <td>90.000000</td>\n",
       "      <td>1.000000</td>\n",
       "      <td>1.000000</td>\n",
       "      <td>1.000000</td>\n",
       "      <td>1.000000</td>\n",
       "      <td>255.000000</td>\n",
       "      <td>2.000000</td>\n",
       "    </tr>\n",
       "  </tbody>\n",
       "</table>\n",
       "</div>\n",
       "      <button class=\"colab-df-convert\" onclick=\"convertToInteractive('df-bd3e933a-223c-4b74-ae49-e2c83fd93dac')\"\n",
       "              title=\"Convert this dataframe to an interactive table.\"\n",
       "              style=\"display:none;\">\n",
       "        \n",
       "  <svg xmlns=\"http://www.w3.org/2000/svg\" height=\"24px\"viewBox=\"0 0 24 24\"\n",
       "       width=\"24px\">\n",
       "    <path d=\"M0 0h24v24H0V0z\" fill=\"none\"/>\n",
       "    <path d=\"M18.56 5.44l.94 2.06.94-2.06 2.06-.94-2.06-.94-.94-2.06-.94 2.06-2.06.94zm-11 1L8.5 8.5l.94-2.06 2.06-.94-2.06-.94L8.5 2.5l-.94 2.06-2.06.94zm10 10l.94 2.06.94-2.06 2.06-.94-2.06-.94-.94-2.06-.94 2.06-2.06.94z\"/><path d=\"M17.41 7.96l-1.37-1.37c-.4-.4-.92-.59-1.43-.59-.52 0-1.04.2-1.43.59L10.3 9.45l-7.72 7.72c-.78.78-.78 2.05 0 2.83L4 21.41c.39.39.9.59 1.41.59.51 0 1.02-.2 1.41-.59l7.78-7.78 2.81-2.81c.8-.78.8-2.07 0-2.86zM5.41 20L4 18.59l7.72-7.72 1.47 1.35L5.41 20z\"/>\n",
       "  </svg>\n",
       "      </button>\n",
       "      \n",
       "  <style>\n",
       "    .colab-df-container {\n",
       "      display:flex;\n",
       "      flex-wrap:wrap;\n",
       "      gap: 12px;\n",
       "    }\n",
       "\n",
       "    .colab-df-convert {\n",
       "      background-color: #E8F0FE;\n",
       "      border: none;\n",
       "      border-radius: 50%;\n",
       "      cursor: pointer;\n",
       "      display: none;\n",
       "      fill: #1967D2;\n",
       "      height: 32px;\n",
       "      padding: 0 0 0 0;\n",
       "      width: 32px;\n",
       "    }\n",
       "\n",
       "    .colab-df-convert:hover {\n",
       "      background-color: #E2EBFA;\n",
       "      box-shadow: 0px 1px 2px rgba(60, 64, 67, 0.3), 0px 1px 3px 1px rgba(60, 64, 67, 0.15);\n",
       "      fill: #174EA6;\n",
       "    }\n",
       "\n",
       "    [theme=dark] .colab-df-convert {\n",
       "      background-color: #3B4455;\n",
       "      fill: #D2E3FC;\n",
       "    }\n",
       "\n",
       "    [theme=dark] .colab-df-convert:hover {\n",
       "      background-color: #434B5C;\n",
       "      box-shadow: 0px 1px 3px 1px rgba(0, 0, 0, 0.15);\n",
       "      filter: drop-shadow(0px 1px 2px rgba(0, 0, 0, 0.3));\n",
       "      fill: #FFFFFF;\n",
       "    }\n",
       "  </style>\n",
       "\n",
       "      <script>\n",
       "        const buttonEl =\n",
       "          document.querySelector('#df-bd3e933a-223c-4b74-ae49-e2c83fd93dac button.colab-df-convert');\n",
       "        buttonEl.style.display =\n",
       "          google.colab.kernel.accessAllowed ? 'block' : 'none';\n",
       "\n",
       "        async function convertToInteractive(key) {\n",
       "          const element = document.querySelector('#df-bd3e933a-223c-4b74-ae49-e2c83fd93dac');\n",
       "          const dataTable =\n",
       "            await google.colab.kernel.invokeFunction('convertToInteractive',\n",
       "                                                     [key], {});\n",
       "          if (!dataTable) return;\n",
       "\n",
       "          const docLinkHtml = 'Like what you see? Visit the ' +\n",
       "            '<a target=\"_blank\" href=https://colab.research.google.com/notebooks/data_table.ipynb>data table notebook</a>'\n",
       "            + ' to learn more about interactive tables.';\n",
       "          element.innerHTML = '';\n",
       "          dataTable['output_type'] = 'display_data';\n",
       "          await google.colab.output.renderOutput(dataTable, element);\n",
       "          const docLink = document.createElement('div');\n",
       "          docLink.innerHTML = docLinkHtml;\n",
       "          element.appendChild(docLink);\n",
       "        }\n",
       "      </script>\n",
       "    </div>\n",
       "  </div>\n",
       "  "
      ],
      "text/plain": [
       "                pH   Temprature        Taste         Odor         Fat   \\\n",
       "count  1059.000000  1059.000000  1059.000000  1059.000000  1059.000000   \n",
       "mean      6.630123    44.226629     0.546742     0.432483     0.671388   \n",
       "std       1.399679    10.098364     0.498046     0.495655     0.469930   \n",
       "min       3.000000    34.000000     0.000000     0.000000     0.000000   \n",
       "25%       6.500000    38.000000     0.000000     0.000000     0.000000   \n",
       "50%       6.700000    41.000000     1.000000     0.000000     1.000000   \n",
       "75%       6.800000    45.000000     1.000000     1.000000     1.000000   \n",
       "max       9.500000    90.000000     1.000000     1.000000     1.000000   \n",
       "\n",
       "         Turbidity       Colour        Grade  \n",
       "count  1059.000000  1059.000000  1059.000000  \n",
       "mean      0.491029   251.840415     1.111426  \n",
       "std       0.500156     4.307424     0.763568  \n",
       "min       0.000000   240.000000     0.000000  \n",
       "25%       0.000000   250.000000     1.000000  \n",
       "50%       0.000000   255.000000     1.000000  \n",
       "75%       1.000000   255.000000     2.000000  \n",
       "max       1.000000   255.000000     2.000000  "
      ]
     },
     "execution_count": 3,
     "metadata": {},
     "output_type": "execute_result"
    }
   ],
   "source": [
    "data.describe()"
   ]
  },
  {
   "cell_type": "markdown",
   "id": "_2oUyCCJXTa6",
   "metadata": {
    "id": "_2oUyCCJXTa6"
   },
   "source": [
    "# Charts"
   ]
  },
  {
   "cell_type": "markdown",
   "id": "f4a89537",
   "metadata": {
    "id": "f4a89537"
   },
   "source": [
    "## Box-plots"
   ]
  },
  {
   "cell_type": "code",
   "execution_count": null,
   "id": "2e0f887e",
   "metadata": {
    "colab": {
     "base_uri": "https://localhost:8080/",
     "height": 761
    },
    "id": "2e0f887e",
    "outputId": "85e104f8-4500-4d03-bc27-a51577fb4ee5"
   },
   "outputs": [
    {
     "data": {
      "image/png": "[encoded data removed]",
      "text/plain": [
       "<Figure size 432x288 with 1 Axes>"
      ]
     },
     "metadata": {
      "needs_background": "light"
     },
     "output_type": "display_data"
    },
    {
     "data": {
      "image/png": "[encoded data removed]",
      "text/plain": [
       "<Figure size 432x288 with 1 Axes>"
      ]
     },
     "metadata": {
      "needs_background": "light"
     },
     "output_type": "display_data"
    },
    {
     "data": {
      "image/png": "[encoded data removed]",
      "text/plain": [
       "<Figure size 432x288 with 1 Axes>"
      ]
     },
     "metadata": {
      "needs_background": "light"
     },
     "output_type": "display_data"
    }
   ],
   "source": [
    "import matplotlib.pyplot as plt\n",
    "\n",
    "for column in data[['pH','Temprature','Colour']]:\n",
    "    plt.figure()\n",
    "    data.boxplot([column])"
   ]
  },
  {
   "cell_type": "markdown",
   "id": "76273dcb",
   "metadata": {
    "id": "76273dcb"
   },
   "source": [
    "## Histograms"
   ]
  },
  {
   "cell_type": "code",
   "execution_count": null,
   "id": "1ee7994e",
   "metadata": {
    "colab": {
     "base_uri": "https://localhost:8080/",
     "height": 1000
    },
    "id": "1ee7994e",
    "outputId": "1d6a637a-330e-48f1-8da3-b90f40d1fa3f"
   },
   "outputs": [
    {
     "data": {
      "text/plain": [
       "array([[<matplotlib.axes._subplots.AxesSubplot object at 0x7f494475d490>,\n",
       "        <matplotlib.axes._subplots.AxesSubplot object at 0x7f494477bb50>,\n",
       "        <matplotlib.axes._subplots.AxesSubplot object at 0x7f49442dcfd0>],\n",
       "       [<matplotlib.axes._subplots.AxesSubplot object at 0x7f4944296430>,\n",
       "        <matplotlib.axes._subplots.AxesSubplot object at 0x7f4944245820>,\n",
       "        <matplotlib.axes._subplots.AxesSubplot object at 0x7f4944270be0>],\n",
       "       [<matplotlib.axes._subplots.AxesSubplot object at 0x7f4944270cd0>,\n",
       "        <matplotlib.axes._subplots.AxesSubplot object at 0x7f4944229190>,\n",
       "        <matplotlib.axes._subplots.AxesSubplot object at 0x7f4944187820>]],\n",
       "      dtype=object)"
      ]
     },
     "execution_count": 5,
     "metadata": {},
     "output_type": "execute_result"
    },
    {
     "data": {
      "image/png": "[encoded data removed]",
      "text/plain": [
       "<Figure size 1440x1080 with 9 Axes>"
      ]
     },
     "metadata": {
      "needs_background": "light"
     },
     "output_type": "display_data"
    }
   ],
   "source": [
    "data.hist(figsize=(20,15),grid = False)"
   ]
  },
  {
   "cell_type": "markdown",
   "id": "3c819aa0",
   "metadata": {
    "id": "3c819aa0"
   },
   "source": [
    "## Pairplots"
   ]
  },
  {
   "cell_type": "code",
   "execution_count": null,
   "id": "d2dfc2e2",
   "metadata": {
    "colab": {
     "base_uri": "https://localhost:8080/",
     "height": 1000
    },
    "id": "d2dfc2e2",
    "outputId": "fb56f081-863e-4b2f-c802-35cbc4d72c11"
   },
   "outputs": [
    {
     "data": {
      "image/png": "[encoded data removed]",
      "text/plain": [
       "<Figure size 1440x1440 with 72 Axes>"
      ]
     },
     "metadata": {
      "needs_background": "light"
     },
     "output_type": "display_data"
    }
   ],
   "source": [
    "import seaborn as sns\n",
    "\n",
    "sns.pairplot(data)\n",
    "plt.show()"
   ]
  },
  {
   "cell_type": "markdown",
   "id": "21891728",
   "metadata": {
    "id": "21891728"
   },
   "source": [
    "## Scatterplot"
   ]
  },
  {
   "cell_type": "code",
   "execution_count": null,
   "id": "e3d12f05",
   "metadata": {
    "colab": {
     "base_uri": "https://localhost:8080/"
    },
    "id": "e3d12f05",
    "outputId": "ea54cbce-ae11-424b-efb4-446ab955c790"
   },
   "outputs": [
    {
     "data": {
      "image/png": "[encoded data removed]",
      "text/plain": [
       "<Figure size 864x576 with 2 Axes>"
      ]
     },
     "metadata": {
      "needs_background": "light"
     },
     "output_type": "display_data"
    }
   ],
   "source": [
    "fig, ax = plt.subplots(figsize=(12,8))\n",
    "scatter = plt.scatter( x=data.Temprature,y=data.pH,s=(data.Colour-240)*3,c=data.Grade,)\n",
    "\n",
    "plt.title(\"Temperature vs pH of milk, by grade and milk colour (the bigger point the whiter milk)\")\n",
    "plt.xlabel(\"Temperature [C]\")\n",
    "plt.ylabel(\"pH\")\n",
    "\n",
    "plt.colorbar(label='Grade')\n",
    "\n",
    "plt.show()"
   ]
  },
  {
   "cell_type": "markdown",
   "id": "1a57ff35",
   "metadata": {
    "id": "1a57ff35"
   },
   "source": [
    "## Correlation matrix"
   ]
  },
  {
   "cell_type": "code",
   "execution_count": null,
   "id": "87f0aefd",
   "metadata": {
    "colab": {
     "base_uri": "https://localhost:8080/",
     "height": 316
    },
    "id": "87f0aefd",
    "outputId": "a189744b-9b60-4105-ddcc-0ef111e44c61"
   },
   "outputs": [
    {
     "data": {
      "image/png": "[encoded data removed]",
      "text/plain": [
       "<Figure size 432x288 with 2 Axes>"
      ]
     },
     "metadata": {
      "needs_background": "light"
     },
     "output_type": "display_data"
    }
   ],
   "source": [
    "corrMatrix = data.corr()\n",
    "sns.heatmap(corrMatrix, annot=True)\n",
    "plt.show()"
   ]
  },
  {
   "cell_type": "markdown",
   "id": "4f770ca0",
   "metadata": {
    "id": "4f770ca0"
   },
   "source": [
    "# Missing data"
   ]
  },
  {
   "cell_type": "code",
   "execution_count": null,
   "id": "1ef34bb5",
   "metadata": {
    "colab": {
     "base_uri": "https://localhost:8080/"
    },
    "id": "1ef34bb5",
    "outputId": "eedebd67-c9f8-4b97-bf72-8352c6b72ccb"
   },
   "outputs": [
    {
     "data": {
      "text/plain": [
       "pH            0\n",
       "Temprature    0\n",
       "Taste         0\n",
       "Odor          0\n",
       "Fat           0\n",
       "Turbidity     0\n",
       "Colour        0\n",
       "Grade         0\n",
       "dtype: int64"
      ]
     },
     "execution_count": 9,
     "metadata": {},
     "output_type": "execute_result"
    }
   ],
   "source": [
    "data.isnull().sum()"
   ]
  },
  {
   "cell_type": "markdown",
   "id": "cf8daf65",
   "metadata": {
    "id": "cf8daf65"
   },
   "source": [
    "## Removing 10% of data"
   ]
  },
  {
   "cell_type": "code",
   "execution_count": null,
   "id": "5dccf674",
   "metadata": {
    "id": "5dccf674"
   },
   "outputs": [],
   "source": [
    "import numpy as np\n",
    "\n",
    "for col in data.columns.drop('Grade'):\n",
    "    data.loc[data.sample(frac=0.1).index, col] = np.nan"
   ]
  },
  {
   "cell_type": "code",
   "execution_count": null,
   "id": "0799d4dd",
   "metadata": {
    "colab": {
     "base_uri": "https://localhost:8080/"
    },
    "id": "0799d4dd",
    "outputId": "fce86251-a6c1-4bd1-ecfd-8ebeb413bc6f"
   },
   "outputs": [
    {
     "data": {
      "text/plain": [
       "pH            106\n",
       "Temprature    106\n",
       "Taste         106\n",
       "Odor          106\n",
       "Fat           106\n",
       "Turbidity     106\n",
       "Colour        106\n",
       "Grade           0\n",
       "dtype: int64"
      ]
     },
     "execution_count": 11,
     "metadata": {},
     "output_type": "execute_result"
    }
   ],
   "source": [
    "data.isnull().sum()"
   ]
  },
  {
   "cell_type": "code",
   "execution_count": null,
   "id": "5db42876",
   "metadata": {
    "colab": {
     "base_uri": "https://localhost:8080/"
    },
    "id": "5db42876",
    "outputId": "eb5193a4-23b8-477a-fabc-38b08a11dcda"
   },
   "outputs": [
    {
     "name": "stdout",
     "output_type": "stream",
     "text": [
      "       pH  Temprature  Taste  Odor  Fat   Turbidity  Colour  Grade\n",
      "0     6.6        35.0    1.0   0.0   1.0        0.0   254.0      0\n",
      "1     6.6         NaN    0.0   NaN   0.0        NaN   253.0      0\n",
      "2     8.5        70.0    NaN   1.0   1.0        1.0   246.0      1\n",
      "3     9.5        34.0    1.0   1.0   0.0        1.0   255.0      1\n",
      "4     6.6        37.0    0.0   0.0   0.0        0.0   255.0      2\n",
      "...   ...         ...    ...   ...   ...        ...     ...    ...\n",
      "1054  6.7        45.0    1.0   NaN   0.0        0.0   247.0      2\n",
      "1055  6.7        38.0    1.0   0.0   1.0        NaN   255.0      0\n",
      "1056  NaN        40.0    1.0   NaN   1.0        1.0   255.0      1\n",
      "1057  6.8        43.0    1.0   0.0   1.0        0.0   250.0      0\n",
      "1058  8.6        55.0    0.0   1.0   1.0        1.0   255.0      1\n",
      "\n",
      "[1059 rows x 8 columns]\n"
     ]
    }
   ],
   "source": [
    "print(data)"
   ]
  },
  {
   "cell_type": "markdown",
   "id": "kGBxDqgwhGzc",
   "metadata": {
    "id": "kGBxDqgwhGzc"
   },
   "source": [
    "# Working with missing data"
   ]
  },
  {
   "cell_type": "markdown",
   "id": "7wXHVwMohPDc",
   "metadata": {
    "id": "7wXHVwMohPDc"
   },
   "source": [
    "## Filling in missing data by mode\n",
    "\n"
   ]
  },
  {
   "cell_type": "code",
   "execution_count": null,
   "id": "GSFhDyMfZiYh",
   "metadata": {
    "colab": {
     "base_uri": "https://localhost:8080/"
    },
    "id": "GSFhDyMfZiYh",
    "outputId": "0701a279-a902-48ec-8804-7f5336d7e0d3"
   },
   "outputs": [
    {
     "name": "stdout",
     "output_type": "stream",
     "text": [
      "       pH  Temprature  Taste  Odor  Fat   Turbidity  Colour  Grade\n",
      "0     6.6        35.0    1.0   0.0   1.0        0.0   254.0      0\n",
      "1     6.6        45.0    0.0   0.0   0.0        0.0   253.0      0\n",
      "2     8.5        70.0    1.0   1.0   1.0        1.0   246.0      1\n",
      "3     9.5        34.0    1.0   1.0   0.0        1.0   255.0      1\n",
      "4     6.6        37.0    0.0   0.0   0.0        0.0   255.0      2\n",
      "...   ...         ...    ...   ...   ...        ...     ...    ...\n",
      "1054  6.7        45.0    1.0   0.0   0.0        0.0   247.0      2\n",
      "1055  6.7        38.0    1.0   0.0   1.0        0.0   255.0      0\n",
      "1056  6.8        40.0    1.0   0.0   1.0        1.0   255.0      1\n",
      "1057  6.8        43.0    1.0   0.0   1.0        0.0   250.0      0\n",
      "1058  8.6        55.0    0.0   1.0   1.0        1.0   255.0      1\n",
      "\n",
      "[1059 rows x 8 columns]\n",
      "pH            0\n",
      "Temprature    0\n",
      "Taste         0\n",
      "Odor          0\n",
      "Fat           0\n",
      "Turbidity     0\n",
      "Colour        0\n",
      "Grade         0\n",
      "dtype: int64\n"
     ]
    }
   ],
   "source": [
    "data_mode = data.copy()\n",
    "\n",
    "data_mode.iloc[:, 0].fillna(data.iloc[:, 0].mode()[0], inplace=True)\n",
    "data_mode.iloc[:, 1].fillna(data.iloc[:, 1].mode()[0], inplace=True)\n",
    "data_mode.iloc[:, 2].fillna(data.iloc[:, 2].mode()[0], inplace=True)\n",
    "data_mode.iloc[:, 3].fillna(data.iloc[:, 3].mode()[0], inplace=True)\n",
    "data_mode.iloc[:, 4].fillna(data.iloc[:, 4].mode()[0], inplace=True)\n",
    "data_mode.iloc[:, 5].fillna(data.iloc[:, 5].mode()[0], inplace=True)\n",
    "data_mode.iloc[:, 6].fillna(data.iloc[:, 6].mode()[0], inplace=True)\n",
    "\n",
    "print(data_mode)\n",
    "\n",
    "print(data_mode.isnull().sum())"
   ]
  },
  {
   "cell_type": "code",
   "execution_count": null,
   "id": "YaJn7Xhp3vek",
   "metadata": {
    "colab": {
     "base_uri": "https://localhost:8080/"
    },
    "id": "YaJn7Xhp3vek",
    "outputId": "8050858d-134b-4226-ce28-ed2d9762b4e1"
   },
   "outputs": [
    {
     "name": "stdout",
     "output_type": "stream",
     "text": [
      "pH            106\n",
      "Temprature    106\n",
      "Taste           0\n",
      "Odor            0\n",
      "Fat             0\n",
      "Turbidity       0\n",
      "Colour        106\n",
      "Grade           0\n",
      "dtype: int64\n"
     ]
    }
   ],
   "source": [
    "data['Taste'].fillna(data['Taste'].mode()[0], inplace=True)\n",
    "data['Odor'].fillna(data['Odor'].mode()[0], inplace=True)\n",
    "data.iloc[:, 4].fillna(data.iloc[:, 4].mode()[0], inplace=True)\n",
    "data['Turbidity'].fillna(data['Turbidity'].mode()[0], inplace=True)\n",
    "\n",
    "print(data.isnull().sum())"
   ]
  },
  {
   "cell_type": "markdown",
   "id": "55jOAxa_k2D5",
   "metadata": {
    "id": "55jOAxa_k2D5"
   },
   "source": [
    "## Filling in missing data by regression"
   ]
  },
  {
   "cell_type": "code",
   "execution_count": null,
   "id": "dT1CWAs8k1bd",
   "metadata": {
    "colab": {
     "base_uri": "https://localhost:8080/"
    },
    "id": "dT1CWAs8k1bd",
    "outputId": "48984cf6-c451-499e-b151-eaa2240b8e01"
   },
   "outputs": [
    {
     "name": "stdout",
     "output_type": "stream",
     "text": [
      "pH            0\n",
      "Temprature    0\n",
      "Taste         0\n",
      "Odor          0\n",
      "Fat           0\n",
      "Turbidity     0\n",
      "Colour        0\n",
      "Grade         0\n",
      "dtype: int64\n",
      "            pH  Temprature  Taste  Odor  Fat   Turbidity  Colour  Grade\n",
      "0     6.600000   35.000000    1.0   0.0   1.0        0.0   254.0      0\n",
      "1     6.600000   38.723293    0.0   0.0   0.0        0.0   253.0      0\n",
      "2     8.500000   70.000000    1.0   1.0   1.0        1.0   246.0      1\n",
      "3     9.500000   34.000000    1.0   1.0   0.0        1.0   255.0      1\n",
      "4     6.600000   37.000000    0.0   0.0   0.0        0.0   255.0      2\n",
      "...        ...         ...    ...   ...   ...        ...     ...    ...\n",
      "1054  6.700000   45.000000    1.0   0.0   0.0        0.0   247.0      2\n",
      "1055  6.700000   38.000000    1.0   0.0   1.0        0.0   255.0      0\n",
      "1056  3.863892   40.000000    1.0   0.0   1.0        1.0   255.0      1\n",
      "1057  6.800000   43.000000    1.0   0.0   1.0        0.0   250.0      0\n",
      "1058  8.600000   55.000000    0.0   1.0   1.0        1.0   255.0      1\n",
      "\n",
      "[1059 rows x 8 columns]\n"
     ]
    }
   ],
   "source": [
    "from sklearn.ensemble import RandomForestRegressor\n",
    "from sklearn.experimental import enable_iterative_imputer\n",
    "from sklearn.impute import IterativeImputer\n",
    "\n",
    "data_regression = data.copy()\n",
    "\n",
    "rf = RandomForestRegressor(random_state=234)\n",
    "# missing_data_filled_by_regression = data.copy()\n",
    "rf_imputer = IterativeImputer(estimator=rf, random_state=234)\n",
    "data_regression.iloc[:,[0,1,6]] = rf_imputer.fit_transform(data_regression.iloc[:,[0,1,6]])\n",
    "#data.iloc[:,[6]] = rf_imputer.fit_transform(data.iloc[:,[6]])\n",
    "print(data_regression.isnull().sum())\n",
    "print(data_regression)"
   ]
  },
  {
   "cell_type": "markdown",
   "id": "Pjk2WOxfqo2S",
   "metadata": {
    "id": "Pjk2WOxfqo2S"
   },
   "source": [
    "## Filling in missing data by MICE method"
   ]
  },
  {
   "cell_type": "code",
   "execution_count": null,
   "id": "JD2aLxPx61E2",
   "metadata": {
    "colab": {
     "base_uri": "https://localhost:8080/"
    },
    "id": "JD2aLxPx61E2",
    "outputId": "4db4653f-f264-4b9f-833b-191586553cb8"
   },
   "outputs": [
    {
     "name": "stdout",
     "output_type": "stream",
     "text": [
      "Looking in indexes: https://pypi.org/simple, https://us-python.pkg.dev/colab-wheels/public/simple/\n",
      "Collecting impyute\n",
      "  Downloading impyute-0.0.8-py2.py3-none-any.whl (31 kB)\n",
      "Requirement already satisfied: numpy in /usr/local/lib/python3.8/dist-packages (from impyute) (1.21.6)\n",
      "Requirement already satisfied: scikit-learn in /usr/local/lib/python3.8/dist-packages (from impyute) (1.0.2)\n",
      "Requirement already satisfied: scipy in /usr/local/lib/python3.8/dist-packages (from impyute) (1.7.3)\n",
      "Requirement already satisfied: threadpoolctl>=2.0.0 in /usr/local/lib/python3.8/dist-packages (from scikit-learn->impyute) (3.1.0)\n",
      "Requirement already satisfied: joblib>=0.11 in /usr/local/lib/python3.8/dist-packages (from scikit-learn->impyute) (1.2.0)\n",
      "Installing collected packages: impyute\n",
      "Successfully installed impyute-0.0.8\n"
     ]
    }
   ],
   "source": [
    "!pip install impyute"
   ]
  },
  {
   "cell_type": "code",
   "execution_count": null,
   "id": "3Fa0LbSCqvB2",
   "metadata": {
    "id": "3Fa0LbSCqvB2"
   },
   "outputs": [],
   "source": [
    "from impyute.imputation.cs import mice\n",
    "\n",
    "imputed_training = mice(data.iloc[:, [0,1,6]].values)"
   ]
  },
  {
   "cell_type": "code",
   "execution_count": null,
   "id": "1iItfCo7snzS",
   "metadata": {
    "id": "1iItfCo7snzS"
   },
   "outputs": [],
   "source": [
    "data_mice = pd.DataFrame(imputed_training,columns=data.iloc[:, [0,1,6]].columns)"
   ]
  },
  {
   "cell_type": "code",
   "execution_count": null,
   "id": "wy-iarA1swFJ",
   "metadata": {
    "colab": {
     "base_uri": "https://localhost:8080/"
    },
    "id": "wy-iarA1swFJ",
    "outputId": "53cc4ee8-b084-4a64-ff7b-100c73ca2a28"
   },
   "outputs": [
    {
     "name": "stdout",
     "output_type": "stream",
     "text": [
      "            pH  Temprature  Colour\n",
      "0     6.600000   35.000000   254.0\n",
      "1     6.600000   44.260372   253.0\n",
      "2     8.500000   70.000000   246.0\n",
      "3     9.500000   34.000000   255.0\n",
      "4     6.600000   37.000000   255.0\n",
      "...        ...         ...     ...\n",
      "1054  6.700000   45.000000   247.0\n",
      "1055  6.700000   38.000000   255.0\n",
      "1056  6.332477   40.000000   255.0\n",
      "1057  6.800000   43.000000   250.0\n",
      "1058  8.600000   55.000000   255.0\n",
      "\n",
      "[1059 rows x 3 columns]\n",
      "       pH  Temprature  Colour\n",
      "0     6.6        35.0   254.0\n",
      "1     6.6         NaN   253.0\n",
      "2     8.5        70.0   246.0\n",
      "3     9.5        34.0   255.0\n",
      "4     6.6        37.0   255.0\n",
      "...   ...         ...     ...\n",
      "1054  6.7        45.0   247.0\n",
      "1055  6.7        38.0   255.0\n",
      "1056  NaN        40.0   255.0\n",
      "1057  6.8        43.0   250.0\n",
      "1058  8.6        55.0   255.0\n",
      "\n",
      "[1059 rows x 3 columns]\n"
     ]
    }
   ],
   "source": [
    "data_mice.describe()\n",
    "print(data_mice)\n",
    "print(data.iloc[:, [0,1,6]])"
   ]
  },
  {
   "cell_type": "code",
   "execution_count": null,
   "id": "kgF__8ajZw9f",
   "metadata": {
    "colab": {
     "base_uri": "https://localhost:8080/"
    },
    "id": "kgF__8ajZw9f",
    "outputId": "d7deea92-37ec-483b-c702-1249c8589f57"
   },
   "outputs": [
    {
     "name": "stdout",
     "output_type": "stream",
     "text": [
      "            pH  Temprature  Taste  Odor  Fat   Turbidity  Colour  Grade\n",
      "0     6.600000   35.000000    1.0   0.0   1.0        0.0   254.0      0\n",
      "1     6.600000   44.260372    0.0   0.0   0.0        0.0   253.0      0\n",
      "2     8.500000   70.000000    1.0   1.0   1.0        1.0   246.0      1\n",
      "3     9.500000   34.000000    1.0   1.0   0.0        1.0   255.0      1\n",
      "4     6.600000   37.000000    0.0   0.0   0.0        0.0   255.0      2\n",
      "...        ...         ...    ...   ...   ...        ...     ...    ...\n",
      "1054  6.700000   45.000000    1.0   0.0   0.0        0.0   247.0      2\n",
      "1055  6.700000   38.000000    1.0   0.0   1.0        0.0   255.0      0\n",
      "1056  6.332477   40.000000    1.0   0.0   1.0        1.0   255.0      1\n",
      "1057  6.800000   43.000000    1.0   0.0   1.0        0.0   250.0      0\n",
      "1058  8.600000   55.000000    0.0   1.0   1.0        1.0   255.0      1\n",
      "\n",
      "[1059 rows x 8 columns]\n"
     ]
    }
   ],
   "source": [
    "data_copy = data.copy()\n",
    "data_copy.iloc[:, [0,1,6]] = data_mice.iloc[:, [0,1,2]]\n",
    "data_mice = data_copy\n",
    "print(data_mice)"
   ]
  },
  {
   "cell_type": "markdown",
   "id": "i7F1LWW2fdHM",
   "metadata": {
    "id": "i7F1LWW2fdHM"
   },
   "source": [
    "## Stadarization"
   ]
  },
  {
   "cell_type": "code",
   "execution_count": null,
   "id": "WMjn6lesfOmX",
   "metadata": {
    "id": "WMjn6lesfOmX"
   },
   "outputs": [],
   "source": [
    "def data_standarize(data_std):\n",
    "  for col in data_std.columns.drop('Grade'):\n",
    "    data_std[col] = (data_std[col] - data_std[col].mean()) / data_std[col].std()\n",
    "  return data_std\n"
   ]
  },
  {
   "cell_type": "code",
   "execution_count": null,
   "id": "JXWWjJ9Q6YeV",
   "metadata": {
    "id": "JXWWjJ9Q6YeV"
   },
   "outputs": [],
   "source": [
    "data_mode_std = data_standarize(data_mode)\n",
    "data_regression_std = data_standarize (data_regression)\n",
    "data_mice_std = data_standarize(data_mice)\n"
   ]
  },
  {
   "cell_type": "markdown",
   "id": "UPGqaiL7jJjX",
   "metadata": {
    "id": "UPGqaiL7jJjX"
   },
   "source": [
    "## Min-max"
   ]
  },
  {
   "cell_type": "code",
   "execution_count": null,
   "id": "khStHPK3jwvh",
   "metadata": {
    "id": "khStHPK3jwvh"
   },
   "outputs": [],
   "source": [
    "def data_min_max(data):\n",
    "  data_min_max = data.copy()\n",
    "  for col in data_min_max.columns.drop('Grade'):\n",
    "      data[col].max()\n",
    "      data[col].min()\n",
    "      data_min_max[col] = ((data_min_max[col] - data[col].min())/(data[col].max()-data[col].min()))\n",
    "  return  data_min_max"
   ]
  },
  {
   "cell_type": "code",
   "execution_count": null,
   "id": "6XQ5SYp48Jlt",
   "metadata": {
    "id": "6XQ5SYp48Jlt"
   },
   "outputs": [],
   "source": [
    "data_mode_min_max = data_min_max(data_mode)\n",
    "data_regression_min_max = data_min_max(data_regression)\n",
    "data_mice_min_max = data_min_max(data_mice)\n"
   ]
  },
  {
   "cell_type": "markdown",
   "id": "mLhx8esNhTid",
   "metadata": {
    "id": "mLhx8esNhTid"
   },
   "source": [
    "# Training"
   ]
  },
  {
   "cell_type": "code",
   "execution_count": null,
   "id": "oVWMFeQuhk37",
   "metadata": {
    "id": "oVWMFeQuhk37"
   },
   "outputs": [],
   "source": [
    "from sklearn.tree import DecisionTreeClassifier\n",
    "from sklearn.svm import SVC\n",
    "from sklearn.linear_model import SGDClassifier\n",
    "from sklearn.model_selection import train_test_split\n",
    "from sklearn.ensemble import RandomForestClassifier"
   ]
  },
  {
   "cell_type": "markdown",
   "id": "lg3cwkfGhXLU",
   "metadata": {
    "id": "lg3cwkfGhXLU"
   },
   "source": [
    "## Spliting dataset\n"
   ]
  },
  {
   "cell_type": "markdown",
   "id": "QJK87uKphfQS",
   "metadata": {
    "id": "QJK87uKphfQS"
   },
   "source": [
    "### Sklearn"
   ]
  },
  {
   "cell_type": "code",
   "execution_count": null,
   "id": "WEN0yYTJhZtv",
   "metadata": {
    "id": "WEN0yYTJhZtv"
   },
   "outputs": [],
   "source": [
    "X = data.iloc[:, :-1]\n",
    "y = data.iloc[:, -1]\n",
    "\n",
    "X_train, X_test, y_train, y_test = train_test_split(X, y, random_state=123, test_size = 0.2, stratify = y)"
   ]
  },
  {
   "cell_type": "markdown",
   "id": "8fsC1TYshpF7",
   "metadata": {
    "id": "8fsC1TYshpF7"
   },
   "source": [
    "### Own method"
   ]
  },
  {
   "cell_type": "code",
   "execution_count": null,
   "id": "KMBcSSS6jXBp",
   "metadata": {
    "id": "KMBcSSS6jXBp"
   },
   "outputs": [],
   "source": [
    "def our_train_test_split(df, test_size):\n",
    "    train_list = []\n",
    "    test_list = []\n",
    "\n",
    "    # shuffle the DataFrame rows\n",
    "    df = df.sample(frac = 1)\n",
    "\n",
    "    grouped_df = df.groupby(df.Grade)\n",
    "\n",
    "    for i, g in grouped_df:\n",
    "        train, test = np.split(g, [int(test_size * len(g))])\n",
    "        train_list.append(train)\n",
    "        test_list.append(test)\n",
    "\n",
    "    final_train = pd.concat(train_list)\n",
    "    final_test = pd.concat(test_list)\n",
    "\n",
    "    X_train = final_train.iloc[:, :-1]\n",
    "    y_train = final_train.iloc[:, -1]\n",
    "\n",
    "    X_test = final_test.iloc[:, :-1]\n",
    "    y_test = final_test.iloc[:, -1]\n",
    "\n",
    "\n",
    "    return X_train, X_test, y_train, y_test\n",
    "\n",
    "X_train, X_test, y_train, y_test = our_train_test_split(data, test_size = .8)\n"
   ]
  },
  {
   "cell_type": "code",
   "execution_count": null,
   "id": "-wFIbvHg94M4",
   "metadata": {
    "id": "-wFIbvHg94M4"
   },
   "outputs": [],
   "source": [
    "X_train_mode_std, X_test_mode_std, y_train_mode_std, y_test_mode_std = our_train_test_split(data_mode_std, test_size = .8)\n",
    "X_train_regression_std, X_test_regression_std, y_train_regression_std, y_test_regression_std = our_train_test_split(data_regression_std, test_size = .8)\n",
    "X_train_mice_std, X_test_mice_std, y_train_mice_std, y_test_mice_std = our_train_test_split(data_mice_std, test_size = .8)\n",
    "\n",
    "X_train_mode_min_max, X_test_mode_min_max, y_train_mode_min_max, y_test_mode_min_max = our_train_test_split(data_mode_min_max, test_size = .8)\n",
    "X_train_regression_min_max, X_test_regression_min_max, y_train_regression_min_max, y_test_regression_min_max = our_train_test_split(data_regression_min_max, test_size = .8)\n",
    "X_train_mice_min_max, X_test_mice_min_max, y_train_mice_min_max, y_test_mice_min_max = our_train_test_split(data_mice_min_max, test_size = .8)"
   ]
  },
  {
   "cell_type": "markdown",
   "id": "LuvAfiydhtO5",
   "metadata": {
    "id": "LuvAfiydhtO5"
   },
   "source": [
    "## Estimators"
   ]
  },
  {
   "cell_type": "markdown",
   "id": "WvI5pm2Thv5V",
   "metadata": {
    "id": "WvI5pm2Thv5V"
   },
   "source": [
    "### SVC"
   ]
  },
  {
   "cell_type": "code",
   "execution_count": null,
   "id": "_g2lq12yiNzH",
   "metadata": {
    "id": "_g2lq12yiNzH"
   },
   "outputs": [],
   "source": [
    "clf_svc_mode_std = SVC(random_state=123).fit(X_train_mode_std, y_train_mode_std)\n",
    "clf_svc_regression_std = SVC(random_state=123).fit(X_train_regression_std, y_train_regression_std)\n",
    "clf_svc_mice_std = SVC(random_state=123).fit(X_train_mice_std, y_train_mice_std)\n",
    "clf_svc_mode_min_max = SVC(random_state=123).fit(X_train_mode_min_max, y_train_mode_min_max)\n",
    "clf_svc_regression_min_max = SVC(random_state=123).fit(X_train_regression_min_max, y_train_regression_min_max)\n",
    "clf_svc_mice_min_max = SVC(random_state=123).fit(X_train_mice_min_max, y_train_mice_min_max)"
   ]
  },
  {
   "cell_type": "code",
   "execution_count": null,
   "id": "XctGwQiciN-S",
   "metadata": {
    "id": "XctGwQiciN-S"
   },
   "outputs": [],
   "source": [
    "clf_svc_mode_std_predictions = clf_svc_mode_std.predict(X_test_mode_std)\n",
    "clf_svc_regression_std_predictions = clf_svc_regression_std.predict(X_test_regression_std)\n",
    "clf_svc_mice_std_predictions  =clf_svc_mice_std.predict(X_test_mice_std)\n",
    "clf_svc_mode_min_max_predictions = clf_svc_mode_min_max.predict(X_test_mode_min_max)\n",
    "clf_svc_regression_min_max_predictions = clf_svc_regression_min_max.predict(X_test_regression_min_max)\n",
    "clf_svc_mice_min_max_predictions = clf_svc_mice_min_max.predict(X_test_mice_min_max)\n"
   ]
  },
  {
   "cell_type": "code",
   "execution_count": null,
   "id": "o_GWGTZPADqM",
   "metadata": {
    "colab": {
     "base_uri": "https://localhost:8080/"
    },
    "id": "o_GWGTZPADqM",
    "outputId": "dbae4e69-cd26-4fae-e32f-5a91a4ef71fe"
   },
   "outputs": [
    {
     "name": "stdout",
     "output_type": "stream",
     "text": [
      "0.8450704225352113\n",
      "0.9342723004694836\n",
      "0.892018779342723\n",
      "0.812206572769953\n",
      "0.8356807511737089\n",
      "0.8309859154929577\n"
     ]
    }
   ],
   "source": [
    "clf_svc_mode_std_score = clf_svc_mode_std.score(X_test_mode_std,y_test_mode_std)\n",
    "print(clf_svc_mode_std_score)\n",
    "\n",
    "clf_svc_regression_std_score = clf_svc_regression_std.score(X_test_regression_std,y_test_regression_std)\n",
    "print(clf_svc_regression_std_score)\n",
    "\n",
    "clf_svc_mice_std_score = clf_svc_mice_std.score(X_test_mice_std,y_test_mice_std)\n",
    "print(clf_svc_mice_std_score)\n",
    "\n",
    "clf_svc_mode_min_max_score = clf_svc_mode_min_max.score(X_test_mode_min_max,y_test_mode_min_max)\n",
    "print(clf_svc_mode_min_max_score)\n",
    "\n",
    "clf_svc_regression_min_max_score = clf_svc_regression_min_max.score(X_test_regression_min_max,y_test_regression_min_max)\n",
    "print(clf_svc_regression_min_max_score)\n",
    "\n",
    "clf_svc_mice_min_max_score = clf_svc_mice_min_max.score(X_test_mice_min_max,y_test_mice_min_max)\n",
    "print(clf_svc_mice_min_max_score)"
   ]
  },
  {
   "cell_type": "markdown",
   "id": "cSKT8vNchx6N",
   "metadata": {
    "id": "cSKT8vNchx6N"
   },
   "source": [
    "### Decision tree"
   ]
  },
  {
   "cell_type": "code",
   "execution_count": null,
   "id": "LeWeDW6aBXz0",
   "metadata": {
    "id": "LeWeDW6aBXz0"
   },
   "outputs": [],
   "source": [
    "clf_dt_mode_std = DecisionTreeClassifier(random_state=123).fit(X_train_mode_std, y_train_mode_std)\n",
    "clf_dt_regression_std = DecisionTreeClassifier(random_state=123).fit(X_train_regression_std, y_train_regression_std)\n",
    "clf_dt_mice_std = DecisionTreeClassifier(random_state=123).fit(X_train_mice_std, y_train_mice_std)\n",
    "clf_dt_mode_min_max = DecisionTreeClassifier(random_state=123).fit(X_train_mode_min_max, y_train_mode_min_max)\n",
    "clf_dt_regression_min_max = DecisionTreeClassifier(random_state=123).fit(X_train_regression_min_max, y_train_regression_min_max)\n",
    "clf_dt_mice_min_max = DecisionTreeClassifier(random_state=123).fit(X_train_mice_min_max, y_train_mice_min_max)"
   ]
  },
  {
   "cell_type": "code",
   "execution_count": null,
   "id": "aQ5H3pVqiOqj",
   "metadata": {
    "id": "aQ5H3pVqiOqj"
   },
   "outputs": [],
   "source": [
    "clf_dt_mode_std_predictions = clf_dt_mode_std.predict(X_test_mode_std)\n",
    "clf_dt_regression_std_predictions = clf_dt_regression_std.predict(X_test_regression_std)\n",
    "clf_dt_mice_std_predictions = clf_dt_mice_std.predict(X_test_mice_std)\n",
    "clf_dt_mode_min_max_predictions = clf_dt_mode_min_max.predict(X_test_mode_min_max)\n",
    "clf_dt_regression_min_max_predictions = clf_dt_regression_min_max.predict(X_test_regression_min_max)\n",
    "clf_dt_mice_min_max_predictions = clf_dt_mice_min_max.predict(X_test_mice_min_max)"
   ]
  },
  {
   "cell_type": "code",
   "execution_count": null,
   "id": "u8qPMzNBiOwK",
   "metadata": {
    "colab": {
     "base_uri": "https://localhost:8080/"
    },
    "id": "u8qPMzNBiOwK",
    "outputId": "105c7f1f-26e3-46ca-a230-7eb2374a9f5b"
   },
   "outputs": [
    {
     "name": "stdout",
     "output_type": "stream",
     "text": [
      "0.9342723004694836\n",
      "0.9483568075117371\n",
      "0.971830985915493\n",
      "0.9342723004694836\n",
      "0.9812206572769953\n",
      "0.9577464788732394\n"
     ]
    }
   ],
   "source": [
    "clf_dt_mode_std_score = clf_dt_mode_std.score(X_test_mode_std,y_test_mode_std)\n",
    "print(clf_dt_mode_std_score)\n",
    "\n",
    "clf_dt_regression_std_score = clf_dt_regression_std.score(X_test_regression_std,y_test_regression_std)\n",
    "print(clf_dt_regression_std_score)\n",
    "\n",
    "clf_dt_mice_std_score = clf_dt_mice_std.score(X_test_mice_std,y_test_mice_std)\n",
    "print(clf_dt_mice_std_score)\n",
    "\n",
    "clf_dt_mode_min_max_score = clf_dt_mode_min_max.score(X_test_mode_min_max,y_test_mode_min_max)\n",
    "print(clf_dt_mode_min_max_score)\n",
    "\n",
    "clf_dt_regression_min_max_score = clf_dt_regression_min_max.score(X_test_regression_min_max,y_test_regression_min_max)\n",
    "print(clf_dt_regression_min_max_score)\n",
    "\n",
    "clf_dt_mice_min_max_score = clf_dt_mice_min_max.score(X_test_mice_min_max,y_test_mice_min_max)\n",
    "print(clf_dt_mice_min_max_score)"
   ]
  },
  {
   "cell_type": "markdown",
   "id": "pccrPbu1h3sp",
   "metadata": {
    "id": "pccrPbu1h3sp"
   },
   "source": [
    "### SGD"
   ]
  },
  {
   "cell_type": "code",
   "execution_count": null,
   "id": "fPuFFBExiPRZ",
   "metadata": {
    "id": "fPuFFBExiPRZ"
   },
   "outputs": [],
   "source": [
    "clf_sgd_mode_std = SGDClassifier(random_state=123).fit(X_train_mode_std, y_train_mode_std)\n",
    "clf_sgd_regression_std = SGDClassifier(random_state=123).fit(X_train_regression_std, y_train_regression_std)\n",
    "clf_sgd_mice_std = SGDClassifier(random_state=123).fit(X_train_mice_std, y_train_mice_std)\n",
    "clf_sgd_mode_min_max = SGDClassifier(random_state=123).fit(X_train_mode_min_max, y_train_mode_min_max)\n",
    "clf_sgd_regression_min_max = SGDClassifier(random_state=123).fit(X_train_regression_min_max, y_train_regression_min_max)\n",
    "clf_sgd_mice_min_max = SGDClassifier(random_state=123).fit(X_train_mice_min_max, y_train_mice_min_max)"
   ]
  },
  {
   "cell_type": "code",
   "execution_count": null,
   "id": "zmKKxAZRiPWV",
   "metadata": {
    "id": "zmKKxAZRiPWV"
   },
   "outputs": [],
   "source": [
    "clf_sgd_mode_std_predictions = clf_sgd_mode_std.predict(X_test_mode_std)\n",
    "clf_sgd_regression_std_predictions = clf_sgd_regression_std.predict(X_test_regression_std)\n",
    "clf_sgd_mice_std_predictions = clf_sgd_mice_std.predict(X_test_mice_std)\n",
    "clf_sgd_mode_min_max_predictions = clf_sgd_mode_min_max.predict(X_test_mode_min_max)\n",
    "clf_sgd_regression_predictions = clf_sgd_regression_min_max.predict(X_test_regression_min_max)\n",
    "clf_sgd_mice_min_max_predictions = clf_sgd_mice_min_max.predict(X_test_mice_min_max)"
   ]
  },
  {
   "cell_type": "code",
   "execution_count": null,
   "id": "MBrrrFo4iPfa",
   "metadata": {
    "colab": {
     "base_uri": "https://localhost:8080/"
    },
    "id": "MBrrrFo4iPfa",
    "outputId": "f6ed71db-4c5d-4c2a-bcef-253cff7ea7a2"
   },
   "outputs": [
    {
     "name": "stdout",
     "output_type": "stream",
     "text": [
      "0.7183098591549296\n",
      "0.8309859154929577\n",
      "0.6948356807511737\n",
      "0.7136150234741784\n",
      "0.7183098591549296\n",
      "0.6807511737089202\n"
     ]
    }
   ],
   "source": [
    "clf_sgd_mode_std_score = clf_sgd_mode_std.score(X_test_mode_std,y_test_mode_std)\n",
    "print(clf_sgd_mode_std_score)\n",
    "\n",
    "clf_sgd_regression_std_score = clf_sgd_regression_std.score(X_test_regression_std,y_test_regression_std)\n",
    "print(clf_sgd_regression_std_score)\n",
    "\n",
    "clf_sgd_mice_std_score = clf_sgd_mice_std.score(X_test_mice_std,y_test_mice_std)\n",
    "print(clf_sgd_mice_std_score)\n",
    "\n",
    "clf_sgd_mode_min_max_score = clf_sgd_mode_min_max.score(X_test_mode_min_max,y_test_mode_min_max)\n",
    "print(clf_sgd_mode_min_max_score)\n",
    "\n",
    "clf_sgd_regression_min_max_score = clf_sgd_regression_min_max.score(X_test_regression_min_max,y_test_regression_min_max)\n",
    "print(clf_sgd_regression_min_max_score)\n",
    "\n",
    "clf_sgd_mice_min_max_score = clf_sgd_mice_min_max.score(X_test_mice_min_max,y_test_mice_min_max)\n",
    "print(clf_sgd_mice_min_max_score)"
   ]
  },
  {
   "cell_type": "markdown",
   "id": "w6X1aKgHhSi9",
   "metadata": {
    "id": "w6X1aKgHhSi9"
   },
   "source": [
    "### Random forest"
   ]
  },
  {
   "cell_type": "code",
   "execution_count": null,
   "id": "KsZy7LG9hS7L",
   "metadata": {
    "colab": {
     "base_uri": "https://localhost:8080/"
    },
    "id": "KsZy7LG9hS7L",
    "outputId": "82009f05-09f7-42a3-b3ba-ac77cf4d2465"
   },
   "outputs": [
    {
     "data": {
      "text/plain": [
       "0.9389671361502347"
      ]
     },
     "execution_count": 38,
     "metadata": {},
     "output_type": "execute_result"
    }
   ],
   "source": [
    "X_train, X_test, y_train, y_test = X_train_mode_std, X_test_mode_std, y_train_mode_std, y_test_mode_std\n",
    "clf_rf = RandomForestClassifier(random_state=123).fit(X_train, y_train)\n",
    "clf_rf_predictions  = clf_rf.predict(X_test)\n",
    "clf_rf_score = clf_rf.score(X_test, y_test)\n",
    "clf_rf_score"
   ]
  },
  {
   "cell_type": "markdown",
   "id": "ZuqmojYDh6lT",
   "metadata": {
    "id": "ZuqmojYDh6lT"
   },
   "source": [
    "### Summary"
   ]
  },
  {
   "cell_type": "code",
   "execution_count": null,
   "id": "PsRZTuEuEVB_",
   "metadata": {
    "colab": {
     "base_uri": "https://localhost:8080/"
    },
    "id": "PsRZTuEuEVB_",
    "outputId": "047fa6e1-299e-47b1-da6b-a31c6c784e76"
   },
   "outputs": [
    {
     "name": "stdout",
     "output_type": "stream",
     "text": [
      "+--------------------+--------------------+--------------------+--------------------+\n",
      "|                    |        SVC         |   Decision tree    |        SGD         |\n",
      "+--------------------+--------------------+--------------------+--------------------+\n",
      "|      mode_std      | 0.8450704225352113 | 0.9342723004694836 | 0.7183098591549296 |\n",
      "|   regression_std   | 0.9342723004694836 | 0.9483568075117371 | 0.8309859154929577 |\n",
      "|      mice_std      | 0.892018779342723  | 0.971830985915493  | 0.6948356807511737 |\n",
      "|    mode_min_max    | 0.812206572769953  | 0.9342723004694836 | 0.7136150234741784 |\n",
      "| regression_min_max | 0.8356807511737089 | 0.9812206572769953 | 0.7183098591549296 |\n",
      "|    mice_min_max    | 0.8309859154929577 | 0.9577464788732394 | 0.6807511737089202 |\n",
      "+--------------------+--------------------+--------------------+--------------------+\n"
     ]
    }
   ],
   "source": [
    "\n",
    "from prettytable import PrettyTable\n",
    " \n",
    "# Specify the Column Names while initializing the Table\n",
    "myTable = PrettyTable([\"\", \"SVC\", \"Decision tree\", \"SGD\"])\n",
    " \n",
    "# Add rows\n",
    "myTable.add_row([\"mode_std\",clf_svc_mode_std_score,clf_dt_mode_std_score,clf_sgd_mode_std_score])\n",
    "myTable.add_row([\"regression_std\",clf_svc_regression_std_score,clf_dt_regression_std_score,clf_sgd_regression_std_score])\n",
    "myTable.add_row([\"mice_std\",clf_svc_mice_std_score,clf_dt_mice_std_score,clf_sgd_mice_std_score ])\n",
    "\n",
    "myTable.add_row([\"mode_min_max\",clf_svc_mode_min_max_score,clf_dt_mode_min_max_score,clf_sgd_mode_min_max_score])\n",
    "myTable.add_row([\"regression_min_max\",clf_svc_regression_min_max_score,clf_dt_regression_min_max_score,clf_sgd_regression_min_max_score ])\n",
    "myTable.add_row([\"mice_min_max\", clf_svc_mice_min_max_score,clf_dt_mice_min_max_score,clf_sgd_mice_min_max_score])\n",
    "\n",
    " \n",
    "print(myTable)"
   ]
  },
  {
   "cell_type": "markdown",
   "id": "OHXvHT6ql41n",
   "metadata": {
    "id": "OHXvHT6ql41n"
   },
   "source": [
    "Najlepsze rezultaty osiągneliśmy przy wykorzystaniu metody Decision tree, \n",
    "\n",
    "*   Najlepsze rezultaty osiągneliśmy przy wykorzystaniu metody Decision tree, \n",
    "podczas gdy najgorsze za pomocą metody SGD. \n",
    "*   W przypadku metody SVC lepsza wyniki osiągnięto przy standaryzacji, natomiast dla pozostałych lepsze wyniki osiągnięto przy wykorzystaniu metody min_max\n",
    "*   Najlepsze wynik osiągnięto, gdy dane zostały uzupełnione za pomocą mody\n",
    "\n"
   ]
  },
  {
   "cell_type": "markdown",
   "id": "DCVe36YzjfeD",
   "metadata": {
    "id": "DCVe36YzjfeD"
   },
   "source": [
    "# Cross Validation"
   ]
  },
  {
   "cell_type": "code",
   "execution_count": null,
   "id": "7Gnze81Yjnap",
   "metadata": {
    "id": "7Gnze81Yjnap"
   },
   "outputs": [],
   "source": [
    "from statistics import mean\n",
    "\n",
    "def my_cross_validate(data_set, n, clf, prediction_column_name):\n",
    "\n",
    "  # divide data into smaller sets\n",
    "  k, m = divmod(len(data_set), n)\n",
    "  dd = list((data_set[i*k+min(i, m):(i+1)*k+min(i+1, m)] for i in range(n)))\n",
    "\n",
    "  X_set = []\n",
    "  y_set = []\n",
    "\n",
    "  for i in dd:\n",
    "    y_set.append(pd.DataFrame(i)[prediction_column_name])\n",
    "    X_set.append(pd.DataFrame(i).drop([prediction_column_name],axis=1))\n",
    "\n",
    "  predictions = []\n",
    "  scores = []\n",
    "\n",
    "  # perform cross validation for every \"box\"\n",
    "  for i in range(n):\n",
    "    # dividing data_ into train and test \n",
    "    X_train = X_set.copy()\n",
    "    X_test = X_train[i]\n",
    "    del X_train[i]\n",
    "    X_train = pd.concat(X_train, sort=False)\n",
    "\n",
    "    y_train = y_set.copy()\n",
    "    y_test = y_train[i]\n",
    "    del y_train[i]\n",
    "    y_train = pd.concat(y_train, sort=False)\n",
    "\n",
    "\n",
    "    # ESTIMATORS\n",
    "    trained_clf = clf(random_state=123).fit(X_train, y_train)\n",
    "    predictions.append(trained_clf.predict(X_test))\n",
    "    scores.append(trained_clf.score(X_test, y_test))\n",
    "\n",
    "  return predictions, mean(scores)"
   ]
  },
  {
   "cell_type": "code",
   "execution_count": null,
   "id": "_8CTEDLLj5Ap",
   "metadata": {
    "id": "_8CTEDLLj5Ap"
   },
   "outputs": [],
   "source": [
    "svc_mode_min_max_predictions, svc_mode_min_score = my_cross_validate(data_mode_min_max, 10, SVC,'Grade')\n",
    "svc_regression_min_max_predictions, svc_regression_min_max_score = my_cross_validate(data_regression_min_max, 10, SVC,'Grade')\n",
    "decission_mice_min_max_tree_predictions, decission_tree_mice_min_max_score = my_cross_validate(data_mice_min_max, 10, DecisionTreeClassifier,'Grade')\n",
    "random_forest_mode_std_predictions, random_forest_mode_std_score = my_cross_validate(data_mode_std, 10, RandomForestClassifier,'Grade')\n",
    "sgd_regression_std_predictions, sgd_regression_std_score = my_cross_validate(data_regression_std, 10, SGDClassifier,'Grade')\n",
    "sgd_mice_std_predictions, sgd_mice_std_score = my_cross_validate(data_mice_std, 10, SGDClassifier,'Grade')"
   ]
  },
  {
   "cell_type": "code",
   "execution_count": null,
   "id": "j8oxq1Hvj8bo",
   "metadata": {
    "colab": {
     "base_uri": "https://localhost:8080/"
    },
    "id": "j8oxq1Hvj8bo",
    "outputId": "c9e04617-6a54-4f16-ade4-090a2ad9697e"
   },
   "outputs": [
    {
     "name": "stdout",
     "output_type": "stream",
     "text": [
      "+-------------------------+--------------------------+----------------+\n",
      "|    normalization type   |          model           |    Accuracy    |\n",
      "+-------------------------+--------------------------+----------------+\n",
      "|      mode, min-max      |      SVC Classifier      | 0.821500449236 |\n",
      "|   regression, min-max   |      SVC Classifier      | 0.858355795148 |\n",
      "|      mice, min-max      | Decision Tree Classifier | 0.954645103324 |\n",
      "|    mode, standarized    | Random Forest Classifier | 0.948984725966 |\n",
      "| regression, standarized |      SGD Classifier      | 0.734591194969 |\n",
      "|    mice, standarized    |      SGD Classifier      | 0.74688230009  |\n",
      "+-------------------------+--------------------------+----------------+\n"
     ]
    }
   ],
   "source": [
    "from prettytable import PrettyTable\n",
    "\n",
    "summaryTable = PrettyTable(['normalization type', 'model', 'Accuracy'])\n",
    "\n",
    "summaryTable.add_row(['mode, min-max', 'SVC Classifier', round(svc_mode_min_score,12)])\n",
    "summaryTable.add_row(['regression, min-max', 'SVC Classifier', round(svc_regression_min_max_score,12)])\n",
    "summaryTable.add_row(['mice, min-max', 'Decision Tree Classifier', round(decission_tree_mice_min_max_score,12)])\n",
    "summaryTable.add_row(['mode, standarized', 'Random Forest Classifier', round(random_forest_mode_std_score,12)])\n",
    "summaryTable.add_row(['regression, standarized', 'SGD Classifier', round(sgd_regression_std_score,12)])\n",
    "summaryTable.add_row(['mice, standarized', 'SGD Classifier', round(sgd_mice_std_score,12)])\n",
    "print(summaryTable)"
   ]
  },
  {
   "cell_type": "markdown",
   "id": "yEyPmfvRczR1",
   "metadata": {
    "id": "yEyPmfvRczR1"
   },
   "source": [
    "# Metrics"
   ]
  },
  {
   "cell_type": "code",
   "execution_count": null,
   "id": "zSzuWxVcZfBS",
   "metadata": {
    "colab": {
     "base_uri": "https://localhost:8080/"
    },
    "id": "zSzuWxVcZfBS",
    "outputId": "23c6a7ad-d6bb-419e-ca07-14aae4258c52"
   },
   "outputs": [
    {
     "data": {
      "text/plain": [
       "<matplotlib.axes._subplots.AxesSubplot at 0x7f493cf9bd90>"
      ]
     },
     "execution_count": 43,
     "metadata": {},
     "output_type": "execute_result"
    },
    {
     "data": {
      "image/png": "[encoded data removed]",
      "text/plain": [
       "<Figure size 720x720 with 1 Axes>"
      ]
     },
     "metadata": {
      "needs_background": "light"
     },
     "output_type": "display_data"
    }
   ],
   "source": [
    "data['Grade'].hist(figsize=(10,10),grid = False)"
   ]
  },
  {
   "cell_type": "code",
   "execution_count": null,
   "id": "3Df-R5SZeaks",
   "metadata": {
    "id": "3Df-R5SZeaks"
   },
   "outputs": [],
   "source": [
    "y_test  = y_test_mice_std\n",
    "predictions = clf_sgd_mode_std_predictions"
   ]
  },
  {
   "cell_type": "markdown",
   "id": "EQ3x7x_neEJ_",
   "metadata": {
    "id": "EQ3x7x_neEJ_"
   },
   "source": [
    "## Confusion matrix"
   ]
  },
  {
   "cell_type": "markdown",
   "id": "4PgnjmM2PIMg",
   "metadata": {
    "id": "4PgnjmM2PIMg"
   },
   "source": [
    "### From sklearn"
   ]
  },
  {
   "cell_type": "code",
   "execution_count": null,
   "id": "blVZaRoNeGzN",
   "metadata": {
    "colab": {
     "base_uri": "https://localhost:8080/"
    },
    "id": "blVZaRoNeGzN",
    "outputId": "1287a27f-8ebb-497b-85fb-1fdd6ecf8d8c"
   },
   "outputs": [
    {
     "name": "stdout",
     "output_type": "stream",
     "text": [
      "[[15 29  8]\n",
      " [ 5 75  6]\n",
      " [ 4  8 63]]\n"
     ]
    }
   ],
   "source": [
    "from sklearn.metrics import confusion_matrix\n",
    "from sklearn.metrics import ConfusionMatrixDisplay\n",
    "\n",
    "c_m= confusion_matrix(y_test, predictions)\n",
    "print(c_m)"
   ]
  },
  {
   "cell_type": "markdown",
   "id": "oOFHfPl9PPmg",
   "metadata": {
    "id": "oOFHfPl9PPmg"
   },
   "source": [
    "### Our Confusin matrix\n"
   ]
  },
  {
   "cell_type": "code",
   "execution_count": null,
   "id": "QmG2qyHbfY91",
   "metadata": {
    "colab": {
     "base_uri": "https://localhost:8080/"
    },
    "id": "QmG2qyHbfY91",
    "outputId": "e7b7f731-0a77-4d65-9a54-570b1783eab1"
   },
   "outputs": [
    {
     "data": {
      "text/html": [
       "\n",
       "  <div id=\"df-7f329bcf-57ae-42c5-96f3-5f76f7caa29d\">\n",
       "    <div class=\"colab-df-container\">\n",
       "      <div>\n",
       "<style scoped>\n",
       "    .dataframe tbody tr th:only-of-type {\n",
       "        vertical-align: middle;\n",
       "    }\n",
       "\n",
       "    .dataframe tbody tr th {\n",
       "        vertical-align: top;\n",
       "    }\n",
       "\n",
       "    .dataframe thead th {\n",
       "        text-align: right;\n",
       "    }\n",
       "</style>\n",
       "<table border=\"1\" class=\"dataframe\">\n",
       "  <thead>\n",
       "    <tr style=\"text-align: right;\">\n",
       "      <th>col_0</th>\n",
       "      <th>0</th>\n",
       "      <th>1</th>\n",
       "      <th>2</th>\n",
       "    </tr>\n",
       "    <tr>\n",
       "      <th>Grade</th>\n",
       "      <th></th>\n",
       "      <th></th>\n",
       "      <th></th>\n",
       "    </tr>\n",
       "  </thead>\n",
       "  <tbody>\n",
       "    <tr>\n",
       "      <th>0</th>\n",
       "      <td>15</td>\n",
       "      <td>29</td>\n",
       "      <td>8</td>\n",
       "    </tr>\n",
       "    <tr>\n",
       "      <th>1</th>\n",
       "      <td>5</td>\n",
       "      <td>75</td>\n",
       "      <td>6</td>\n",
       "    </tr>\n",
       "    <tr>\n",
       "      <th>2</th>\n",
       "      <td>4</td>\n",
       "      <td>8</td>\n",
       "      <td>63</td>\n",
       "    </tr>\n",
       "  </tbody>\n",
       "</table>\n",
       "</div>\n",
       "      <button class=\"colab-df-convert\" onclick=\"convertToInteractive('df-7f329bcf-57ae-42c5-96f3-5f76f7caa29d')\"\n",
       "              title=\"Convert this dataframe to an interactive table.\"\n",
       "              style=\"display:none;\">\n",
       "        \n",
       "  <svg xmlns=\"http://www.w3.org/2000/svg\" height=\"24px\"viewBox=\"0 0 24 24\"\n",
       "       width=\"24px\">\n",
       "    <path d=\"M0 0h24v24H0V0z\" fill=\"none\"/>\n",
       "    <path d=\"M18.56 5.44l.94 2.06.94-2.06 2.06-.94-2.06-.94-.94-2.06-.94 2.06-2.06.94zm-11 1L8.5 8.5l.94-2.06 2.06-.94-2.06-.94L8.5 2.5l-.94 2.06-2.06.94zm10 10l.94 2.06.94-2.06 2.06-.94-2.06-.94-.94-2.06-.94 2.06-2.06.94z\"/><path d=\"M17.41 7.96l-1.37-1.37c-.4-.4-.92-.59-1.43-.59-.52 0-1.04.2-1.43.59L10.3 9.45l-7.72 7.72c-.78.78-.78 2.05 0 2.83L4 21.41c.39.39.9.59 1.41.59.51 0 1.02-.2 1.41-.59l7.78-7.78 2.81-2.81c.8-.78.8-2.07 0-2.86zM5.41 20L4 18.59l7.72-7.72 1.47 1.35L5.41 20z\"/>\n",
       "  </svg>\n",
       "      </button>\n",
       "      \n",
       "  <style>\n",
       "    .colab-df-container {\n",
       "      display:flex;\n",
       "      flex-wrap:wrap;\n",
       "      gap: 12px;\n",
       "    }\n",
       "\n",
       "    .colab-df-convert {\n",
       "      background-color: #E8F0FE;\n",
       "      border: none;\n",
       "      border-radius: 50%;\n",
       "      cursor: pointer;\n",
       "      display: none;\n",
       "      fill: #1967D2;\n",
       "      height: 32px;\n",
       "      padding: 0 0 0 0;\n",
       "      width: 32px;\n",
       "    }\n",
       "\n",
       "    .colab-df-convert:hover {\n",
       "      background-color: #E2EBFA;\n",
       "      box-shadow: 0px 1px 2px rgba(60, 64, 67, 0.3), 0px 1px 3px 1px rgba(60, 64, 67, 0.15);\n",
       "      fill: #174EA6;\n",
       "    }\n",
       "\n",
       "    [theme=dark] .colab-df-convert {\n",
       "      background-color: #3B4455;\n",
       "      fill: #D2E3FC;\n",
       "    }\n",
       "\n",
       "    [theme=dark] .colab-df-convert:hover {\n",
       "      background-color: #434B5C;\n",
       "      box-shadow: 0px 1px 3px 1px rgba(0, 0, 0, 0.15);\n",
       "      filter: drop-shadow(0px 1px 2px rgba(0, 0, 0, 0.3));\n",
       "      fill: #FFFFFF;\n",
       "    }\n",
       "  </style>\n",
       "\n",
       "      <script>\n",
       "        const buttonEl =\n",
       "          document.querySelector('#df-7f329bcf-57ae-42c5-96f3-5f76f7caa29d button.colab-df-convert');\n",
       "        buttonEl.style.display =\n",
       "          google.colab.kernel.accessAllowed ? 'block' : 'none';\n",
       "\n",
       "        async function convertToInteractive(key) {\n",
       "          const element = document.querySelector('#df-7f329bcf-57ae-42c5-96f3-5f76f7caa29d');\n",
       "          const dataTable =\n",
       "            await google.colab.kernel.invokeFunction('convertToInteractive',\n",
       "                                                     [key], {});\n",
       "          if (!dataTable) return;\n",
       "\n",
       "          const docLinkHtml = 'Like what you see? Visit the ' +\n",
       "            '<a target=\"_blank\" href=https://colab.research.google.com/notebooks/data_table.ipynb>data table notebook</a>'\n",
       "            + ' to learn more about interactive tables.';\n",
       "          element.innerHTML = '';\n",
       "          dataTable['output_type'] = 'display_data';\n",
       "          await google.colab.output.renderOutput(dataTable, element);\n",
       "          const docLink = document.createElement('div');\n",
       "          docLink.innerHTML = docLinkHtml;\n",
       "          element.appendChild(docLink);\n",
       "        }\n",
       "      </script>\n",
       "    </div>\n",
       "  </div>\n",
       "  "
      ],
      "text/plain": [
       "col_0   0   1   2\n",
       "Grade            \n",
       "0      15  29   8\n",
       "1       5  75   6\n",
       "2       4   8  63"
      ]
     },
     "execution_count": 46,
     "metadata": {},
     "output_type": "execute_result"
    }
   ],
   "source": [
    "def out_cf(y_test,predictions):\n",
    "  return pd.crosstab(y_test,predictions)\n",
    "out_cf(y_test,predictions)"
   ]
  },
  {
   "cell_type": "markdown",
   "id": "1fQkhekxdt1S",
   "metadata": {
    "id": "1fQkhekxdt1S"
   },
   "source": [
    "### F1-score"
   ]
  },
  {
   "cell_type": "markdown",
   "id": "HhnE-Bcnd7vB",
   "metadata": {
    "id": "HhnE-Bcnd7vB"
   },
   "source": [
    "#### F1-score from sklearn"
   ]
  },
  {
   "cell_type": "code",
   "execution_count": null,
   "id": "46p4vSXbeAFa",
   "metadata": {
    "colab": {
     "base_uri": "https://localhost:8080/"
    },
    "id": "46p4vSXbeAFa",
    "outputId": "778e5460-20b2-4907-de3a-5cd8931949d3"
   },
   "outputs": [
    {
     "data": {
      "text/plain": [
       "0.6604199893673578"
      ]
     },
     "execution_count": 47,
     "metadata": {},
     "output_type": "execute_result"
    }
   ],
   "source": [
    "from sklearn.metrics import f1_score\n",
    "f1_score(y_test, predictions, average='macro')"
   ]
  },
  {
   "cell_type": "markdown",
   "id": "VyAdJxARd2X1",
   "metadata": {
    "id": "VyAdJxARd2X1"
   },
   "source": [
    "#### Own F1-score"
   ]
  },
  {
   "cell_type": "code",
   "execution_count": null,
   "id": "lz5so_GtdzD7",
   "metadata": {
    "id": "lz5so_GtdzD7"
   },
   "outputs": [],
   "source": [
    "def our_f1_score(y_test, predictions):\n",
    "  cm = pd.crosstab(y_test,predictions)\n",
    "  f1_score = 0\n",
    "  for i in range(0,y_test.nunique()):\n",
    "    fp = 0\n",
    "    fn = 0\n",
    "    tp = 0\n",
    "    for j in range(0,y_test.nunique()):\n",
    "      if i != j:\n",
    "        fp += cm[i][j]\n",
    "        fn += cm[j][i]\n",
    "      else:\n",
    "        tp = cm [i][j]\n",
    "    f1 = 2*tp/(2*tp + fp + fn )\n",
    "    f1_score += f1\n",
    "  f1_score =  f1_score/y_test.nunique()\n",
    "  return f1_score"
   ]
  },
  {
   "cell_type": "code",
   "execution_count": null,
   "id": "PHcA_A5Td4jh",
   "metadata": {
    "colab": {
     "base_uri": "https://localhost:8080/"
    },
    "id": "PHcA_A5Td4jh",
    "outputId": "d651b616-644a-4cb1-fb1f-196ee6324e01"
   },
   "outputs": [
    {
     "data": {
      "text/plain": [
       "0.6604199893673578"
      ]
     },
     "execution_count": 49,
     "metadata": {},
     "output_type": "execute_result"
    }
   ],
   "source": [
    "our_f1_score(y_test, predictions)"
   ]
  },
  {
   "cell_type": "markdown",
   "id": "uj4gZmZERndL",
   "metadata": {
    "id": "uj4gZmZERndL"
   },
   "source": [
    "## Accuracy"
   ]
  },
  {
   "cell_type": "markdown",
   "id": "S_CJKuN0RrLR",
   "metadata": {
    "id": "S_CJKuN0RrLR"
   },
   "source": [
    "### From sklearn"
   ]
  },
  {
   "cell_type": "code",
   "execution_count": null,
   "id": "fS8h_NFaRiNd",
   "metadata": {
    "colab": {
     "base_uri": "https://localhost:8080/"
    },
    "id": "fS8h_NFaRiNd",
    "outputId": "dd524652-5de8-47bd-b2fc-3ee8b1340869"
   },
   "outputs": [
    {
     "data": {
      "text/plain": [
       "0.7183098591549296"
      ]
     },
     "execution_count": 50,
     "metadata": {},
     "output_type": "execute_result"
    }
   ],
   "source": [
    "from sklearn.metrics import accuracy_score\n",
    "accuracy_score(y_test, predictions)"
   ]
  },
  {
   "cell_type": "markdown",
   "id": "q3GIqVplRxNF",
   "metadata": {
    "id": "q3GIqVplRxNF"
   },
   "source": [
    "### Our accuracy "
   ]
  },
  {
   "cell_type": "code",
   "execution_count": null,
   "id": "HlTETiWvQOaq",
   "metadata": {
    "id": "HlTETiWvQOaq"
   },
   "outputs": [],
   "source": [
    "def our_accuracy(y_test,predictions):\n",
    "  cm = pd.crosstab(y_test,predictions)\n",
    "  cm = cm.to_numpy()\n",
    "  accuracy = cm.diagonal().sum()/cm.sum()\n",
    "  return accuracy\n"
   ]
  },
  {
   "cell_type": "code",
   "execution_count": null,
   "id": "TIIN70yuST0l",
   "metadata": {
    "colab": {
     "base_uri": "https://localhost:8080/"
    },
    "id": "TIIN70yuST0l",
    "outputId": "cecd5621-ebde-47a8-ffa7-7d5973baf94c"
   },
   "outputs": [
    {
     "data": {
      "text/plain": [
       "0.7183098591549296"
      ]
     },
     "execution_count": 52,
     "metadata": {},
     "output_type": "execute_result"
    }
   ],
   "source": [
    "our_accuracy(y_test,predictions)"
   ]
  },
  {
   "cell_type": "markdown",
   "id": "F_1ZRXyRfCMR",
   "metadata": {
    "id": "F_1ZRXyRfCMR"
   },
   "source": [
    "## Summary"
   ]
  },
  {
   "cell_type": "code",
   "execution_count": null,
   "id": "WcobUp3jfD7j",
   "metadata": {
    "colab": {
     "base_uri": "https://localhost:8080/"
    },
    "id": "WcobUp3jfD7j",
    "outputId": "2de0c960-b652-4cb1-dda7-66bfdfe91a01"
   },
   "outputs": [
    {
     "name": "stdout",
     "output_type": "stream",
     "text": [
      "+---------------+--------------------+--------------------+\n",
      "|               |      F1-score      |      Accuracy      |\n",
      "+---------------+--------------------+--------------------+\n",
      "|      SVC      | 0.8408198803968737 | 0.8450704225352113 |\n",
      "| Decision tree | 0.9275663275038957 | 0.9342723004694836 |\n",
      "|      SGD      | 0.6604199893673578 | 0.7183098591549296 |\n",
      "| Random Forest | 0.9322974101921471 | 0.9389671361502347 |\n",
      "+---------------+--------------------+--------------------+\n"
     ]
    }
   ],
   "source": [
    "\n",
    "from prettytable import PrettyTable\n",
    " \n",
    "\n",
    "\n",
    "y_test  = y_test_mice_std\n",
    "\n",
    "# Specify the Column Names while initializing the Table\n",
    "myTable = PrettyTable([\"\", \"F1-score\", \"Accuracy\"])\n",
    " \n",
    "# Add rows\n",
    "\n",
    "\n",
    "\n",
    "predictions = clf_svc_mode_std_predictions\n",
    "myTable.add_row([\"SVC\",our_f1_score(y_test, predictions),our_accuracy(y_test,predictions)])\n",
    "\n",
    "predictions = clf_dt_mode_std_predictions\n",
    "myTable.add_row([\"Decision tree\",our_f1_score(y_test, predictions),our_accuracy(y_test,predictions)])\n",
    "\n",
    "predictions = clf_sgd_mode_std_predictions\n",
    "myTable.add_row([\"SGD\",our_f1_score(y_test, predictions),our_accuracy(y_test,predictions)])\n",
    "\n",
    "predictions = clf_rf_predictions \n",
    "myTable.add_row([\"Random Forest\",our_f1_score(y_test, predictions),our_accuracy(y_test,predictions)])\n",
    "\n",
    "\n",
    "\n",
    " \n",
    "print(myTable)"
   ]
  },
  {
   "cell_type": "markdown",
   "id": "bAghD38fl3BB",
   "metadata": {
    "id": "bAghD38fl3BB"
   },
   "source": []
  },
  {
   "cell_type": "markdown",
   "id": "Ajqiq--nOo_r",
   "metadata": {
    "id": "Ajqiq--nOo_r"
   },
   "source": [
    "# Team teaching"
   ]
  },
  {
   "cell_type": "code",
   "execution_count": null,
   "id": "gl5i-iAvQAaf",
   "metadata": {
    "id": "gl5i-iAvQAaf"
   },
   "outputs": [],
   "source": [
    "import time\n",
    "from sklearn.tree import DecisionTreeClassifier\n",
    "from sklearn.svm import SVC\n",
    "from sklearn.linear_model import SGDClassifier, LogisticRegression\n",
    "from sklearn.model_selection import train_test_split\n",
    "from sklearn.ensemble import RandomForestClassifier, VotingClassifier, StackingClassifier, BaggingClassifier\n",
    "from sklearn.metrics import f1_score\n",
    "import xgboost as xgb"
   ]
  },
  {
   "cell_type": "code",
   "execution_count": null,
   "id": "ICljzd-shoUF",
   "metadata": {
    "id": "ICljzd-shoUF"
   },
   "outputs": [],
   "source": [
    "X_train, X_test, y_train, y_test = X_train_mode_std, X_test_mode_std, y_train_mode_std, y_test_mode_std"
   ]
  },
  {
   "cell_type": "code",
   "execution_count": null,
   "id": "7ZaeqFxGO2yZ",
   "metadata": {
    "id": "7ZaeqFxGO2yZ"
   },
   "outputs": [],
   "source": [
    "def time_measure(func):\n",
    "        t = time.process_time()\n",
    "        scores = []\n",
    "        for i in range(2):\n",
    "          score = func()\n",
    "          scores.append(score)\n",
    "        score = np.array(scores).mean()\n",
    "        elapsed_time = time.process_time() - t\n",
    "      \n",
    "        print(\"Time: \" + str(elapsed_time))\n",
    "        print(\"Score: \" + str(score))\n",
    "   "
   ]
  },
  {
   "cell_type": "code",
   "execution_count": null,
   "id": "-FMxPy0dhFho",
   "metadata": {
    "colab": {
     "base_uri": "https://localhost:8080/"
    },
    "id": "-FMxPy0dhFho",
    "outputId": "432bd1e7-3f24-43a6-dddf-a018c958d31a"
   },
   "outputs": [
    {
     "name": "stdout",
     "output_type": "stream",
     "text": [
      "Time: 0.04549384499999576\n",
      "Score: 0.8408198803968737\n"
     ]
    }
   ],
   "source": [
    "def svc_clf():\n",
    "    clf = SVC()\n",
    "    clf.fit(X_train, y_train)\n",
    "    predictions = clf.predict(X_test)\n",
    "    return f1_score(y_test, predictions, average='macro')\n",
    "\n",
    "time_measure(svc_clf)"
   ]
  },
  {
   "cell_type": "code",
   "execution_count": null,
   "id": "xfKdtz2iUsyq",
   "metadata": {
    "colab": {
     "base_uri": "https://localhost:8080/"
    },
    "id": "xfKdtz2iUsyq",
    "outputId": "45a5c282-1695-42cb-d71d-c8c7f137ab56"
   },
   "outputs": [
    {
     "name": "stdout",
     "output_type": "stream",
     "text": [
      "Time: 0.037663487999999745\n",
      "Score: 0.7469958315704207\n"
     ]
    }
   ],
   "source": [
    "def sgd_clf():\n",
    "    clf = SGDClassifier(n_jobs=-1)\n",
    "    clf.fit(X_train, y_train)\n",
    "    predictions = clf.predict(X_test)\n",
    "    return f1_score(y_test, predictions, average='macro')\n",
    "\n",
    "time_measure(sgd_clf)"
   ]
  },
  {
   "cell_type": "code",
   "execution_count": null,
   "id": "aGGfZ7s3Us8H",
   "metadata": {
    "colab": {
     "base_uri": "https://localhost:8080/"
    },
    "id": "aGGfZ7s3Us8H",
    "outputId": "6bb288ab-e09c-4e11-a99c-ae2bee364939"
   },
   "outputs": [
    {
     "name": "stdout",
     "output_type": "stream",
     "text": [
      "Time: 0.010484991999994975\n",
      "Score: 0.9254687138768043\n"
     ]
    }
   ],
   "source": [
    "def dt_clf():\n",
    "    clf =  DecisionTreeClassifier()\n",
    "    clf.fit(X_train, y_train)\n",
    "    predictions = clf.predict(X_test)\n",
    "    return f1_score(y_test, predictions, average='macro')\n",
    "\n",
    "time_measure(dt_clf)"
   ]
  },
  {
   "cell_type": "code",
   "execution_count": null,
   "id": "6EqAgkReQTVP",
   "metadata": {
    "colab": {
     "base_uri": "https://localhost:8080/"
    },
    "id": "6EqAgkReQTVP",
    "outputId": "2ae85d5d-f25e-4ef7-fa95-4a9a57a598ad"
   },
   "outputs": [
    {
     "name": "stdout",
     "output_type": "stream",
     "text": [
      "Time: 0.5976781279999983\n",
      "Score: 0.9350786505638589\n"
     ]
    }
   ],
   "source": [
    "def rf_clf():\n",
    "    clf = RandomForestClassifier(n_jobs=-1)\n",
    "    clf.fit(X_train, y_train)\n",
    "    predictions = clf.predict(X_test)\n",
    "    return f1_score(y_test, predictions, average='macro')\n",
    "\n",
    "time_measure(rf_clf)"
   ]
  },
  {
   "cell_type": "markdown",
   "id": "7gndwT4RYGmg",
   "metadata": {
    "id": "7gndwT4RYGmg"
   },
   "source": [
    "## Voting Classifier"
   ]
  },
  {
   "cell_type": "code",
   "execution_count": null,
   "id": "in5x8sHuYLxf",
   "metadata": {
    "colab": {
     "base_uri": "https://localhost:8080/"
    },
    "id": "in5x8sHuYLxf",
    "outputId": "fa4ce8ca-beba-4ae1-80a0-dc57afcfc11a"
   },
   "outputs": [
    {
     "name": "stdout",
     "output_type": "stream",
     "text": [
      "Time: 0.2124264199999999\n",
      "Score: 0.9322974101921471\n"
     ]
    }
   ],
   "source": [
    "def voting_classifier():\n",
    "  clf1 = DecisionTreeClassifier()\n",
    "  clf2 = RandomForestClassifier(n_jobs=-1)\n",
    "  clf3 = SVC()\n",
    "\n",
    "  voting_clf= VotingClassifier(estimators=[('dt', clf1),(\"rf\",clf2),('svc', clf3)], voting = 'hard',n_jobs=-1).fit(X_train, y_train)\n",
    "  predictions = voting_clf.predict(X_test)\n",
    "  return f1_score(y_test, predictions, average='macro')\n",
    "\n",
    "time_measure(voting_classifier)"
   ]
  },
  {
   "cell_type": "markdown",
   "id": "bQKELG_0hpwv",
   "metadata": {
    "id": "bQKELG_0hpwv"
   },
   "source": [
    "## Stacking Classifier"
   ]
  },
  {
   "cell_type": "code",
   "execution_count": null,
   "id": "grbEDyaIhrDT",
   "metadata": {
    "colab": {
     "base_uri": "https://localhost:8080/"
    },
    "id": "grbEDyaIhrDT",
    "outputId": "fde59b68-9ceb-49a5-e05d-383b8998d2fe"
   },
   "outputs": [
    {
     "name": "stdout",
     "output_type": "stream",
     "text": [
      "Time: 0.13574185200000244\n",
      "Score: 0.9345931485575625\n"
     ]
    }
   ],
   "source": [
    "\n",
    "def stacking_classifier():\n",
    "\n",
    "  stacking_clf = StackingClassifier(estimators=[\n",
    "                                    ('dt',DecisionTreeClassifier()),   \n",
    "                                    ('rf',RandomForestClassifier(n_jobs=-1))\n",
    "  ], final_estimator = LogisticRegression(n_jobs=-1), n_jobs=-1).fit(X_train, y_train)\n",
    "\n",
    "  predictions = stacking_clf.predict(X_test)\n",
    "  return f1_score(y_test, predictions, average='macro')\n",
    "\n",
    "time_measure(stacking_classifier)\n"
   ]
  },
  {
   "cell_type": "markdown",
   "id": "aiiiIP5zprAr",
   "metadata": {
    "id": "aiiiIP5zprAr"
   },
   "source": [
    "## Bagging Classifier"
   ]
  },
  {
   "cell_type": "code",
   "execution_count": null,
   "id": "5mSnA5Z5pyZS",
   "metadata": {
    "colab": {
     "base_uri": "https://localhost:8080/"
    },
    "id": "5mSnA5Z5pyZS",
    "outputId": "bfc8d7f0-cfc8-4645-96ab-9650d3b7b5f4"
   },
   "outputs": [
    {
     "name": "stdout",
     "output_type": "stream",
     "text": [
      "Time: 16.898777771\n",
      "Score: 0.9376889875447034\n"
     ]
    }
   ],
   "source": [
    "\n",
    "def bagging_classifier():\n",
    "\n",
    "  bagging_clf = BaggingClassifier(\n",
    "            base_estimator = RandomForestClassifier(n_jobs=-1),\n",
    "            n_estimators=100,\n",
    "            oob_score= True,\n",
    "            bootstrap = True,\n",
    "            n_jobs = -1).fit(X_train, y_train)\n",
    "  \n",
    "  predictions = bagging_clf.predict(X_test)\n",
    "  return f1_score(y_test, predictions, average='macro')\n",
    "\n",
    "time_measure(bagging_classifier)"
   ]
  },
  {
   "cell_type": "markdown",
   "id": "WqKHsnmXrGW4",
   "metadata": {
    "id": "WqKHsnmXrGW4"
   },
   "source": [
    "## Xgboost"
   ]
  },
  {
   "cell_type": "code",
   "execution_count": null,
   "id": "hLPtiAiRrLEX",
   "metadata": {
    "colab": {
     "base_uri": "https://localhost:8080/"
    },
    "id": "hLPtiAiRrLEX",
    "outputId": "7419fd1c-37f4-417e-a369-faff91233d53"
   },
   "outputs": [
    {
     "name": "stdout",
     "output_type": "stream",
     "text": [
      "Time: 0.402671189000003\n",
      "Score: 0.948531247450188\n"
     ]
    }
   ],
   "source": [
    "def xgboost_classifier():\n",
    "\n",
    "  xga_clf = xgb.XGBClassifier(\n",
    "                          n_estimators = 100, \n",
    "                          n_jobs = -1\n",
    "                        ).fit(X_train, y_train)\n",
    " \n",
    "  \n",
    "  predictions = xga_clf.predict(X_test)\n",
    "  return f1_score(y_test, predictions, average='macro')\n",
    "\n",
    "time_measure(xgboost_classifier)"
   ]
  },
  {
   "cell_type": "markdown",
   "id": "WLqBc1xuoGbn",
   "metadata": {
    "id": "WLqBc1xuoGbn"
   },
   "source": [
    "All of solutions have similar results (best for Stacking Classifier, which also was the fastest one). The worst one was Bagging Classifier, with the worst score and time"
   ]
  },
  {
   "cell_type": "markdown",
   "id": "mBb3hxo2bp-3",
   "metadata": {
    "id": "mBb3hxo2bp-3"
   },
   "source": [
    "# Optimalization"
   ]
  },
  {
   "cell_type": "markdown",
   "id": "ix_aXzyTkqFl",
   "metadata": {
    "id": "ix_aXzyTkqFl"
   },
   "source": [
    "### Corelation Matrix"
   ]
  },
  {
   "cell_type": "code",
   "execution_count": null,
   "id": "oN9klcHhkxid",
   "metadata": {
    "colab": {
     "base_uri": "https://localhost:8080/",
     "height": 316
    },
    "id": "oN9klcHhkxid",
    "outputId": "6f8d635c-2f61-40a8-d46f-4e70ed13a8ec"
   },
   "outputs": [
    {
     "data": {
      "image/png": "[encoded data removed]",
      "text/plain": [
       "<Figure size 432x288 with 2 Axes>"
      ]
     },
     "metadata": {
      "needs_background": "light"
     },
     "output_type": "display_data"
    }
   ],
   "source": [
    "corrMatrix = data.corr()\n",
    "sns.heatmap(corrMatrix, annot=True)\n",
    "plt.show()"
   ]
  },
  {
   "cell_type": "code",
   "execution_count": null,
   "id": "ovgXoUVfk6Dl",
   "metadata": {
    "colab": {
     "base_uri": "https://localhost:8080/",
     "height": 1000
    },
    "id": "ovgXoUVfk6Dl",
    "outputId": "334f8616-9100-4b4d-c89d-f3f5d3903cef"
   },
   "outputs": [
    {
     "data": {
      "text/plain": [
       "array([[<matplotlib.axes._subplots.AxesSubplot object at 0x7f493fe80490>,\n",
       "        <matplotlib.axes._subplots.AxesSubplot object at 0x7f4933681820>,\n",
       "        <matplotlib.axes._subplots.AxesSubplot object at 0x7f4940112fa0>],\n",
       "       [<matplotlib.axes._subplots.AxesSubplot object at 0x7f4943ad99a0>,\n",
       "        <matplotlib.axes._subplots.AxesSubplot object at 0x7f49439263d0>,\n",
       "        <matplotlib.axes._subplots.AxesSubplot object at 0x7f494352e580>],\n",
       "       [<matplotlib.axes._subplots.AxesSubplot object at 0x7f494352eca0>,\n",
       "        <matplotlib.axes._subplots.AxesSubplot object at 0x7f49406de160>,\n",
       "        <matplotlib.axes._subplots.AxesSubplot object at 0x7f4940321700>]],\n",
       "      dtype=object)"
      ]
     },
     "execution_count": 66,
     "metadata": {},
     "output_type": "execute_result"
    },
    {
     "data": {
      "image/png": "[encoded data removed]",
      "text/plain": [
       "<Figure size 1440x1080 with 9 Axes>"
      ]
     },
     "metadata": {
      "needs_background": "light"
     },
     "output_type": "display_data"
    }
   ],
   "source": [
    "data.hist(figsize=(20,15),grid = False)"
   ]
  },
  {
   "cell_type": "markdown",
   "id": "o5WCNBFWhXng",
   "metadata": {
    "id": "o5WCNBFWhXng"
   },
   "source": [
    "We can observe on the correlation matrix that features pH and Temperature have low correlation coefficients. On the histogram, this is represented as an uneven distribution of values. In the case of Temperature, it is a right-handed graph, and in the case of pH, the vast majority of values are contained in a single bin, which is in the range of 6.25pH - 6.75pH. Therefore, for optimization, we will get rid of the variables ph and Temperature"
   ]
  },
  {
   "cell_type": "code",
   "execution_count": null,
   "id": "vYElcX1vj9Xf",
   "metadata": {
    "colab": {
     "base_uri": "https://localhost:8080/"
    },
    "id": "vYElcX1vj9Xf",
    "outputId": "c4d6aae9-0f9e-47c7-9a4d-2d5d1b366b23"
   },
   "outputs": [
    {
     "name": "stdout",
     "output_type": "stream",
     "text": [
      "Time: 0.6626405359999694\n",
      "Score: 0.9389671361502347\n"
     ]
    }
   ],
   "source": [
    "def reference_model():\n",
    "  clf_rf = RandomForestClassifier(random_state=123).fit(X_train_mode_std, y_train_mode_std)\n",
    "  clf_rf_predictions  = clf_rf.predict(X_test_mode_std)\n",
    "  return clf_rf.score(X_test_mode_std, y_test_mode_std)\n",
    "\n",
    "time_measure(reference_model)"
   ]
  },
  {
   "cell_type": "code",
   "execution_count": null,
   "id": "HkiKaRS2ikDr",
   "metadata": {
    "id": "HkiKaRS2ikDr"
   },
   "outputs": [],
   "source": [
    "data_mode_std_correlation = data_mode_std.drop(['pH', 'Temprature'], axis = 1)\n",
    "X_train_mode_std_correlation, X_test_mode_std_correlation, y_train_mode_std_correlation, y_test_mode_std_correlation = our_train_test_split(data_mode_std_correlation, test_size = .8)"
   ]
  },
  {
   "cell_type": "code",
   "execution_count": null,
   "id": "K2TS4nF4jfzU",
   "metadata": {
    "colab": {
     "base_uri": "https://localhost:8080/"
    },
    "id": "K2TS4nF4jfzU",
    "outputId": "a6d2af8b-2293-47d7-aab1-64d1c013a008"
   },
   "outputs": [
    {
     "name": "stdout",
     "output_type": "stream",
     "text": [
      "Time: 0.3659828609999991\n",
      "Score: 0.704225352112676\n"
     ]
    }
   ],
   "source": [
    "def reference_model():\n",
    "  clf_rf = RandomForestClassifier(random_state=123).fit(X_train_mode_std_correlation, y_train_mode_std_correlation)\n",
    "  clf_rf_predictions  = clf_rf.predict(X_test_mode_std_correlation)\n",
    "  return clf_rf.score(X_test_mode_std_correlation, y_test_mode_std_correlation)\n",
    "\n",
    "time_measure(reference_model)"
   ]
  },
  {
   "cell_type": "markdown",
   "id": "W8ZCp-MEmBSZ",
   "metadata": {
    "id": "W8ZCp-MEmBSZ"
   },
   "source": [
    "After discarding the pH and Temperature parameters, we can see a very small decrease in function execution time and a large decrease in Score by 23%"
   ]
  },
  {
   "cell_type": "markdown",
   "id": "tY0VwUNOoKCa",
   "metadata": {
    "id": "tY0VwUNOoKCa"
   },
   "source": [
    "### Unvariate Testing"
   ]
  },
  {
   "cell_type": "code",
   "execution_count": null,
   "id": "QoY5Uo5coOAZ",
   "metadata": {
    "id": "QoY5Uo5coOAZ"
   },
   "outputs": [],
   "source": [
    "import pandas as pd\n",
    "import numpy as np\n",
    "import matplotlib.pyplot as plt\n",
    "import seaborn as sns\n",
    "from sklearn.model_selection import train_test_split\n",
    "from sklearn.ensemble import ExtraTreesClassifier, RandomForestClassifier\n",
    "from sklearn.metrics import f1_score\n",
    "import time\n",
    "from sklearn.feature_selection import SelectKBest, chi2"
   ]
  },
  {
   "cell_type": "code",
   "execution_count": null,
   "id": "UitQg_g6uBhX",
   "metadata": {
    "id": "UitQg_g6uBhX"
   },
   "outputs": [],
   "source": [
    "data_opt = pd.read_csv(path_nb +'milknew.csv')\n",
    "X_opt = data_opt.iloc[:, :-1]\n",
    "y_opt = data_opt.iloc[:, -1]\n",
    "X_train_mode_std_opt, X_test_mode_std_opt, y_train_mode_std_opt, y_test_mode_std_opt = our_train_test_split(data_opt, test_size = .8)"
   ]
  },
  {
   "cell_type": "code",
   "execution_count": null,
   "id": "Uei40FqmoXK_",
   "metadata": {
    "colab": {
     "base_uri": "https://localhost:8080/"
    },
    "id": "Uei40FqmoXK_",
    "outputId": "e9c8964a-d63a-404b-e740-0bfe1b9dcca6"
   },
   "outputs": [
    {
     "name": "stdout",
     "output_type": "stream",
     "text": [
      "Index(['Temprature', 'Taste', 'Odor', 'Fat ', 'Turbidity'], dtype='object')\n"
     ]
    }
   ],
   "source": [
    "feature_selector = SelectKBest(chi2, k = 5)\n",
    "fit = feature_selector.fit(X_opt, y_opt)\n",
    "\n",
    "p_values = pd.DataFrame(fit.pvalues_)\n",
    "scores = pd.DataFrame(fit.scores_)\n",
    "input_variable_names = pd.DataFrame(X.columns)\n",
    "summary_stats = pd.concat([input_variable_names, p_values, scores], axis = 1)\n",
    "summary_stats.columns = [\"input_variable\", \"p_value\", \"chi2_score\"]\n",
    "summary_stats.sort_values(by = \"p_value\", inplace = True)\n",
    "print(X.columns[fit.get_support(indices=True)])"
   ]
  },
  {
   "cell_type": "code",
   "execution_count": null,
   "id": "tMaq8FwSq2_d",
   "metadata": {
    "id": "tMaq8FwSq2_d"
   },
   "outputs": [],
   "source": [
    "data_mode_std_ut = data_mode_std.drop(['pH', 'Colour'], axis = 1)\n",
    "X_train_mode_std_ut, X_test_mode_std_ut, y_train_mode_std_ut, y_test_mode_std_ut = our_train_test_split(data_mode_std_ut, test_size = .8)"
   ]
  },
  {
   "cell_type": "code",
   "execution_count": null,
   "id": "77ZsDGlIr5zO",
   "metadata": {
    "colab": {
     "base_uri": "https://localhost:8080/"
    },
    "id": "77ZsDGlIr5zO",
    "outputId": "0d58273e-d0fb-41fb-829f-aa7e4993cacb"
   },
   "outputs": [
    {
     "name": "stdout",
     "output_type": "stream",
     "text": [
      "Time: 0.3837693140000056\n",
      "Score: 0.8544600938967136\n"
     ]
    }
   ],
   "source": [
    "def reference_model():\n",
    "  clf_rf = RandomForestClassifier(random_state=123).fit(X_train_mode_std_ut, y_train_mode_std_ut)\n",
    "  clf_rf_predictions  = clf_rf.predict(X_test_mode_std_ut)\n",
    "  return clf_rf.score(X_test_mode_std_ut, y_test_mode_std_ut)\n",
    "\n",
    "time_measure(reference_model)"
   ]
  },
  {
   "cell_type": "markdown",
   "id": "kwu_iNarqWml",
   "metadata": {
    "id": "kwu_iNarqWml"
   },
   "source": [
    "The SelectKBest function discarded the Colour and pH variables. Rejecting these variables resulted in faster execution times and a small drop in a score of 8%"
   ]
  },
  {
   "cell_type": "markdown",
   "id": "iyhrTShCselD",
   "metadata": {
    "id": "iyhrTShCselD"
   },
   "source": [
    "### Extra Tree Classifier"
   ]
  },
  {
   "cell_type": "code",
   "execution_count": null,
   "id": "cbNmnSPHtO0X",
   "metadata": {
    "colab": {
     "base_uri": "https://localhost:8080/"
    },
    "id": "cbNmnSPHtO0X",
    "outputId": "508d1e41-00b2-4077-e44b-e205afef37e9"
   },
   "outputs": [
    {
     "name": "stdout",
     "output_type": "stream",
     "text": [
      "[0.36281848 0.24471887 0.03889406 0.08077392 0.08856251 0.11622294\n",
      " 0.06800923]\n"
     ]
    }
   ],
   "source": [
    "etc = ExtraTreesClassifier(random_state=1, n_jobs=-1)\n",
    "etc.fit(X_train_mode_std_opt, y_train_mode_std_opt)\n",
    "importances = etc.feature_importances_\n",
    "print(importances)"
   ]
  },
  {
   "cell_type": "code",
   "execution_count": null,
   "id": "KJFET0uFtO87",
   "metadata": {
    "colab": {
     "base_uri": "https://localhost:8080/"
    },
    "id": "KJFET0uFtO87",
    "outputId": "48be8162-ca02-46db-c839-ff6427e70633"
   },
   "outputs": [
    {
     "data": {
      "text/plain": [
       "['pH', 'Temprature', 'Odor', 'Fat ', 'Turbidity']"
      ]
     },
     "execution_count": 76,
     "metadata": {},
     "output_type": "execute_result"
    }
   ],
   "source": [
    "features = []\n",
    "features_to_drop = []\n",
    "for ind, value in enumerate(etc.feature_importances_):\n",
    "    if value > 0.07:\n",
    "        features.append(X.columns[ind])\n",
    "    else:\n",
    "        features_to_drop.append(X.columns[ind])\n",
    "\n",
    "features"
   ]
  },
  {
   "cell_type": "code",
   "execution_count": null,
   "id": "3S3-1wQstPAB",
   "metadata": {
    "colab": {
     "base_uri": "https://localhost:8080/"
    },
    "id": "3S3-1wQstPAB",
    "outputId": "4b7cc8be-8d47-4274-8f36-823b9a9a3dcb"
   },
   "outputs": [
    {
     "data": {
      "text/plain": [
       "['Taste', 'Colour']"
      ]
     },
     "execution_count": 77,
     "metadata": {},
     "output_type": "execute_result"
    }
   ],
   "source": [
    "features_to_drop"
   ]
  },
  {
   "cell_type": "code",
   "execution_count": null,
   "id": "Xkp3_ENHvlmj",
   "metadata": {
    "id": "Xkp3_ENHvlmj"
   },
   "outputs": [],
   "source": [
    "data_mode_std_etc = data_mode_std.drop(features_to_drop, axis = 1)\n",
    "X_etc = data_mode_std_etc.iloc[:, :-1]\n",
    "y_etc = data_mode_std_etc.iloc[:, -1]\n",
    "X_train_etc, X_test_etc, y_train_etc, y_test_etc = train_test_split(X_etc, y_etc, random_state=32, shuffle=True, stratify=y_opt)"
   ]
  },
  {
   "cell_type": "code",
   "execution_count": null,
   "id": "DSoWw7HrvqdX",
   "metadata": {
    "colab": {
     "base_uri": "https://localhost:8080/"
    },
    "id": "DSoWw7HrvqdX",
    "outputId": "a548f1e8-a3e3-43fa-c249-4840de69adb0"
   },
   "outputs": [
    {
     "name": "stdout",
     "output_type": "stream",
     "text": [
      "Time: 0.4065350759999973\n",
      "Score: 0.9471698113207547\n"
     ]
    }
   ],
   "source": [
    "def reference_model():\n",
    "  clf_rf = RandomForestClassifier(random_state=123).fit(X_train_etc, y_train_etc)\n",
    "  clf_rf_predictions  = clf_rf.predict(X_test_etc)\n",
    "  return clf_rf.score(X_test_etc, y_test_etc)\n",
    "\n",
    "time_measure(reference_model)"
   ]
  },
  {
   "cell_type": "markdown",
   "id": "FfxE9EPPwvFP",
   "metadata": {
    "id": "FfxE9EPPwvFP"
   },
   "source": [
    "The Extra Tree Classifier function returned the worst score for the Taste and Colour variables. Discarding these variables resulted in faster execution times and a 1% improvement in score"
   ]
  },
  {
   "cell_type": "markdown",
   "id": "kGAdgWhhxzOd",
   "metadata": {
    "id": "kGAdgWhhxzOd"
   },
   "source": [
    "### RFE"
   ]
  },
  {
   "cell_type": "code",
   "execution_count": null,
   "id": "MHn_wDtuxydC",
   "metadata": {
    "id": "MHn_wDtuxydC"
   },
   "outputs": [],
   "source": [
    "from sklearn.feature_selection import RFE\n",
    "from sklearn.linear_model import LinearRegression\n",
    "import matplotlib.pyplot as plt\n",
    "\n",
    "regressor = RandomForestClassifier(n_jobs=-1)\n",
    "feature_selector = RFE(regressor)\n",
    "\n",
    "fit = feature_selector.fit(X_opt,y_opt)"
   ]
  },
  {
   "cell_type": "code",
   "execution_count": null,
   "id": "O3_e6Db8yAbi",
   "metadata": {
    "colab": {
     "base_uri": "https://localhost:8080/"
    },
    "id": "O3_e6Db8yAbi",
    "outputId": "ae66f5f1-2876-4bf0-c719-81f4cbe2749f"
   },
   "outputs": [
    {
     "name": "stdout",
     "output_type": "stream",
     "text": [
      "Optimal numer of features: 3\n"
     ]
    }
   ],
   "source": [
    "optimal_feature_count = feature_selector.n_features_\n",
    "print(f\"Optimal numer of features: {optimal_feature_count}\")\n",
    "\n",
    "columns_to_drop = X.columns[np.invert(fit.get_support())]\n",
    "\n",
    "\n",
    "data_mode_std_rfe = data_mode_std.drop(features_to_drop, axis = 1)\n",
    "X_rfe = data_mode_std_rfe.iloc[:, :-1]\n",
    "y_rfe = data_mode_std_rfe.iloc[:, -1]\n",
    "X_train_rfe, X_test_rfe, y_train_rfe, y_test_rfe = train_test_split(X_rfe, y_rfe, random_state=32, shuffle=True, stratify=y_opt)"
   ]
  },
  {
   "cell_type": "code",
   "execution_count": null,
   "id": "fzaNZSPizitW",
   "metadata": {
    "colab": {
     "base_uri": "https://localhost:8080/"
    },
    "id": "fzaNZSPizitW",
    "outputId": "a7e6a038-0fb0-47ab-df46-86ecb7b029d5"
   },
   "outputs": [
    {
     "data": {
      "text/plain": [
       "Index(['Taste', 'Odor', 'Turbidity', 'Colour'], dtype='object')"
      ]
     },
     "execution_count": 82,
     "metadata": {},
     "output_type": "execute_result"
    }
   ],
   "source": [
    "columns_to_drop"
   ]
  },
  {
   "cell_type": "code",
   "execution_count": null,
   "id": "4W05PKBKyBZB",
   "metadata": {
    "colab": {
     "base_uri": "https://localhost:8080/"
    },
    "id": "4W05PKBKyBZB",
    "outputId": "61f7bbe5-2800-4d44-9d5f-0a99730f3e07"
   },
   "outputs": [
    {
     "name": "stdout",
     "output_type": "stream",
     "text": [
      "Time: 0.396889036999994\n",
      "Score: 0.9471698113207547\n"
     ]
    }
   ],
   "source": [
    "def reference_model():\n",
    "  clf_rf = RandomForestClassifier(random_state=123).fit(X_train_rfe, y_train_rfe)\n",
    "  clf_rf_predictions  = clf_rf.predict(X_test_rfe)\n",
    "  return clf_rf.score(X_test_rfe, y_test_rfe)\n",
    "\n",
    "time_measure(reference_model)"
   ]
  },
  {
   "cell_type": "markdown",
   "id": "MHQgo6jizk8D",
   "metadata": {
    "id": "MHQgo6jizk8D"
   },
   "source": [
    "The RFE function rejected Taste, Odor, Turbidity, and Color. Rejecting these variables resulted in faster execution times and a 1% improvement in score"
   ]
  },
  {
   "cell_type": "markdown",
   "id": "NnphTGRHz-fu",
   "metadata": {
    "id": "NnphTGRHz-fu"
   },
   "source": [
    "### Genetic algorithm"
   ]
  },
  {
   "cell_type": "markdown",
   "id": "QJYmfPbevVLV",
   "metadata": {
    "id": "QJYmfPbevVLV"
   },
   "source": [
    "## Hyperparameter optimization"
   ]
  },
  {
   "cell_type": "markdown",
   "id": "UEsjgej_wfiX",
   "metadata": {
    "id": "UEsjgej_wfiX"
   },
   "source": [
    "### Grid Search"
   ]
  },
  {
   "cell_type": "code",
   "execution_count": null,
   "id": "HFVd1w4Zwhxu",
   "metadata": {
    "colab": {
     "base_uri": "https://localhost:8080/"
    },
    "id": "HFVd1w4Zwhxu",
    "outputId": "eaeb2c00-a991-4bc8-adae-eea7675c89b2"
   },
   "outputs": [
    {
     "name": "stdout",
     "output_type": "stream",
     "text": [
      "{'n_estimators': [10, 231, 452, 673, 894, 1115, 1336, 1557, 1778, 2000], 'max_features': ['auto', 'sqrt'], 'max_depth': [2, 8, 15, 22, 29, 36, 42, 49, 56, 63, 70, None], 'min_samples_split': [2, 4, 6], 'min_samples_leaf': [1, 2, 3], 'bootstrap': [True, False]}\n"
     ]
    }
   ],
   "source": [
    "from sklearn.model_selection import RandomizedSearchCV\n",
    "\n",
    "n_estimators = [int(x) for x in np.linspace(start = 10, stop = 2000, num = 10)]\n",
    "max_depth = [int(x) for x in np.linspace(2, 70, num = 11)]\n",
    "max_features = ['auto', 'sqrt']\n",
    "min_samples_split = [2, 4, 6]\n",
    "min_samples_leaf = [1, 2, 3]\n",
    "bootstrap = [True, False]\n",
    "max_depth.append(None)\n",
    "\n",
    "random_grid = {'n_estimators': n_estimators,\n",
    "               'max_features': max_features,\n",
    "               'max_depth': max_depth,\n",
    "               'min_samples_split': min_samples_split,\n",
    "               'min_samples_leaf': min_samples_leaf,\n",
    "               'bootstrap': bootstrap}\n",
    "print(random_grid)"
   ]
  },
  {
   "cell_type": "code",
   "execution_count": null,
   "id": "ocT-apio3bGF",
   "metadata": {
    "colab": {
     "base_uri": "https://localhost:8080/"
    },
    "id": "ocT-apio3bGF",
    "outputId": "5e6a68e7-d889-41fb-9b7f-3d79ae12b1cd"
   },
   "outputs": [
    {
     "name": "stdout",
     "output_type": "stream",
     "text": [
      "Fitting 3 folds for each of 10 candidates, totalling 30 fits\n",
      "[CV 1/3] END bootstrap=False, max_depth=49, max_features=sqrt, min_samples_leaf=3, min_samples_split=4, n_estimators=452;, score=0.917 total time=   0.6s\n",
      "[CV 2/3] END bootstrap=False, max_depth=49, max_features=sqrt, min_samples_leaf=3, min_samples_split=4, n_estimators=452;, score=0.928 total time=   0.7s\n",
      "[CV 3/3] END bootstrap=False, max_depth=49, max_features=sqrt, min_samples_leaf=3, min_samples_split=4, n_estimators=452;, score=0.928 total time=   0.7s\n",
      "[CV 1/3] END bootstrap=False, max_depth=49, max_features=auto, min_samples_leaf=2, min_samples_split=2, n_estimators=894;, score=0.917 total time=   1.2s\n",
      "[CV 2/3] END bootstrap=False, max_depth=49, max_features=auto, min_samples_leaf=2, min_samples_split=2, n_estimators=894;, score=0.928 total time=   1.2s\n",
      "[CV 3/3] END bootstrap=False, max_depth=49, max_features=auto, min_samples_leaf=2, min_samples_split=2, n_estimators=894;, score=0.928 total time=   1.2s\n",
      "[CV 1/3] END bootstrap=True, max_depth=49, max_features=auto, min_samples_leaf=3, min_samples_split=6, n_estimators=1336;, score=0.909 total time=   2.2s\n",
      "[CV 2/3] END bootstrap=True, max_depth=49, max_features=auto, min_samples_leaf=3, min_samples_split=6, n_estimators=1336;, score=0.932 total time=   2.1s\n",
      "[CV 3/3] END bootstrap=True, max_depth=49, max_features=auto, min_samples_leaf=3, min_samples_split=6, n_estimators=1336;, score=0.920 total time=   2.2s\n",
      "[CV 1/3] END bootstrap=False, max_depth=70, max_features=sqrt, min_samples_leaf=1, min_samples_split=4, n_estimators=10;, score=0.925 total time=   0.0s\n",
      "[CV 2/3] END bootstrap=False, max_depth=70, max_features=sqrt, min_samples_leaf=1, min_samples_split=4, n_estimators=10;, score=0.925 total time=   0.0s\n",
      "[CV 3/3] END bootstrap=False, max_depth=70, max_features=sqrt, min_samples_leaf=1, min_samples_split=4, n_estimators=10;, score=0.913 total time=   0.0s\n",
      "[CV 1/3] END bootstrap=True, max_depth=56, max_features=sqrt, min_samples_leaf=3, min_samples_split=2, n_estimators=673;, score=0.909 total time=   1.1s\n",
      "[CV 2/3] END bootstrap=True, max_depth=56, max_features=sqrt, min_samples_leaf=3, min_samples_split=2, n_estimators=673;, score=0.932 total time=   1.2s\n",
      "[CV 3/3] END bootstrap=True, max_depth=56, max_features=sqrt, min_samples_leaf=3, min_samples_split=2, n_estimators=673;, score=0.920 total time=   1.1s\n",
      "[CV 1/3] END bootstrap=True, max_depth=2, max_features=sqrt, min_samples_leaf=1, min_samples_split=2, n_estimators=1336;, score=0.849 total time=   2.1s\n",
      "[CV 2/3] END bootstrap=True, max_depth=2, max_features=sqrt, min_samples_leaf=1, min_samples_split=2, n_estimators=1336;, score=0.823 total time=   2.9s\n",
      "[CV 3/3] END bootstrap=True, max_depth=2, max_features=sqrt, min_samples_leaf=1, min_samples_split=2, n_estimators=1336;, score=0.811 total time=   4.0s\n",
      "[CV 1/3] END bootstrap=False, max_depth=None, max_features=auto, min_samples_leaf=1, min_samples_split=2, n_estimators=673;, score=0.909 total time=   2.0s\n",
      "[CV 2/3] END bootstrap=False, max_depth=None, max_features=auto, min_samples_leaf=1, min_samples_split=2, n_estimators=673;, score=0.925 total time=   1.7s\n",
      "[CV 3/3] END bootstrap=False, max_depth=None, max_features=auto, min_samples_leaf=1, min_samples_split=2, n_estimators=673;, score=0.913 total time=   1.9s\n",
      "[CV 1/3] END bootstrap=False, max_depth=None, max_features=auto, min_samples_leaf=1, min_samples_split=6, n_estimators=2000;, score=0.921 total time=   4.7s\n",
      "[CV 2/3] END bootstrap=False, max_depth=None, max_features=auto, min_samples_leaf=1, min_samples_split=6, n_estimators=2000;, score=0.936 total time=   5.5s\n",
      "[CV 3/3] END bootstrap=False, max_depth=None, max_features=auto, min_samples_leaf=1, min_samples_split=6, n_estimators=2000;, score=0.913 total time=   3.1s\n",
      "[CV 1/3] END bootstrap=True, max_depth=36, max_features=auto, min_samples_leaf=2, min_samples_split=4, n_estimators=452;, score=0.917 total time=   0.8s\n",
      "[CV 2/3] END bootstrap=True, max_depth=36, max_features=auto, min_samples_leaf=2, min_samples_split=4, n_estimators=452;, score=0.925 total time=   1.1s\n",
      "[CV 3/3] END bootstrap=True, max_depth=36, max_features=auto, min_samples_leaf=2, min_samples_split=4, n_estimators=452;, score=0.920 total time=   1.5s\n",
      "[CV 1/3] END bootstrap=True, max_depth=2, max_features=sqrt, min_samples_leaf=1, min_samples_split=6, n_estimators=231;, score=0.849 total time=   0.8s\n",
      "[CV 2/3] END bootstrap=True, max_depth=2, max_features=sqrt, min_samples_leaf=1, min_samples_split=6, n_estimators=231;, score=0.823 total time=   0.9s\n",
      "[CV 3/3] END bootstrap=True, max_depth=2, max_features=sqrt, min_samples_leaf=1, min_samples_split=6, n_estimators=231;, score=0.811 total time=   0.7s\n"
     ]
    },
    {
     "data": {
      "text/plain": [
       "RandomizedSearchCV(cv=3,\n",
       "                   estimator=RandomForestClassifier(n_jobs=-1, random_state=1),\n",
       "                   n_jobs=1,\n",
       "                   param_distributions={'bootstrap': [True, False],\n",
       "                                        'max_depth': [2, 8, 15, 22, 29, 36, 42,\n",
       "                                                      49, 56, 63, 70, None],\n",
       "                                        'max_features': ['auto', 'sqrt'],\n",
       "                                        'min_samples_leaf': [1, 2, 3],\n",
       "                                        'min_samples_split': [2, 4, 6],\n",
       "                                        'n_estimators': [10, 231, 452, 673, 894,\n",
       "                                                         1115, 1336, 1557, 1778,\n",
       "                                                         2000]},\n",
       "                   random_state=123, verbose=5)"
      ]
     },
     "execution_count": 85,
     "metadata": {},
     "output_type": "execute_result"
    }
   ],
   "source": [
    "rf = RandomForestClassifier(random_state=1, n_jobs=-1)\n",
    "rf_random = RandomizedSearchCV(estimator = rf, \n",
    "                               param_distributions = random_grid, \n",
    "                               n_iter = 10, cv = 3, \n",
    "                               verbose=5, \n",
    "                               random_state=123, \n",
    "                               n_jobs = 1)\n",
    "rf_random.fit(X_train_etc, y_train_etc)"
   ]
  },
  {
   "cell_type": "code",
   "execution_count": null,
   "id": "KRTrgOhg7K6t",
   "metadata": {
    "colab": {
     "base_uri": "https://localhost:8080/"
    },
    "id": "KRTrgOhg7K6t",
    "outputId": "6cd8c65b-1204-4520-e11d-5fe3a97b1dd9"
   },
   "outputs": [
    {
     "data": {
      "text/plain": [
       "{'n_estimators': 452,\n",
       " 'min_samples_split': 4,\n",
       " 'min_samples_leaf': 3,\n",
       " 'max_features': 'sqrt',\n",
       " 'max_depth': 49,\n",
       " 'bootstrap': False}"
      ]
     },
     "execution_count": 86,
     "metadata": {},
     "output_type": "execute_result"
    }
   ],
   "source": [
    "rf_random.best_params_"
   ]
  },
  {
   "cell_type": "code",
   "execution_count": null,
   "id": "-b9kValr7O5E",
   "metadata": {
    "id": "-b9kValr7O5E"
   },
   "outputs": [],
   "source": [
    "best_params_rf_random = {'n_estimators': 452,\n",
    " 'min_samples_split': 4,\n",
    " 'min_samples_leaf': 3,\n",
    " 'max_features': 'sqrt',\n",
    " 'max_depth': 49,\n",
    " 'bootstrap': False}"
   ]
  },
  {
   "cell_type": "code",
   "execution_count": null,
   "id": "99sMU6CF7Sfd",
   "metadata": {
    "colab": {
     "base_uri": "https://localhost:8080/"
    },
    "id": "99sMU6CF7Sfd",
    "outputId": "a0ddfbea-78ed-4481-a888-ff708094bab4"
   },
   "outputs": [
    {
     "name": "stdout",
     "output_type": "stream",
     "text": [
      "Time: 1.3479685249999989\n",
      "Score: 0.9358490566037736\n"
     ]
    }
   ],
   "source": [
    "def reference_model():\n",
    "  clf_rf = RandomForestClassifier(random_state=123, **best_params_rf_random).fit(X_train_etc, y_train_etc)\n",
    "  clf_rf_predictions  = clf_rf.predict(X_test_etc)\n",
    "  return clf_rf.score(X_test_etc, y_test_etc)\n",
    "\n",
    "time_measure(reference_model)"
   ]
  },
  {
   "cell_type": "markdown",
   "id": "VFBUiqWZEfD2",
   "metadata": {
    "id": "VFBUiqWZEfD2"
   },
   "source": [
    "The hyperparameters from Grid Search resulted in a relatively large time pattern and no score improvement compared to the results after ETC"
   ]
  },
  {
   "cell_type": "markdown",
   "id": "DYk0kNF-7qm5",
   "metadata": {
    "id": "DYk0kNF-7qm5"
   },
   "source": [
    "### Optuna"
   ]
  },
  {
   "cell_type": "code",
   "execution_count": null,
   "id": "zbbyPRwU8Es5",
   "metadata": {
    "colab": {
     "base_uri": "https://localhost:8080/"
    },
    "id": "zbbyPRwU8Es5",
    "outputId": "9cbff292-7d27-4f10-e597-abde9a80221f"
   },
   "outputs": [
    {
     "name": "stdout",
     "output_type": "stream",
     "text": [
      "Looking in indexes: https://pypi.org/simple, https://us-python.pkg.dev/colab-wheels/public/simple/\n",
      "Collecting optuna\n",
      "  Downloading optuna-3.0.5-py3-none-any.whl (348 kB)\n",
      "\u001b[K     |████████████████████████████████| 348 kB 4.2 MB/s \n",
      "\u001b[?25hCollecting cliff\n",
      "  Downloading cliff-4.1.0-py3-none-any.whl (81 kB)\n",
      "\u001b[K     |████████████████████████████████| 81 kB 6.7 MB/s \n",
      "\u001b[?25hRequirement already satisfied: packaging>=20.0 in /usr/local/lib/python3.8/dist-packages (from optuna) (21.3)\n",
      "Collecting importlib-metadata<5.0.0\n",
      "  Downloading importlib_metadata-4.13.0-py3-none-any.whl (23 kB)\n",
      "Requirement already satisfied: tqdm in /usr/local/lib/python3.8/dist-packages (from optuna) (4.64.1)\n",
      "Requirement already satisfied: scipy<1.9.0,>=1.7.0 in /usr/local/lib/python3.8/dist-packages (from optuna) (1.7.3)\n",
      "Collecting colorlog\n",
      "  Downloading colorlog-6.7.0-py2.py3-none-any.whl (11 kB)\n",
      "Requirement already satisfied: sqlalchemy>=1.3.0 in /usr/local/lib/python3.8/dist-packages (from optuna) (1.4.45)\n",
      "Collecting alembic>=1.5.0\n",
      "  Downloading alembic-1.9.0-py3-none-any.whl (210 kB)\n",
      "\u001b[K     |████████████████████████████████| 210 kB 57.7 MB/s \n",
      "\u001b[?25hCollecting cmaes>=0.8.2\n",
      "  Downloading cmaes-0.9.0-py3-none-any.whl (23 kB)\n",
      "Requirement already satisfied: numpy in /usr/local/lib/python3.8/dist-packages (from optuna) (1.21.6)\n",
      "Requirement already satisfied: PyYAML in /usr/local/lib/python3.8/dist-packages (from optuna) (6.0)\n",
      "Requirement already satisfied: importlib-resources in /usr/local/lib/python3.8/dist-packages (from alembic>=1.5.0->optuna) (5.10.1)\n",
      "Collecting Mako\n",
      "  Downloading Mako-1.2.4-py3-none-any.whl (78 kB)\n",
      "\u001b[K     |████████████████████████████████| 78 kB 6.6 MB/s \n",
      "\u001b[?25hRequirement already satisfied: zipp>=0.5 in /usr/local/lib/python3.8/dist-packages (from importlib-metadata<5.0.0->optuna) (3.11.0)\n",
      "Requirement already satisfied: pyparsing!=3.0.5,>=2.0.2 in /usr/local/lib/python3.8/dist-packages (from packaging>=20.0->optuna) (3.0.9)\n",
      "Requirement already satisfied: greenlet!=0.4.17 in /usr/local/lib/python3.8/dist-packages (from sqlalchemy>=1.3.0->optuna) (2.0.1)\n",
      "Collecting autopage>=0.4.0\n",
      "  Downloading autopage-0.5.1-py3-none-any.whl (29 kB)\n",
      "Requirement already satisfied: PrettyTable>=0.7.2 in /usr/local/lib/python3.8/dist-packages (from cliff->optuna) (3.5.0)\n",
      "Collecting stevedore>=2.0.1\n",
      "  Downloading stevedore-4.1.1-py3-none-any.whl (50 kB)\n",
      "\u001b[K     |████████████████████████████████| 50 kB 5.3 MB/s \n",
      "\u001b[?25hCollecting cmd2>=1.0.0\n",
      "  Downloading cmd2-2.4.2-py3-none-any.whl (147 kB)\n",
      "\u001b[K     |████████████████████████████████| 147 kB 39.2 MB/s \n",
      "\u001b[?25hCollecting pyperclip>=1.6\n",
      "  Downloading pyperclip-1.8.2.tar.gz (20 kB)\n",
      "Requirement already satisfied: wcwidth>=0.1.7 in /usr/local/lib/python3.8/dist-packages (from cmd2>=1.0.0->cliff->optuna) (0.2.5)\n",
      "Requirement already satisfied: attrs>=16.3.0 in /usr/local/lib/python3.8/dist-packages (from cmd2>=1.0.0->cliff->optuna) (22.1.0)\n",
      "Collecting pbr!=2.1.0,>=2.0.0\n",
      "  Downloading pbr-5.11.0-py2.py3-none-any.whl (112 kB)\n",
      "\u001b[K     |████████████████████████████████| 112 kB 64.1 MB/s \n",
      "\u001b[?25hRequirement already satisfied: MarkupSafe>=0.9.2 in /usr/local/lib/python3.8/dist-packages (from Mako->alembic>=1.5.0->optuna) (2.0.1)\n",
      "Building wheels for collected packages: pyperclip\n",
      "  Building wheel for pyperclip (setup.py) ... \u001b[?25l\u001b[?25hdone\n",
      "  Created wheel for pyperclip: filename=pyperclip-1.8.2-py3-none-any.whl size=11136 sha256=52fbfac0deed373dd500cd9d73cc716c21838e01a242d302cc6acde70d84f365\n",
      "  Stored in directory: /root/.cache/pip/wheels/7f/1a/65/84ff8c386bec21fca6d220ea1f5498a0367883a78dd5ba6122\n",
      "Successfully built pyperclip\n",
      "Installing collected packages: pyperclip, pbr, stevedore, Mako, importlib-metadata, cmd2, autopage, colorlog, cmaes, cliff, alembic, optuna\n",
      "  Attempting uninstall: importlib-metadata\n",
      "    Found existing installation: importlib-metadata 5.1.0\n",
      "    Uninstalling importlib-metadata-5.1.0:\n",
      "      Successfully uninstalled importlib-metadata-5.1.0\n",
      "Successfully installed Mako-1.2.4 alembic-1.9.0 autopage-0.5.1 cliff-4.1.0 cmaes-0.9.0 cmd2-2.4.2 colorlog-6.7.0 importlib-metadata-4.13.0 optuna-3.0.5 pbr-5.11.0 pyperclip-1.8.2 stevedore-4.1.1\n"
     ]
    }
   ],
   "source": [
    "# !pip install optuna"
   ]
  },
  {
   "cell_type": "code",
   "execution_count": null,
   "id": "nu7UyHYX7t07",
   "metadata": {
    "colab": {
     "base_uri": "https://localhost:8080/"
    },
    "id": "nu7UyHYX7t07",
    "outputId": "141cc203-3223-465f-b2d5-407c8c48c682"
   },
   "outputs": [
    {
     "name": "stderr",
     "output_type": "stream",
     "text": [
      "\u001b[32m[I 2022-12-19 22:07:51,642]\u001b[0m A new study created in memory with name: no-name-a21c8e83-a7a6-4e2c-ae20-a68442d2c0d1\u001b[0m\n",
      "\u001b[32m[I 2022-12-19 22:07:52,531]\u001b[0m Trial 0 finished with value: 0.9018867924528302 and parameters: {'rf_max_depth': 45, 'rf_min_samples_split': 2, 'rf_min_samples_leaf': 37, 'rf_n_estimators': 109, 'rf_bootstrap': 'False', 'rf_criterion': 'entropy'}. Best is trial 0 with value: 0.9018867924528302.\u001b[0m\n",
      "\u001b[32m[I 2022-12-19 22:07:54,160]\u001b[0m Trial 2 finished with value: 0.939622641509434 and parameters: {'rf_max_depth': 6, 'rf_min_samples_split': 42, 'rf_min_samples_leaf': 10, 'rf_n_estimators': 228, 'rf_bootstrap': 'False', 'rf_criterion': 'gini'}. Best is trial 2 with value: 0.939622641509434.\u001b[0m\n",
      "\u001b[32m[I 2022-12-19 22:07:54,490]\u001b[0m Trial 3 finished with value: 0.8377358490566038 and parameters: {'rf_max_depth': 11, 'rf_min_samples_split': 6, 'rf_min_samples_leaf': 48, 'rf_n_estimators': 30, 'rf_bootstrap': 'True', 'rf_criterion': 'gini'}. Best is trial 2 with value: 0.939622641509434.\u001b[0m\n",
      "\u001b[32m[I 2022-12-19 22:07:54,799]\u001b[0m Trial 4 finished with value: 0.939622641509434 and parameters: {'rf_max_depth': 17, 'rf_min_samples_split': 11, 'rf_min_samples_leaf': 3, 'rf_n_estimators': 22, 'rf_bootstrap': 'False', 'rf_criterion': 'gini'}. Best is trial 2 with value: 0.939622641509434.\u001b[0m\n",
      "\u001b[32m[I 2022-12-19 22:07:55,955]\u001b[0m Trial 5 finished with value: 0.9018867924528302 and parameters: {'rf_max_depth': 3, 'rf_min_samples_split': 38, 'rf_min_samples_leaf': 30, 'rf_n_estimators': 164, 'rf_bootstrap': 'True', 'rf_criterion': 'entropy'}. Best is trial 2 with value: 0.939622641509434.\u001b[0m\n",
      "\u001b[32m[I 2022-12-19 22:07:56,326]\u001b[0m Trial 1 finished with value: 0.9433962264150944 and parameters: {'rf_max_depth': 32, 'rf_min_samples_split': 17, 'rf_min_samples_leaf': 3, 'rf_n_estimators': 659, 'rf_bootstrap': 'False', 'rf_criterion': 'entropy'}. Best is trial 1 with value: 0.9433962264150944.\u001b[0m\n",
      "\u001b[32m[I 2022-12-19 22:07:56,767]\u001b[0m Trial 6 finished with value: 0.9509433962264151 and parameters: {'rf_max_depth': 6, 'rf_min_samples_split': 2, 'rf_min_samples_leaf': 2, 'rf_n_estimators': 104, 'rf_bootstrap': 'False', 'rf_criterion': 'entropy'}. Best is trial 6 with value: 0.9509433962264151.\u001b[0m\n",
      "\u001b[32m[I 2022-12-19 22:07:57,070]\u001b[0m Trial 7 finished with value: 0.9320754716981132 and parameters: {'rf_max_depth': 37, 'rf_min_samples_split': 7, 'rf_min_samples_leaf': 3, 'rf_n_estimators': 95, 'rf_bootstrap': 'False', 'rf_criterion': 'entropy'}. Best is trial 6 with value: 0.9509433962264151.\u001b[0m\n",
      "\u001b[32m[I 2022-12-19 22:07:57,443]\u001b[0m Trial 9 finished with value: 0.9471698113207547 and parameters: {'rf_max_depth': 12, 'rf_min_samples_split': 6, 'rf_min_samples_leaf': 18, 'rf_n_estimators': 24, 'rf_bootstrap': 'False', 'rf_criterion': 'gini'}. Best is trial 6 with value: 0.9509433962264151.\u001b[0m\n",
      "\u001b[32m[I 2022-12-19 22:07:58,103]\u001b[0m Trial 10 finished with value: 0.8264150943396227 and parameters: {'rf_max_depth': 2, 'rf_min_samples_split': 3, 'rf_min_samples_leaf': 2, 'rf_n_estimators': 64, 'rf_bootstrap': 'False', 'rf_criterion': 'gini'}. Best is trial 6 with value: 0.9509433962264151.\u001b[0m\n",
      "\u001b[32m[I 2022-12-19 22:07:58,515]\u001b[0m Trial 11 finished with value: 0.9245283018867925 and parameters: {'rf_max_depth': 5, 'rf_min_samples_split': 2, 'rf_min_samples_leaf': 7, 'rf_n_estimators': 10, 'rf_bootstrap': 'True', 'rf_criterion': 'entropy'}. Best is trial 6 with value: 0.9509433962264151.\u001b[0m\n",
      "\u001b[32m[I 2022-12-19 22:07:58,994]\u001b[0m Trial 12 finished with value: 0.9509433962264151 and parameters: {'rf_max_depth': 13, 'rf_min_samples_split': 4, 'rf_min_samples_leaf': 15, 'rf_n_estimators': 43, 'rf_bootstrap': 'False', 'rf_criterion': 'gini'}. Best is trial 6 with value: 0.9509433962264151.\u001b[0m\n",
      "\u001b[32m[I 2022-12-19 22:08:00,176]\u001b[0m Trial 8 finished with value: 0.8754716981132076 and parameters: {'rf_max_depth': 2, 'rf_min_samples_split': 49, 'rf_min_samples_leaf': 5, 'rf_n_estimators': 473, 'rf_bootstrap': 'False', 'rf_criterion': 'entropy'}. Best is trial 6 with value: 0.9509433962264151.\u001b[0m\n",
      "\u001b[32m[I 2022-12-19 22:08:01,001]\u001b[0m Trial 14 finished with value: 0.9584905660377359 and parameters: {'rf_max_depth': 21, 'rf_min_samples_split': 4, 'rf_min_samples_leaf': 16, 'rf_n_estimators': 60, 'rf_bootstrap': 'False', 'rf_criterion': 'gini'}. Best is trial 14 with value: 0.9584905660377359.\u001b[0m\n",
      "\u001b[32m[I 2022-12-19 22:08:02,659]\u001b[0m Trial 13 finished with value: 0.9433962264150944 and parameters: {'rf_max_depth': 18, 'rf_min_samples_split': 3, 'rf_min_samples_leaf': 8, 'rf_n_estimators': 416, 'rf_bootstrap': 'False', 'rf_criterion': 'entropy'}. Best is trial 14 with value: 0.9584905660377359.\u001b[0m\n",
      "\u001b[32m[I 2022-12-19 22:08:04,305]\u001b[0m Trial 15 finished with value: 0.9471698113207547 and parameters: {'rf_max_depth': 21, 'rf_min_samples_split': 3, 'rf_min_samples_leaf': 17, 'rf_n_estimators': 291, 'rf_bootstrap': 'False', 'rf_criterion': 'entropy'}. Best is trial 14 with value: 0.9584905660377359.\u001b[0m\n",
      "\u001b[32m[I 2022-12-19 22:08:04,807]\u001b[0m Trial 16 finished with value: 0.9283018867924528 and parameters: {'rf_max_depth': 5, 'rf_min_samples_split': 3, 'rf_min_samples_leaf': 20, 'rf_n_estimators': 233, 'rf_bootstrap': 'True', 'rf_criterion': 'gini'}. Best is trial 14 with value: 0.9584905660377359.\u001b[0m\n",
      "\u001b[32m[I 2022-12-19 22:08:04,954]\u001b[0m Trial 17 finished with value: 0.9547169811320755 and parameters: {'rf_max_depth': 7, 'rf_min_samples_split': 11, 'rf_min_samples_leaf': 5, 'rf_n_estimators': 58, 'rf_bootstrap': 'True', 'rf_criterion': 'gini'}. Best is trial 14 with value: 0.9584905660377359.\u001b[0m\n",
      "\u001b[32m[I 2022-12-19 22:08:05,311]\u001b[0m Trial 19 finished with value: 0.9509433962264151 and parameters: {'rf_max_depth': 27, 'rf_min_samples_split': 12, 'rf_min_samples_leaf': 5, 'rf_n_estimators': 12, 'rf_bootstrap': 'True', 'rf_criterion': 'gini'}. Best is trial 14 with value: 0.9584905660377359.\u001b[0m\n",
      "\u001b[32m[I 2022-12-19 22:08:05,522]\u001b[0m Trial 18 finished with value: 0.939622641509434 and parameters: {'rf_max_depth': 9, 'rf_min_samples_split': 14, 'rf_min_samples_leaf': 5, 'rf_n_estimators': 63, 'rf_bootstrap': 'False', 'rf_criterion': 'gini'}. Best is trial 14 with value: 0.9584905660377359.\u001b[0m\n",
      "\u001b[32m[I 2022-12-19 22:08:05,846]\u001b[0m Trial 20 finished with value: 0.9433962264150944 and parameters: {'rf_max_depth': 9, 'rf_min_samples_split': 19, 'rf_min_samples_leaf': 11, 'rf_n_estimators': 50, 'rf_bootstrap': 'True', 'rf_criterion': 'gini'}. Best is trial 14 with value: 0.9584905660377359.\u001b[0m\n",
      "\u001b[32m[I 2022-12-19 22:08:06,116]\u001b[0m Trial 21 finished with value: 0.9056603773584906 and parameters: {'rf_max_depth': 3, 'rf_min_samples_split': 26, 'rf_min_samples_leaf': 11, 'rf_n_estimators': 41, 'rf_bootstrap': 'True', 'rf_criterion': 'gini'}. Best is trial 14 with value: 0.9584905660377359.\u001b[0m\n",
      "\u001b[32m[I 2022-12-19 22:08:06,449]\u001b[0m Trial 23 finished with value: 0.9433962264150944 and parameters: {'rf_max_depth': 28, 'rf_min_samples_split': 10, 'rf_min_samples_leaf': 5, 'rf_n_estimators': 11, 'rf_bootstrap': 'True', 'rf_criterion': 'gini'}. Best is trial 14 with value: 0.9584905660377359.\u001b[0m\n",
      "\u001b[32m[I 2022-12-19 22:08:06,683]\u001b[0m Trial 22 finished with value: 0.9471698113207547 and parameters: {'rf_max_depth': 6, 'rf_min_samples_split': 25, 'rf_min_samples_leaf': 2, 'rf_n_estimators': 104, 'rf_bootstrap': 'True', 'rf_criterion': 'gini'}. Best is trial 14 with value: 0.9584905660377359.\u001b[0m\n",
      "\u001b[32m[I 2022-12-19 22:08:06,778]\u001b[0m Trial 24 finished with value: 0.939622641509434 and parameters: {'rf_max_depth': 22, 'rf_min_samples_split': 8, 'rf_min_samples_leaf': 6, 'rf_n_estimators': 16, 'rf_bootstrap': 'True', 'rf_criterion': 'gini'}. Best is trial 14 with value: 0.9584905660377359.\u001b[0m\n",
      "\u001b[32m[I 2022-12-19 22:08:07,036]\u001b[0m Trial 25 finished with value: 0.939622641509434 and parameters: {'rf_max_depth': 25, 'rf_min_samples_split': 8, 'rf_min_samples_leaf': 6, 'rf_n_estimators': 15, 'rf_bootstrap': 'True', 'rf_criterion': 'gini'}. Best is trial 14 with value: 0.9584905660377359.\u001b[0m\n",
      "\u001b[32m[I 2022-12-19 22:08:07,413]\u001b[0m Trial 26 finished with value: 0.9547169811320755 and parameters: {'rf_max_depth': 14, 'rf_min_samples_split': 4, 'rf_min_samples_leaf': 14, 'rf_n_estimators': 36, 'rf_bootstrap': 'False', 'rf_criterion': 'gini'}. Best is trial 14 with value: 0.9584905660377359.\u001b[0m\n",
      "\u001b[32m[I 2022-12-19 22:08:07,694]\u001b[0m Trial 27 finished with value: 0.909433962264151 and parameters: {'rf_max_depth': 13, 'rf_min_samples_split': 4, 'rf_min_samples_leaf': 28, 'rf_n_estimators': 35, 'rf_bootstrap': 'False', 'rf_criterion': 'gini'}. Best is trial 14 with value: 0.9584905660377359.\u001b[0m\n",
      "\u001b[32m[I 2022-12-19 22:08:07,937]\u001b[0m Trial 28 finished with value: 0.9245283018867925 and parameters: {'rf_max_depth': 15, 'rf_min_samples_split': 5, 'rf_min_samples_leaf': 23, 'rf_n_estimators': 30, 'rf_bootstrap': 'False', 'rf_criterion': 'gini'}. Best is trial 14 with value: 0.9584905660377359.\u001b[0m\n",
      "\u001b[32m[I 2022-12-19 22:08:08,247]\u001b[0m Trial 29 finished with value: 0.9245283018867925 and parameters: {'rf_max_depth': 16, 'rf_min_samples_split': 5, 'rf_min_samples_leaf': 23, 'rf_n_estimators': 63, 'rf_bootstrap': 'False', 'rf_criterion': 'gini'}. Best is trial 14 with value: 0.9584905660377359.\u001b[0m\n",
      "\u001b[32m[I 2022-12-19 22:08:08,575]\u001b[0m Trial 30 finished with value: 0.9622641509433962 and parameters: {'rf_max_depth': 7, 'rf_min_samples_split': 4, 'rf_min_samples_leaf': 14, 'rf_n_estimators': 68, 'rf_bootstrap': 'False', 'rf_criterion': 'gini'}. Best is trial 30 with value: 0.9622641509433962.\u001b[0m\n",
      "\u001b[32m[I 2022-12-19 22:08:09,397]\u001b[0m Trial 31 finished with value: 0.9471698113207547 and parameters: {'rf_max_depth': 50, 'rf_min_samples_split': 4, 'rf_min_samples_leaf': 9, 'rf_n_estimators': 152, 'rf_bootstrap': 'False', 'rf_criterion': 'gini'}. Best is trial 30 with value: 0.9622641509433962.\u001b[0m\n",
      "\u001b[32m[I 2022-12-19 22:08:09,454]\u001b[0m Trial 32 finished with value: 0.9584905660377359 and parameters: {'rf_max_depth': 50, 'rf_min_samples_split': 4, 'rf_min_samples_leaf': 14, 'rf_n_estimators': 80, 'rf_bootstrap': 'False', 'rf_criterion': 'gini'}. Best is trial 30 with value: 0.9622641509433962.\u001b[0m\n",
      "\u001b[32m[I 2022-12-19 22:08:10,283]\u001b[0m Trial 34 finished with value: 0.9584905660377359 and parameters: {'rf_max_depth': 41, 'rf_min_samples_split': 5, 'rf_min_samples_leaf': 13, 'rf_n_estimators': 81, 'rf_bootstrap': 'False', 'rf_criterion': 'gini'}. Best is trial 30 with value: 0.9622641509433962.\u001b[0m\n",
      "\u001b[32m[I 2022-12-19 22:08:10,629]\u001b[0m Trial 33 finished with value: 0.9433962264150944 and parameters: {'rf_max_depth': 8, 'rf_min_samples_split': 5, 'rf_min_samples_leaf': 13, 'rf_n_estimators': 138, 'rf_bootstrap': 'False', 'rf_criterion': 'gini'}. Best is trial 30 with value: 0.9622641509433962.\u001b[0m\n",
      "\u001b[32m[I 2022-12-19 22:08:11,090]\u001b[0m Trial 35 finished with value: 0.9584905660377359 and parameters: {'rf_max_depth': 38, 'rf_min_samples_split': 5, 'rf_min_samples_leaf': 13, 'rf_n_estimators': 82, 'rf_bootstrap': 'False', 'rf_criterion': 'gini'}. Best is trial 30 with value: 0.9622641509433962.\u001b[0m\n",
      "\u001b[32m[I 2022-12-19 22:08:11,426]\u001b[0m Trial 36 finished with value: 0.879245283018868 and parameters: {'rf_max_depth': 35, 'rf_min_samples_split': 6, 'rf_min_samples_leaf': 40, 'rf_n_estimators': 81, 'rf_bootstrap': 'False', 'rf_criterion': 'gini'}. Best is trial 30 with value: 0.9622641509433962.\u001b[0m\n",
      "\u001b[32m[I 2022-12-19 22:08:11,960]\u001b[0m Trial 37 finished with value: 0.8528301886792453 and parameters: {'rf_max_depth': 42, 'rf_min_samples_split': 6, 'rf_min_samples_leaf': 41, 'rf_n_estimators': 87, 'rf_bootstrap': 'False', 'rf_criterion': 'gini'}. Best is trial 30 with value: 0.9622641509433962.\u001b[0m\n",
      "\u001b[32m[I 2022-12-19 22:08:12,289]\u001b[0m Trial 38 finished with value: 0.9584905660377359 and parameters: {'rf_max_depth': 41, 'rf_min_samples_split': 2, 'rf_min_samples_leaf': 13, 'rf_n_estimators': 84, 'rf_bootstrap': 'False', 'rf_criterion': 'gini'}. Best is trial 30 with value: 0.9622641509433962.\u001b[0m\n",
      "\u001b[32m[I 2022-12-19 22:08:13,235]\u001b[0m Trial 39 finished with value: 0.9245283018867925 and parameters: {'rf_max_depth': 31, 'rf_min_samples_split': 2, 'rf_min_samples_leaf': 30, 'rf_n_estimators': 169, 'rf_bootstrap': 'False', 'rf_criterion': 'gini'}. Best is trial 30 with value: 0.9622641509433962.\u001b[0m\n",
      "\u001b[32m[I 2022-12-19 22:08:13,313]\u001b[0m Trial 40 finished with value: 0.9660377358490566 and parameters: {'rf_max_depth': 31, 'rf_min_samples_split': 2, 'rf_min_samples_leaf': 12, 'rf_n_estimators': 130, 'rf_bootstrap': 'False', 'rf_criterion': 'gini'}. Best is trial 40 with value: 0.9660377358490566.\u001b[0m\n",
      "\u001b[32m[I 2022-12-19 22:08:14,264]\u001b[0m Trial 41 finished with value: 0.9471698113207547 and parameters: {'rf_max_depth': 35, 'rf_min_samples_split': 2, 'rf_min_samples_leaf': 9, 'rf_n_estimators': 111, 'rf_bootstrap': 'False', 'rf_criterion': 'entropy'}. Best is trial 40 with value: 0.9660377358490566.\u001b[0m\n",
      "\u001b[32m[I 2022-12-19 22:08:14,430]\u001b[0m Trial 42 finished with value: 0.9509433962264151 and parameters: {'rf_max_depth': 47, 'rf_min_samples_split': 7, 'rf_min_samples_leaf': 10, 'rf_n_estimators': 127, 'rf_bootstrap': 'False', 'rf_criterion': 'gini'}. Best is trial 40 with value: 0.9660377358490566.\u001b[0m\n",
      "\u001b[32m[I 2022-12-19 22:08:15,413]\u001b[0m Trial 43 finished with value: 0.9471698113207547 and parameters: {'rf_max_depth': 43, 'rf_min_samples_split': 3, 'rf_min_samples_leaf': 12, 'rf_n_estimators': 134, 'rf_bootstrap': 'False', 'rf_criterion': 'gini'}. Best is trial 40 with value: 0.9660377358490566.\u001b[0m\n",
      "\u001b[32m[I 2022-12-19 22:08:15,891]\u001b[0m Trial 44 finished with value: 0.9471698113207547 and parameters: {'rf_max_depth': 31, 'rf_min_samples_split': 3, 'rf_min_samples_leaf': 18, 'rf_n_estimators': 177, 'rf_bootstrap': 'False', 'rf_criterion': 'gini'}. Best is trial 40 with value: 0.9660377358490566.\u001b[0m\n",
      "\u001b[32m[I 2022-12-19 22:08:16,558]\u001b[0m Trial 46 finished with value: 0.9547169811320755 and parameters: {'rf_max_depth': 20, 'rf_min_samples_split': 2, 'rf_min_samples_leaf': 16, 'rf_n_estimators': 49, 'rf_bootstrap': 'False', 'rf_criterion': 'gini'}. Best is trial 40 with value: 0.9660377358490566.\u001b[0m\n",
      "\u001b[32m[I 2022-12-19 22:08:16,914]\u001b[0m Trial 45 finished with value: 0.9509433962264151 and parameters: {'rf_max_depth': 31, 'rf_min_samples_split': 5, 'rf_min_samples_leaf': 19, 'rf_n_estimators': 218, 'rf_bootstrap': 'False', 'rf_criterion': 'gini'}. Best is trial 40 with value: 0.9660377358490566.\u001b[0m\n",
      "\u001b[32m[I 2022-12-19 22:08:17,397]\u001b[0m Trial 47 finished with value: 0.9245283018867925 and parameters: {'rf_max_depth': 24, 'rf_min_samples_split': 2, 'rf_min_samples_leaf': 22, 'rf_n_estimators': 75, 'rf_bootstrap': 'False', 'rf_criterion': 'gini'}. Best is trial 40 with value: 0.9660377358490566.\u001b[0m\n",
      "\u001b[32m[I 2022-12-19 22:08:18,246]\u001b[0m Trial 49 finished with value: 0.9283018867924528 and parameters: {'rf_max_depth': 4, 'rf_min_samples_split': 7, 'rf_min_samples_leaf': 8, 'rf_n_estimators': 109, 'rf_bootstrap': 'False', 'rf_criterion': 'entropy'}. Best is trial 40 with value: 0.9660377358490566.\u001b[0m\n",
      "\u001b[32m[I 2022-12-19 22:08:21,923]\u001b[0m Trial 50 finished with value: 0.9584905660377359 and parameters: {'rf_max_depth': 36, 'rf_min_samples_split': 9, 'rf_min_samples_leaf': 14, 'rf_n_estimators': 769, 'rf_bootstrap': 'False', 'rf_criterion': 'gini'}. Best is trial 40 with value: 0.9660377358490566.\u001b[0m\n",
      "\u001b[32m[I 2022-12-19 22:08:22,544]\u001b[0m Trial 48 finished with value: 0.9433962264150944 and parameters: {'rf_max_depth': 38, 'rf_min_samples_split': 7, 'rf_min_samples_leaf': 8, 'rf_n_estimators': 887, 'rf_bootstrap': 'False', 'rf_criterion': 'entropy'}. Best is trial 40 with value: 0.9660377358490566.\u001b[0m\n",
      "\u001b[32m[I 2022-12-19 22:08:22,964]\u001b[0m Trial 52 finished with value: 0.9584905660377359 and parameters: {'rf_max_depth': 42, 'rf_min_samples_split': 4, 'rf_min_samples_leaf': 12, 'rf_n_estimators': 76, 'rf_bootstrap': 'False', 'rf_criterion': 'gini'}. Best is trial 40 with value: 0.9660377358490566.\u001b[0m\n",
      "\u001b[32m[I 2022-12-19 22:08:23,753]\u001b[0m Trial 51 finished with value: 0.9245283018867925 and parameters: {'rf_max_depth': 11, 'rf_min_samples_split': 4, 'rf_min_samples_leaf': 26, 'rf_n_estimators': 306, 'rf_bootstrap': 'False', 'rf_criterion': 'entropy'}. Best is trial 40 with value: 0.9660377358490566.\u001b[0m\n",
      "\u001b[32m[I 2022-12-19 22:08:25,616]\u001b[0m Trial 54 finished with value: 0.9471698113207547 and parameters: {'rf_max_depth': 38, 'rf_min_samples_split': 9, 'rf_min_samples_leaf': 11, 'rf_n_estimators': 384, 'rf_bootstrap': 'False', 'rf_criterion': 'gini'}. Best is trial 40 with value: 0.9660377358490566.\u001b[0m\n",
      "\u001b[32m[I 2022-12-19 22:08:25,911]\u001b[0m Trial 53 finished with value: 0.9509433962264151 and parameters: {'rf_max_depth': 47, 'rf_min_samples_split': 9, 'rf_min_samples_leaf': 15, 'rf_n_estimators': 550, 'rf_bootstrap': 'False', 'rf_criterion': 'gini'}. Best is trial 40 with value: 0.9660377358490566.\u001b[0m\n",
      "\u001b[32m[I 2022-12-19 22:08:26,217]\u001b[0m Trial 56 finished with value: 0.9471698113207547 and parameters: {'rf_max_depth': 28, 'rf_min_samples_split': 15, 'rf_min_samples_leaf': 10, 'rf_n_estimators': 52, 'rf_bootstrap': 'False', 'rf_criterion': 'gini'}. Best is trial 40 with value: 0.9660377358490566.\u001b[0m\n",
      "\u001b[32m[I 2022-12-19 22:08:26,624]\u001b[0m Trial 57 finished with value: 0.9584905660377359 and parameters: {'rf_max_depth': 19, 'rf_min_samples_split': 3, 'rf_min_samples_leaf': 16, 'rf_n_estimators': 71, 'rf_bootstrap': 'False', 'rf_criterion': 'gini'}. Best is trial 40 with value: 0.9660377358490566.\u001b[0m\n",
      "\u001b[32m[I 2022-12-19 22:08:26,955]\u001b[0m Trial 58 finished with value: 0.9283018867924528 and parameters: {'rf_max_depth': 19, 'rf_min_samples_split': 3, 'rf_min_samples_leaf': 21, 'rf_n_estimators': 57, 'rf_bootstrap': 'False', 'rf_criterion': 'gini'}. Best is trial 40 with value: 0.9660377358490566.\u001b[0m\n",
      "\u001b[32m[I 2022-12-19 22:08:27,345]\u001b[0m Trial 59 finished with value: 0.9509433962264151 and parameters: {'rf_max_depth': 10, 'rf_min_samples_split': 3, 'rf_min_samples_leaf': 18, 'rf_n_estimators': 70, 'rf_bootstrap': 'False', 'rf_criterion': 'gini'}. Best is trial 40 with value: 0.9660377358490566.\u001b[0m\n",
      "\u001b[32m[I 2022-12-19 22:08:27,826]\u001b[0m Trial 60 finished with value: 0.9584905660377359 and parameters: {'rf_max_depth': 26, 'rf_min_samples_split': 5, 'rf_min_samples_leaf': 12, 'rf_n_estimators': 88, 'rf_bootstrap': 'False', 'rf_criterion': 'gini'}. Best is trial 40 with value: 0.9660377358490566.\u001b[0m\n",
      "\u001b[32m[I 2022-12-19 22:08:28,400]\u001b[0m Trial 61 finished with value: 0.9433962264150944 and parameters: {'rf_max_depth': 24, 'rf_min_samples_split': 6, 'rf_min_samples_leaf': 7, 'rf_n_estimators': 94, 'rf_bootstrap': 'False', 'rf_criterion': 'gini'}. Best is trial 40 with value: 0.9660377358490566.\u001b[0m\n",
      "\u001b[32m[I 2022-12-19 22:08:29,171]\u001b[0m Trial 55 finished with value: 0.9547169811320755 and parameters: {'rf_max_depth': 50, 'rf_min_samples_split': 3, 'rf_min_samples_leaf': 15, 'rf_n_estimators': 595, 'rf_bootstrap': 'False', 'rf_criterion': 'gini'}. Best is trial 40 with value: 0.9660377358490566.\u001b[0m\n",
      "\u001b[32m[I 2022-12-19 22:08:29,719]\u001b[0m Trial 63 finished with value: 0.9660377358490566 and parameters: {'rf_max_depth': 7, 'rf_min_samples_split': 5, 'rf_min_samples_leaf': 12, 'rf_n_estimators': 93, 'rf_bootstrap': 'False', 'rf_criterion': 'gini'}. Best is trial 40 with value: 0.9660377358490566.\u001b[0m\n",
      "\u001b[32m[I 2022-12-19 22:08:30,382]\u001b[0m Trial 64 finished with value: 0.9471698113207547 and parameters: {'rf_max_depth': 7, 'rf_min_samples_split': 5, 'rf_min_samples_leaf': 17, 'rf_n_estimators': 115, 'rf_bootstrap': 'False', 'rf_criterion': 'gini'}. Best is trial 40 with value: 0.9660377358490566.\u001b[0m\n",
      "\u001b[32m[I 2022-12-19 22:08:31,425]\u001b[0m Trial 65 finished with value: 0.9283018867924528 and parameters: {'rf_max_depth': 5, 'rf_min_samples_split': 6, 'rf_min_samples_leaf': 13, 'rf_n_estimators': 203, 'rf_bootstrap': 'False', 'rf_criterion': 'gini'}. Best is trial 40 with value: 0.9660377358490566.\u001b[0m\n",
      "\u001b[32m[I 2022-12-19 22:08:31,739]\u001b[0m Trial 66 finished with value: 0.9584905660377359 and parameters: {'rf_max_depth': 6, 'rf_min_samples_split': 4, 'rf_min_samples_leaf': 11, 'rf_n_estimators': 45, 'rf_bootstrap': 'False', 'rf_criterion': 'gini'}. Best is trial 40 with value: 0.9660377358490566.\u001b[0m\n",
      "\u001b[32m[I 2022-12-19 22:08:32,187]\u001b[0m Trial 67 finished with value: 0.9471698113207547 and parameters: {'rf_max_depth': 8, 'rf_min_samples_split': 4, 'rf_min_samples_leaf': 10, 'rf_n_estimators': 72, 'rf_bootstrap': 'False', 'rf_criterion': 'gini'}. Best is trial 40 with value: 0.9660377358490566.\u001b[0m\n",
      "\u001b[32m[I 2022-12-19 22:08:32,378]\u001b[0m Trial 68 finished with value: 0.9056603773584906 and parameters: {'rf_max_depth': 4, 'rf_min_samples_split': 13, 'rf_min_samples_leaf': 14, 'rf_n_estimators': 26, 'rf_bootstrap': 'False', 'rf_criterion': 'gini'}. Best is trial 40 with value: 0.9660377358490566.\u001b[0m\n",
      "\u001b[32m[I 2022-12-19 22:08:32,670]\u001b[0m Trial 69 finished with value: 0.939622641509434 and parameters: {'rf_max_depth': 6, 'rf_min_samples_split': 4, 'rf_min_samples_leaf': 7, 'rf_n_estimators': 43, 'rf_bootstrap': 'False', 'rf_criterion': 'gini'}. Best is trial 40 with value: 0.9660377358490566.\u001b[0m\n",
      "\u001b[32m[I 2022-12-19 22:08:32,866]\u001b[0m Trial 70 finished with value: 0.9622641509433962 and parameters: {'rf_max_depth': 7, 'rf_min_samples_split': 10, 'rf_min_samples_leaf': 11, 'rf_n_estimators': 21, 'rf_bootstrap': 'False', 'rf_criterion': 'gini'}. Best is trial 40 with value: 0.9660377358490566.\u001b[0m\n",
      "\u001b[32m[I 2022-12-19 22:08:33,030]\u001b[0m Trial 71 finished with value: 0.9622641509433962 and parameters: {'rf_max_depth': 7, 'rf_min_samples_split': 11, 'rf_min_samples_leaf': 11, 'rf_n_estimators': 20, 'rf_bootstrap': 'True', 'rf_criterion': 'gini'}. Best is trial 40 with value: 0.9660377358490566.\u001b[0m\n",
      "\u001b[32m[I 2022-12-19 22:08:33,226]\u001b[0m Trial 72 finished with value: 0.9584905660377359 and parameters: {'rf_max_depth': 7, 'rf_min_samples_split': 12, 'rf_min_samples_leaf': 11, 'rf_n_estimators': 19, 'rf_bootstrap': 'True', 'rf_criterion': 'gini'}. Best is trial 40 with value: 0.9660377358490566.\u001b[0m\n",
      "\u001b[32m[I 2022-12-19 22:08:33,420]\u001b[0m Trial 73 finished with value: 0.9509433962264151 and parameters: {'rf_max_depth': 6, 'rf_min_samples_split': 10, 'rf_min_samples_leaf': 12, 'rf_n_estimators': 20, 'rf_bootstrap': 'True', 'rf_criterion': 'gini'}. Best is trial 40 with value: 0.9660377358490566.\u001b[0m\n",
      "\u001b[32m[I 2022-12-19 22:08:33,533]\u001b[0m Trial 62 finished with value: 0.9660377358490566 and parameters: {'rf_max_depth': 33, 'rf_min_samples_split': 10, 'rf_min_samples_leaf': 12, 'rf_n_estimators': 931, 'rf_bootstrap': 'False', 'rf_criterion': 'gini'}. Best is trial 40 with value: 0.9660377358490566.\u001b[0m\n",
      "\u001b[32m[I 2022-12-19 22:08:33,614]\u001b[0m Trial 74 finished with value: 0.9471698113207547 and parameters: {'rf_max_depth': 8, 'rf_min_samples_split': 17, 'rf_min_samples_leaf': 9, 'rf_n_estimators': 14, 'rf_bootstrap': 'True', 'rf_criterion': 'gini'}. Best is trial 40 with value: 0.9660377358490566.\u001b[0m\n",
      "\u001b[32m[I 2022-12-19 22:08:33,969]\u001b[0m Trial 75 finished with value: 0.9547169811320755 and parameters: {'rf_max_depth': 7, 'rf_min_samples_split': 18, 'rf_min_samples_leaf': 8, 'rf_n_estimators': 19, 'rf_bootstrap': 'True', 'rf_criterion': 'gini'}. Best is trial 40 with value: 0.9660377358490566.\u001b[0m\n",
      "\u001b[32m[I 2022-12-19 22:08:34,195]\u001b[0m Trial 77 finished with value: 0.9358490566037736 and parameters: {'rf_max_depth': 5, 'rf_min_samples_split': 11, 'rf_min_samples_leaf': 10, 'rf_n_estimators': 35, 'rf_bootstrap': 'True', 'rf_criterion': 'gini'}. Best is trial 40 with value: 0.9660377358490566.\u001b[0m\n",
      "\u001b[32m[I 2022-12-19 22:08:34,393]\u001b[0m Trial 78 finished with value: 0.9433962264150944 and parameters: {'rf_max_depth': 10, 'rf_min_samples_split': 8, 'rf_min_samples_leaf': 7, 'rf_n_estimators': 27, 'rf_bootstrap': 'True', 'rf_criterion': 'gini'}. Best is trial 40 with value: 0.9660377358490566.\u001b[0m\n",
      "\u001b[32m[I 2022-12-19 22:08:34,863]\u001b[0m Trial 79 finished with value: 0.9056603773584906 and parameters: {'rf_max_depth': 4, 'rf_min_samples_split': 10, 'rf_min_samples_leaf': 12, 'rf_n_estimators': 94, 'rf_bootstrap': 'False', 'rf_criterion': 'entropy'}. Best is trial 40 with value: 0.9660377358490566.\u001b[0m\n",
      "\u001b[32m[I 2022-12-19 22:08:35,056]\u001b[0m Trial 80 finished with value: 0.939622641509434 and parameters: {'rf_max_depth': 9, 'rf_min_samples_split': 20, 'rf_min_samples_leaf': 9, 'rf_n_estimators': 22, 'rf_bootstrap': 'False', 'rf_criterion': 'gini'}. Best is trial 40 with value: 0.9660377358490566.\u001b[0m\n",
      "\u001b[32m[I 2022-12-19 22:08:35,299]\u001b[0m Trial 81 finished with value: 0.9584905660377359 and parameters: {'rf_max_depth': 6, 'rf_min_samples_split': 13, 'rf_min_samples_leaf': 11, 'rf_n_estimators': 40, 'rf_bootstrap': 'False', 'rf_criterion': 'gini'}. Best is trial 40 with value: 0.9660377358490566.\u001b[0m\n",
      "\u001b[32m[I 2022-12-19 22:08:35,455]\u001b[0m Trial 82 finished with value: 0.9584905660377359 and parameters: {'rf_max_depth': 7, 'rf_min_samples_split': 12, 'rf_min_samples_leaf': 11, 'rf_n_estimators': 18, 'rf_bootstrap': 'True', 'rf_criterion': 'gini'}. Best is trial 40 with value: 0.9660377358490566.\u001b[0m\n",
      "\u001b[32m[I 2022-12-19 22:08:35,593]\u001b[0m Trial 83 finished with value: 0.9509433962264151 and parameters: {'rf_max_depth': 7, 'rf_min_samples_split': 15, 'rf_min_samples_leaf': 10, 'rf_n_estimators': 12, 'rf_bootstrap': 'True', 'rf_criterion': 'gini'}. Best is trial 40 with value: 0.9660377358490566.\u001b[0m\n",
      "\u001b[32m[I 2022-12-19 22:08:37,805]\u001b[0m Trial 76 finished with value: 0.9471698113207547 and parameters: {'rf_max_depth': 10, 'rf_min_samples_split': 11, 'rf_min_samples_leaf': 10, 'rf_n_estimators': 765, 'rf_bootstrap': 'True', 'rf_criterion': 'gini'}. Best is trial 40 with value: 0.9660377358490566.\u001b[0m\n",
      "\u001b[32m[I 2022-12-19 22:08:40,197]\u001b[0m Trial 84 finished with value: 0.9509433962264151 and parameters: {'rf_max_depth': 33, 'rf_min_samples_split': 10, 'rf_min_samples_leaf': 16, 'rf_n_estimators': 923, 'rf_bootstrap': 'False', 'rf_criterion': 'gini'}. Best is trial 40 with value: 0.9660377358490566.\u001b[0m\n",
      "\u001b[32m[I 2022-12-19 22:08:40,723]\u001b[0m Trial 86 finished with value: 0.9547169811320755 and parameters: {'rf_max_depth': 41, 'rf_min_samples_split': 8, 'rf_min_samples_leaf': 14, 'rf_n_estimators': 101, 'rf_bootstrap': 'False', 'rf_criterion': 'gini'}. Best is trial 40 with value: 0.9660377358490566.\u001b[0m\n",
      "\u001b[32m[I 2022-12-19 22:08:42,318]\u001b[0m Trial 87 finished with value: 0.9622641509433962 and parameters: {'rf_max_depth': 39, 'rf_min_samples_split': 7, 'rf_min_samples_leaf': 13, 'rf_n_estimators': 284, 'rf_bootstrap': 'False', 'rf_criterion': 'gini'}. Best is trial 40 with value: 0.9660377358490566.\u001b[0m\n",
      "\u001b[32m[I 2022-12-19 22:08:42,505]\u001b[0m Trial 85 finished with value: 0.9622641509433962 and parameters: {'rf_max_depth': 35, 'rf_min_samples_split': 8, 'rf_min_samples_leaf': 14, 'rf_n_estimators': 895, 'rf_bootstrap': 'True', 'rf_criterion': 'gini'}. Best is trial 40 with value: 0.9660377358490566.\u001b[0m\n",
      "\u001b[32m[I 2022-12-19 22:08:43,303]\u001b[0m Trial 88 finished with value: 0.9471698113207547 and parameters: {'rf_max_depth': 28, 'rf_min_samples_split': 33, 'rf_min_samples_leaf': 20, 'rf_n_estimators': 124, 'rf_bootstrap': 'False', 'rf_criterion': 'gini'}. Best is trial 40 with value: 0.9660377358490566.\u001b[0m\n",
      "\u001b[32m[I 2022-12-19 22:08:45,393]\u001b[0m Trial 90 finished with value: 0.9622641509433962 and parameters: {'rf_max_depth': 32, 'rf_min_samples_split': 6, 'rf_min_samples_leaf': 13, 'rf_n_estimators': 334, 'rf_bootstrap': 'True', 'rf_criterion': 'entropy'}. Best is trial 40 with value: 0.9660377358490566.\u001b[0m\n",
      "\u001b[32m[I 2022-12-19 22:08:45,631]\u001b[0m Trial 89 finished with value: 0.9471698113207547 and parameters: {'rf_max_depth': 30, 'rf_min_samples_split': 7, 'rf_min_samples_leaf': 16, 'rf_n_estimators': 464, 'rf_bootstrap': 'True', 'rf_criterion': 'gini'}. Best is trial 40 with value: 0.9660377358490566.\u001b[0m\n",
      "\u001b[32m[I 2022-12-19 22:08:47,254]\u001b[0m Trial 91 finished with value: 0.9471698113207547 and parameters: {'rf_max_depth': 22, 'rf_min_samples_split': 7, 'rf_min_samples_leaf': 17, 'rf_n_estimators': 285, 'rf_bootstrap': 'True', 'rf_criterion': 'entropy'}. Best is trial 40 with value: 0.9660377358490566.\u001b[0m\n",
      "\u001b[32m[I 2022-12-19 22:08:47,723]\u001b[0m Trial 92 finished with value: 0.9509433962264151 and parameters: {'rf_max_depth': 6, 'rf_min_samples_split': 8, 'rf_min_samples_leaf': 15, 'rf_n_estimators': 316, 'rf_bootstrap': 'True', 'rf_criterion': 'entropy'}. Best is trial 40 with value: 0.9660377358490566.\u001b[0m\n",
      "\u001b[32m[I 2022-12-19 22:08:51,756]\u001b[0m Trial 93 finished with value: 0.9622641509433962 and parameters: {'rf_max_depth': 34, 'rf_min_samples_split': 9, 'rf_min_samples_leaf': 14, 'rf_n_estimators': 797, 'rf_bootstrap': 'True', 'rf_criterion': 'entropy'}. Best is trial 40 with value: 0.9660377358490566.\u001b[0m\n",
      "\u001b[32m[I 2022-12-19 22:08:52,252]\u001b[0m Trial 94 finished with value: 0.9622641509433962 and parameters: {'rf_max_depth': 33, 'rf_min_samples_split': 6, 'rf_min_samples_leaf': 13, 'rf_n_estimators': 759, 'rf_bootstrap': 'True', 'rf_criterion': 'entropy'}. Best is trial 40 with value: 0.9660377358490566.\u001b[0m\n",
      "\u001b[32m[I 2022-12-19 22:08:55,507]\u001b[0m Trial 95 finished with value: 0.9622641509433962 and parameters: {'rf_max_depth': 34, 'rf_min_samples_split': 10, 'rf_min_samples_leaf': 13, 'rf_n_estimators': 710, 'rf_bootstrap': 'True', 'rf_criterion': 'entropy'}. Best is trial 40 with value: 0.9660377358490566.\u001b[0m\n",
      "\u001b[32m[I 2022-12-19 22:08:57,269]\u001b[0m Trial 96 finished with value: 0.9622641509433962 and parameters: {'rf_max_depth': 34, 'rf_min_samples_split': 9, 'rf_min_samples_leaf': 13, 'rf_n_estimators': 989, 'rf_bootstrap': 'True', 'rf_criterion': 'entropy'}. Best is trial 40 with value: 0.9660377358490566.\u001b[0m\n",
      "\u001b[32m[I 2022-12-19 22:08:59,118]\u001b[0m Trial 97 finished with value: 0.9622641509433962 and parameters: {'rf_max_depth': 29, 'rf_min_samples_split': 6, 'rf_min_samples_leaf': 13, 'rf_n_estimators': 669, 'rf_bootstrap': 'True', 'rf_criterion': 'entropy'}. Best is trial 40 with value: 0.9660377358490566.\u001b[0m\n",
      "\u001b[32m[I 2022-12-19 22:09:00,956]\u001b[0m Trial 98 finished with value: 0.9584905660377359 and parameters: {'rf_max_depth': 37, 'rf_min_samples_split': 12, 'rf_min_samples_leaf': 12, 'rf_n_estimators': 653, 'rf_bootstrap': 'True', 'rf_criterion': 'entropy'}. Best is trial 40 with value: 0.9660377358490566.\u001b[0m\n",
      "\u001b[32m[I 2022-12-19 22:09:04,319]\u001b[0m Trial 99 finished with value: 0.9471698113207547 and parameters: {'rf_max_depth': 39, 'rf_min_samples_split': 8, 'rf_min_samples_leaf': 19, 'rf_n_estimators': 985, 'rf_bootstrap': 'True', 'rf_criterion': 'entropy'}. Best is trial 40 with value: 0.9660377358490566.\u001b[0m\n",
      "\u001b[32m[I 2022-12-19 22:09:05,063]\u001b[0m Trial 100 finished with value: 0.9471698113207547 and parameters: {'rf_max_depth': 33, 'rf_min_samples_split': 7, 'rf_min_samples_leaf': 19, 'rf_n_estimators': 767, 'rf_bootstrap': 'True', 'rf_criterion': 'entropy'}. Best is trial 40 with value: 0.9660377358490566.\u001b[0m\n",
      "\u001b[32m[I 2022-12-19 22:09:06,627]\u001b[0m Trial 101 finished with value: 0.9622641509433962 and parameters: {'rf_max_depth': 44, 'rf_min_samples_split': 11, 'rf_min_samples_leaf': 14, 'rf_n_estimators': 370, 'rf_bootstrap': 'True', 'rf_criterion': 'entropy'}. Best is trial 40 with value: 0.9660377358490566.\u001b[0m\n",
      "\u001b[32m[I 2022-12-19 22:09:08,461]\u001b[0m Trial 103 finished with value: 0.9471698113207547 and parameters: {'rf_max_depth': 44, 'rf_min_samples_split': 9, 'rf_min_samples_leaf': 15, 'rf_n_estimators': 356, 'rf_bootstrap': 'True', 'rf_criterion': 'entropy'}. Best is trial 40 with value: 0.9660377358490566.\u001b[0m\n",
      "\u001b[32m[I 2022-12-19 22:09:09,689]\u001b[0m Trial 102 finished with value: 0.9471698113207547 and parameters: {'rf_max_depth': 34, 'rf_min_samples_split': 9, 'rf_min_samples_leaf': 15, 'rf_n_estimators': 853, 'rf_bootstrap': 'True', 'rf_criterion': 'entropy'}. Best is trial 40 with value: 0.9660377358490566.\u001b[0m\n",
      "\u001b[32m[I 2022-12-19 22:09:11,226]\u001b[0m Trial 104 finished with value: 0.9471698113207547 and parameters: {'rf_max_depth': 26, 'rf_min_samples_split': 10, 'rf_min_samples_leaf': 17, 'rf_n_estimators': 508, 'rf_bootstrap': 'True', 'rf_criterion': 'entropy'}. Best is trial 40 with value: 0.9660377358490566.\u001b[0m\n",
      "\u001b[32m[I 2022-12-19 22:09:12,545]\u001b[0m Trial 105 finished with value: 0.9622641509433962 and parameters: {'rf_max_depth': 28, 'rf_min_samples_split': 6, 'rf_min_samples_leaf': 14, 'rf_n_estimators': 532, 'rf_bootstrap': 'True', 'rf_criterion': 'entropy'}. Best is trial 40 with value: 0.9660377358490566.\u001b[0m\n",
      "\u001b[32m[I 2022-12-19 22:09:15,215]\u001b[0m Trial 106 finished with value: 0.939622641509434 and parameters: {'rf_max_depth': 29, 'rf_min_samples_split': 13, 'rf_min_samples_leaf': 3, 'rf_n_estimators': 741, 'rf_bootstrap': 'True', 'rf_criterion': 'entropy'}. Best is trial 40 with value: 0.9660377358490566.\u001b[0m\n",
      "\u001b[32m[I 2022-12-19 22:09:15,221]\u001b[0m Trial 107 finished with value: 0.9584905660377359 and parameters: {'rf_max_depth': 24, 'rf_min_samples_split': 13, 'rf_min_samples_leaf': 12, 'rf_n_estimators': 554, 'rf_bootstrap': 'True', 'rf_criterion': 'entropy'}. Best is trial 40 with value: 0.9660377358490566.\u001b[0m\n",
      "\u001b[32m[I 2022-12-19 22:09:16,680]\u001b[0m Trial 108 finished with value: 0.9660377358490566 and parameters: {'rf_max_depth': 8, 'rf_min_samples_split': 10, 'rf_min_samples_leaf': 13, 'rf_n_estimators': 247, 'rf_bootstrap': 'True', 'rf_criterion': 'gini'}. Best is trial 40 with value: 0.9660377358490566.\u001b[0m\n",
      "\u001b[32m[I 2022-12-19 22:09:18,064]\u001b[0m Trial 110 finished with value: 0.9471698113207547 and parameters: {'rf_max_depth': 32, 'rf_min_samples_split': 15, 'rf_min_samples_leaf': 4, 'rf_n_estimators': 266, 'rf_bootstrap': 'True', 'rf_criterion': 'gini'}. Best is trial 40 with value: 0.9660377358490566.\u001b[0m\n",
      "\u001b[32m[I 2022-12-19 22:09:18,744]\u001b[0m Trial 109 finished with value: 0.9660377358490566 and parameters: {'rf_max_depth': 8, 'rf_min_samples_split': 10, 'rf_min_samples_leaf': 13, 'rf_n_estimators': 670, 'rf_bootstrap': 'True', 'rf_criterion': 'gini'}. Best is trial 40 with value: 0.9660377358490566.\u001b[0m\n",
      "\u001b[32m[I 2022-12-19 22:09:20,507]\u001b[0m Trial 111 finished with value: 0.9433962264150944 and parameters: {'rf_max_depth': 8, 'rf_min_samples_split': 11, 'rf_min_samples_leaf': 8, 'rf_n_estimators': 414, 'rf_bootstrap': 'True', 'rf_criterion': 'entropy'}. Best is trial 40 with value: 0.9660377358490566.\u001b[0m\n",
      "\u001b[32m[I 2022-12-19 22:09:22,988]\u001b[0m Trial 112 finished with value: 0.9471698113207547 and parameters: {'rf_max_depth': 9, 'rf_min_samples_split': 11, 'rf_min_samples_leaf': 11, 'rf_n_estimators': 858, 'rf_bootstrap': 'True', 'rf_criterion': 'gini'}. Best is trial 40 with value: 0.9660377358490566.\u001b[0m\n",
      "\u001b[32m[I 2022-12-19 22:09:24,005]\u001b[0m Trial 113 finished with value: 0.9622641509433962 and parameters: {'rf_max_depth': 11, 'rf_min_samples_split': 9, 'rf_min_samples_leaf': 13, 'rf_n_estimators': 658, 'rf_bootstrap': 'True', 'rf_criterion': 'entropy'}. Best is trial 40 with value: 0.9660377358490566.\u001b[0m\n",
      "\u001b[32m[I 2022-12-19 22:09:24,790]\u001b[0m Trial 115 finished with value: 0.9660377358490566 and parameters: {'rf_max_depth': 8, 'rf_min_samples_split': 8, 'rf_min_samples_leaf': 12, 'rf_n_estimators': 151, 'rf_bootstrap': 'False', 'rf_criterion': 'gini'}. Best is trial 40 with value: 0.9660377358490566.\u001b[0m\n",
      "\u001b[32m[I 2022-12-19 22:09:25,589]\u001b[0m Trial 116 finished with value: 0.9471698113207547 and parameters: {'rf_max_depth': 8, 'rf_min_samples_split': 8, 'rf_min_samples_leaf': 9, 'rf_n_estimators': 152, 'rf_bootstrap': 'False', 'rf_criterion': 'gini'}. Best is trial 40 with value: 0.9660377358490566.\u001b[0m\n",
      "\u001b[32m[I 2022-12-19 22:09:26,405]\u001b[0m Trial 114 finished with value: 0.9584905660377359 and parameters: {'rf_max_depth': 46, 'rf_min_samples_split': 14, 'rf_min_samples_leaf': 12, 'rf_n_estimators': 624, 'rf_bootstrap': 'True', 'rf_criterion': 'entropy'}. Best is trial 40 with value: 0.9660377358490566.\u001b[0m\n",
      "\u001b[32m[I 2022-12-19 22:09:26,688]\u001b[0m Trial 117 finished with value: 0.9433962264150944 and parameters: {'rf_max_depth': 46, 'rf_min_samples_split': 12, 'rf_min_samples_leaf': 12, 'rf_n_estimators': 188, 'rf_bootstrap': 'True', 'rf_criterion': 'entropy'}. Best is trial 40 with value: 0.9660377358490566.\u001b[0m\n",
      "\u001b[32m[I 2022-12-19 22:09:27,490]\u001b[0m Trial 118 finished with value: 0.9584905660377359 and parameters: {'rf_max_depth': 12, 'rf_min_samples_split': 12, 'rf_min_samples_leaf': 15, 'rf_n_estimators': 190, 'rf_bootstrap': 'True', 'rf_criterion': 'entropy'}. Best is trial 40 with value: 0.9660377358490566.\u001b[0m\n",
      "\u001b[32m[I 2022-12-19 22:09:28,606]\u001b[0m Trial 120 finished with value: 0.9283018867924528 and parameters: {'rf_max_depth': 5, 'rf_min_samples_split': 10, 'rf_min_samples_leaf': 11, 'rf_n_estimators': 236, 'rf_bootstrap': 'False', 'rf_criterion': 'gini'}. Best is trial 40 with value: 0.9660377358490566.\u001b[0m\n",
      "\u001b[32m[I 2022-12-19 22:09:29,075]\u001b[0m Trial 119 finished with value: 0.9584905660377359 and parameters: {'rf_max_depth': 40, 'rf_min_samples_split': 7, 'rf_min_samples_leaf': 14, 'rf_n_estimators': 447, 'rf_bootstrap': 'False', 'rf_criterion': 'gini'}. Best is trial 40 with value: 0.9660377358490566.\u001b[0m\n",
      "\u001b[32m[I 2022-12-19 22:09:30,868]\u001b[0m Trial 121 finished with value: 0.9471698113207547 and parameters: {'rf_max_depth': 8, 'rf_min_samples_split': 16, 'rf_min_samples_leaf': 10, 'rf_n_estimators': 442, 'rf_bootstrap': 'False', 'rf_criterion': 'gini'}. Best is trial 40 with value: 0.9660377358490566.\u001b[0m\n",
      "\u001b[32m[I 2022-12-19 22:09:32,076]\u001b[0m Trial 122 finished with value: 0.9471698113207547 and parameters: {'rf_max_depth': 10, 'rf_min_samples_split': 8, 'rf_min_samples_leaf': 10, 'rf_n_estimators': 520, 'rf_bootstrap': 'True', 'rf_criterion': 'gini'}. Best is trial 40 with value: 0.9660377358490566.\u001b[0m\n",
      "\u001b[32m[I 2022-12-19 22:09:35,662]\u001b[0m Trial 123 finished with value: 0.9622641509433962 and parameters: {'rf_max_depth': 30, 'rf_min_samples_split': 10, 'rf_min_samples_leaf': 13, 'rf_n_estimators': 699, 'rf_bootstrap': 'True', 'rf_criterion': 'entropy'}. Best is trial 40 with value: 0.9660377358490566.\u001b[0m\n",
      "\u001b[32m[I 2022-12-19 22:09:36,862]\u001b[0m Trial 124 finished with value: 0.9622641509433962 and parameters: {'rf_max_depth': 29, 'rf_min_samples_split': 10, 'rf_min_samples_leaf': 13, 'rf_n_estimators': 604, 'rf_bootstrap': 'True', 'rf_criterion': 'entropy'}. Best is trial 40 with value: 0.9660377358490566.\u001b[0m\n",
      "\u001b[32m[I 2022-12-19 22:09:38,063]\u001b[0m Trial 126 finished with value: 0.9471698113207547 and parameters: {'rf_max_depth': 36, 'rf_min_samples_split': 7, 'rf_min_samples_leaf': 11, 'rf_n_estimators': 236, 'rf_bootstrap': 'True', 'rf_criterion': 'gini'}. Best is trial 40 with value: 0.9660377358490566.\u001b[0m\n",
      "\u001b[32m[I 2022-12-19 22:09:39,635]\u001b[0m Trial 125 finished with value: 0.9471698113207547 and parameters: {'rf_max_depth': 27, 'rf_min_samples_split': 6, 'rf_min_samples_leaf': 17, 'rf_n_estimators': 580, 'rf_bootstrap': 'True', 'rf_criterion': 'entropy'}. Best is trial 40 with value: 0.9660377358490566.\u001b[0m\n",
      "\u001b[32m[I 2022-12-19 22:09:42,371]\u001b[0m Trial 127 finished with value: 0.9471698113207547 and parameters: {'rf_max_depth': 9, 'rf_min_samples_split': 9, 'rf_min_samples_leaf': 16, 'rf_n_estimators': 815, 'rf_bootstrap': 'True', 'rf_criterion': 'entropy'}. Best is trial 40 with value: 0.9660377358490566.\u001b[0m\n",
      "\u001b[32m[I 2022-12-19 22:09:43,214]\u001b[0m Trial 129 finished with value: 0.9471698113207547 and parameters: {'rf_max_depth': 22, 'rf_min_samples_split': 11, 'rf_min_samples_leaf': 9, 'rf_n_estimators': 152, 'rf_bootstrap': 'True', 'rf_criterion': 'gini'}. Best is trial 40 with value: 0.9660377358490566.\u001b[0m\n",
      "\u001b[32m[I 2022-12-19 22:09:44,843]\u001b[0m Trial 128 finished with value: 0.9660377358490566 and parameters: {'rf_max_depth': 35, 'rf_min_samples_split': 9, 'rf_min_samples_leaf': 13, 'rf_n_estimators': 989, 'rf_bootstrap': 'False', 'rf_criterion': 'gini'}. Best is trial 40 with value: 0.9660377358490566.\u001b[0m\n",
      "\u001b[32m[I 2022-12-19 22:09:46,602]\u001b[0m Trial 131 finished with value: 0.9660377358490566 and parameters: {'rf_max_depth': 43, 'rf_min_samples_split': 14, 'rf_min_samples_leaf': 13, 'rf_n_estimators': 363, 'rf_bootstrap': 'False', 'rf_criterion': 'gini'}. Best is trial 40 with value: 0.9660377358490566.\u001b[0m\n",
      "\u001b[32m[I 2022-12-19 22:09:48,248]\u001b[0m Trial 130 finished with value: 0.9584905660377359 and parameters: {'rf_max_depth': 11, 'rf_min_samples_split': 6, 'rf_min_samples_leaf': 14, 'rf_n_estimators': 959, 'rf_bootstrap': 'True', 'rf_criterion': 'entropy'}. Best is trial 40 with value: 0.9660377358490566.\u001b[0m\n",
      "\u001b[32m[I 2022-12-19 22:09:48,559]\u001b[0m Trial 132 finished with value: 0.9660377358490566 and parameters: {'rf_max_depth': 7, 'rf_min_samples_split': 11, 'rf_min_samples_leaf': 12, 'rf_n_estimators': 340, 'rf_bootstrap': 'False', 'rf_criterion': 'gini'}. Best is trial 40 with value: 0.9660377358490566.\u001b[0m\n",
      "\u001b[32m[I 2022-12-19 22:09:49,946]\u001b[0m Trial 134 finished with value: 0.9660377358490566 and parameters: {'rf_max_depth': 7, 'rf_min_samples_split': 14, 'rf_min_samples_leaf': 12, 'rf_n_estimators': 269, 'rf_bootstrap': 'False', 'rf_criterion': 'gini'}. Best is trial 40 with value: 0.9660377358490566.\u001b[0m\n",
      "\u001b[32m[I 2022-12-19 22:09:51,351]\u001b[0m Trial 135 finished with value: 0.9660377358490566 and parameters: {'rf_max_depth': 7, 'rf_min_samples_split': 16, 'rf_min_samples_leaf': 12, 'rf_n_estimators': 271, 'rf_bootstrap': 'False', 'rf_criterion': 'gini'}. Best is trial 40 with value: 0.9660377358490566.\u001b[0m\n",
      "\u001b[32m[I 2022-12-19 22:09:51,938]\u001b[0m Trial 133 finished with value: 0.9660377358490566 and parameters: {'rf_max_depth': 7, 'rf_min_samples_split': 14, 'rf_min_samples_leaf': 12, 'rf_n_estimators': 697, 'rf_bootstrap': 'False', 'rf_criterion': 'gini'}. Best is trial 40 with value: 0.9660377358490566.\u001b[0m\n",
      "\u001b[32m[I 2022-12-19 22:09:53,167]\u001b[0m Trial 136 finished with value: 0.9660377358490566 and parameters: {'rf_max_depth': 7, 'rf_min_samples_split': 14, 'rf_min_samples_leaf': 11, 'rf_n_estimators': 255, 'rf_bootstrap': 'False', 'rf_criterion': 'gini'}. Best is trial 40 with value: 0.9660377358490566.\u001b[0m\n",
      "\u001b[32m[I 2022-12-19 22:09:53,745]\u001b[0m Trial 137 finished with value: 0.9660377358490566 and parameters: {'rf_max_depth': 7, 'rf_min_samples_split': 20, 'rf_min_samples_leaf': 12, 'rf_n_estimators': 213, 'rf_bootstrap': 'False', 'rf_criterion': 'gini'}. Best is trial 40 with value: 0.9660377358490566.\u001b[0m\n",
      "\u001b[32m[I 2022-12-19 22:09:54,826]\u001b[0m Trial 138 finished with value: 0.9547169811320755 and parameters: {'rf_max_depth': 6, 'rf_min_samples_split': 19, 'rf_min_samples_leaf': 12, 'rf_n_estimators': 265, 'rf_bootstrap': 'False', 'rf_criterion': 'gini'}. Best is trial 40 with value: 0.9660377358490566.\u001b[0m\n",
      "\u001b[32m[I 2022-12-19 22:09:55,558]\u001b[0m Trial 139 finished with value: 0.9660377358490566 and parameters: {'rf_max_depth': 8, 'rf_min_samples_split': 21, 'rf_min_samples_leaf': 12, 'rf_n_estimators': 262, 'rf_bootstrap': 'False', 'rf_criterion': 'gini'}. Best is trial 40 with value: 0.9660377358490566.\u001b[0m\n",
      "\u001b[32m[I 2022-12-19 22:09:56,322]\u001b[0m Trial 140 finished with value: 0.9471698113207547 and parameters: {'rf_max_depth': 8, 'rf_min_samples_split': 20, 'rf_min_samples_leaf': 10, 'rf_n_estimators': 222, 'rf_bootstrap': 'False', 'rf_criterion': 'gini'}. Best is trial 40 with value: 0.9660377358490566.\u001b[0m\n",
      "\u001b[32m[I 2022-12-19 22:09:56,894]\u001b[0m Trial 141 finished with value: 0.9433962264150944 and parameters: {'rf_max_depth': 8, 'rf_min_samples_split': 22, 'rf_min_samples_leaf': 10, 'rf_n_estimators': 202, 'rf_bootstrap': 'False', 'rf_criterion': 'gini'}. Best is trial 40 with value: 0.9660377358490566.\u001b[0m\n",
      "\u001b[32m[I 2022-12-19 22:09:57,958]\u001b[0m Trial 142 finished with value: 0.9660377358490566 and parameters: {'rf_max_depth': 9, 'rf_min_samples_split': 21, 'rf_min_samples_leaf': 12, 'rf_n_estimators': 271, 'rf_bootstrap': 'False', 'rf_criterion': 'gini'}. Best is trial 40 with value: 0.9660377358490566.\u001b[0m\n",
      "\u001b[32m[I 2022-12-19 22:09:58,472]\u001b[0m Trial 143 finished with value: 0.9660377358490566 and parameters: {'rf_max_depth': 9, 'rf_min_samples_split': 23, 'rf_min_samples_leaf': 12, 'rf_n_estimators': 254, 'rf_bootstrap': 'False', 'rf_criterion': 'gini'}. Best is trial 40 with value: 0.9660377358490566.\u001b[0m\n",
      "\u001b[32m[I 2022-12-19 22:09:59,636]\u001b[0m Trial 144 finished with value: 0.9660377358490566 and parameters: {'rf_max_depth': 9, 'rf_min_samples_split': 23, 'rf_min_samples_leaf': 12, 'rf_n_estimators': 250, 'rf_bootstrap': 'False', 'rf_criterion': 'gini'}. Best is trial 40 with value: 0.9660377358490566.\u001b[0m\n",
      "\u001b[32m[I 2022-12-19 22:10:00,459]\u001b[0m Trial 145 finished with value: 0.9056603773584906 and parameters: {'rf_max_depth': 3, 'rf_min_samples_split': 26, 'rf_min_samples_leaf': 11, 'rf_n_estimators': 315, 'rf_bootstrap': 'False', 'rf_criterion': 'gini'}. Best is trial 40 with value: 0.9660377358490566.\u001b[0m\n",
      "\u001b[32m[I 2022-12-19 22:10:00,996]\u001b[0m Trial 146 finished with value: 0.9056603773584906 and parameters: {'rf_max_depth': 3, 'rf_min_samples_split': 23, 'rf_min_samples_leaf': 11, 'rf_n_estimators': 244, 'rf_bootstrap': 'False', 'rf_criterion': 'gini'}. Best is trial 40 with value: 0.9660377358490566.\u001b[0m\n",
      "\u001b[32m[I 2022-12-19 22:10:01,810]\u001b[0m Trial 148 finished with value: 0.9584905660377359 and parameters: {'rf_max_depth': 9, 'rf_min_samples_split': 28, 'rf_min_samples_leaf': 12, 'rf_n_estimators': 167, 'rf_bootstrap': 'False', 'rf_criterion': 'gini'}. Best is trial 40 with value: 0.9660377358490566.\u001b[0m\n",
      "\u001b[32m[I 2022-12-19 22:10:01,829]\u001b[0m Trial 147 finished with value: 0.9660377358490566 and parameters: {'rf_max_depth': 9, 'rf_min_samples_split': 24, 'rf_min_samples_leaf': 12, 'rf_n_estimators': 250, 'rf_bootstrap': 'False', 'rf_criterion': 'gini'}. Best is trial 40 with value: 0.9660377358490566.\u001b[0m\n",
      "\u001b[32m[I 2022-12-19 22:10:03,327]\u001b[0m Trial 149 finished with value: 0.9509433962264151 and parameters: {'rf_max_depth': 10, 'rf_min_samples_split': 17, 'rf_min_samples_leaf': 15, 'rf_n_estimators': 286, 'rf_bootstrap': 'False', 'rf_criterion': 'gini'}. Best is trial 40 with value: 0.9660377358490566.\u001b[0m\n",
      "\u001b[32m[I 2022-12-19 22:10:03,525]\u001b[0m Trial 150 finished with value: 0.9471698113207547 and parameters: {'rf_max_depth': 10, 'rf_min_samples_split': 17, 'rf_min_samples_leaf': 15, 'rf_n_estimators': 295, 'rf_bootstrap': 'False', 'rf_criterion': 'gini'}. Best is trial 40 with value: 0.9660377358490566.\u001b[0m\n",
      "\u001b[32m[I 2022-12-19 22:10:04,604]\u001b[0m Trial 152 finished with value: 0.9547169811320755 and parameters: {'rf_max_depth': 7, 'rf_min_samples_split': 28, 'rf_min_samples_leaf': 13, 'rf_n_estimators': 216, 'rf_bootstrap': 'False', 'rf_criterion': 'gini'}. Best is trial 40 with value: 0.9660377358490566.\u001b[0m\n",
      "\u001b[32m[I 2022-12-19 22:10:05,235]\u001b[0m Trial 151 finished with value: 0.9622641509433962 and parameters: {'rf_max_depth': 7, 'rf_min_samples_split': 16, 'rf_min_samples_leaf': 9, 'rf_n_estimators': 343, 'rf_bootstrap': 'False', 'rf_criterion': 'gini'}. Best is trial 40 with value: 0.9660377358490566.\u001b[0m\n",
      "\u001b[32m[I 2022-12-19 22:10:06,507]\u001b[0m Trial 153 finished with value: 0.9547169811320755 and parameters: {'rf_max_depth': 6, 'rf_min_samples_split': 21, 'rf_min_samples_leaf': 12, 'rf_n_estimators': 335, 'rf_bootstrap': 'False', 'rf_criterion': 'gini'}. Best is trial 40 with value: 0.9660377358490566.\u001b[0m\n",
      "\u001b[32m[I 2022-12-19 22:10:07,375]\u001b[0m Trial 154 finished with value: 0.9660377358490566 and parameters: {'rf_max_depth': 9, 'rf_min_samples_split': 23, 'rf_min_samples_leaf': 12, 'rf_n_estimators': 380, 'rf_bootstrap': 'False', 'rf_criterion': 'gini'}. Best is trial 40 with value: 0.9660377358490566.\u001b[0m\n",
      "\u001b[32m[I 2022-12-19 22:10:08,740]\u001b[0m Trial 155 finished with value: 0.9471698113207547 and parameters: {'rf_max_depth': 9, 'rf_min_samples_split': 15, 'rf_min_samples_leaf': 11, 'rf_n_estimators': 391, 'rf_bootstrap': 'False', 'rf_criterion': 'gini'}. Best is trial 40 with value: 0.9660377358490566.\u001b[0m\n",
      "\u001b[32m[I 2022-12-19 22:10:09,616]\u001b[0m Trial 156 finished with value: 0.9622641509433962 and parameters: {'rf_max_depth': 17, 'rf_min_samples_split': 14, 'rf_min_samples_leaf': 11, 'rf_n_estimators': 397, 'rf_bootstrap': 'False', 'rf_criterion': 'gini'}. Best is trial 40 with value: 0.9660377358490566.\u001b[0m\n",
      "\u001b[32m[I 2022-12-19 22:10:10,274]\u001b[0m Trial 157 finished with value: 0.9471698113207547 and parameters: {'rf_max_depth': 12, 'rf_min_samples_split': 24, 'rf_min_samples_leaf': 10, 'rf_n_estimators': 260, 'rf_bootstrap': 'False', 'rf_criterion': 'gini'}. Best is trial 40 with value: 0.9660377358490566.\u001b[0m\n",
      "\u001b[32m[I 2022-12-19 22:10:10,874]\u001b[0m Trial 158 finished with value: 0.9433962264150944 and parameters: {'rf_max_depth': 12, 'rf_min_samples_split': 23, 'rf_min_samples_leaf': 10, 'rf_n_estimators': 201, 'rf_bootstrap': 'False', 'rf_criterion': 'gini'}. Best is trial 40 with value: 0.9660377358490566.\u001b[0m\n",
      "\u001b[32m[I 2022-12-19 22:10:11,639]\u001b[0m Trial 160 finished with value: 0.9584905660377359 and parameters: {'rf_max_depth': 8, 'rf_min_samples_split': 33, 'rf_min_samples_leaf': 14, 'rf_n_estimators': 141, 'rf_bootstrap': 'False', 'rf_criterion': 'gini'}. Best is trial 40 with value: 0.9660377358490566.\u001b[0m\n",
      "\u001b[32m[I 2022-12-19 22:10:11,833]\u001b[0m Trial 159 finished with value: 0.9622641509433962 and parameters: {'rf_max_depth': 8, 'rf_min_samples_split': 19, 'rf_min_samples_leaf': 11, 'rf_n_estimators': 257, 'rf_bootstrap': 'False', 'rf_criterion': 'gini'}. Best is trial 40 with value: 0.9660377358490566.\u001b[0m\n",
      "\u001b[32m[I 2022-12-19 22:10:13,048]\u001b[0m Trial 162 finished with value: 0.9660377358490566 and parameters: {'rf_max_depth': 7, 'rf_min_samples_split': 18, 'rf_min_samples_leaf': 12, 'rf_n_estimators': 225, 'rf_bootstrap': 'False', 'rf_criterion': 'gini'}. Best is trial 40 with value: 0.9660377358490566.\u001b[0m\n",
      "\u001b[32m[I 2022-12-19 22:10:13,350]\u001b[0m Trial 161 finished with value: 0.9509433962264151 and parameters: {'rf_max_depth': 9, 'rf_min_samples_split': 25, 'rf_min_samples_leaf': 16, 'rf_n_estimators': 305, 'rf_bootstrap': 'False', 'rf_criterion': 'gini'}. Best is trial 40 with value: 0.9660377358490566.\u001b[0m\n",
      "\u001b[32m[I 2022-12-19 22:10:14,025]\u001b[0m Trial 163 finished with value: 0.9433962264150944 and parameters: {'rf_max_depth': 8, 'rf_min_samples_split': 18, 'rf_min_samples_leaf': 13, 'rf_n_estimators': 175, 'rf_bootstrap': 'False', 'rf_criterion': 'gini'}. Best is trial 40 with value: 0.9660377358490566.\u001b[0m\n",
      "\u001b[32m[I 2022-12-19 22:10:14,611]\u001b[0m Trial 164 finished with value: 0.9660377358490566 and parameters: {'rf_max_depth': 7, 'rf_min_samples_split': 18, 'rf_min_samples_leaf': 12, 'rf_n_estimators': 219, 'rf_bootstrap': 'False', 'rf_criterion': 'gini'}. Best is trial 40 with value: 0.9660377358490566.\u001b[0m\n",
      "\u001b[32m[I 2022-12-19 22:10:15,312]\u001b[0m Trial 165 finished with value: 0.9660377358490566 and parameters: {'rf_max_depth': 7, 'rf_min_samples_split': 21, 'rf_min_samples_leaf': 12, 'rf_n_estimators': 219, 'rf_bootstrap': 'False', 'rf_criterion': 'gini'}. Best is trial 40 with value: 0.9660377358490566.\u001b[0m\n",
      "\u001b[32m[I 2022-12-19 22:10:16,480]\u001b[0m Trial 166 finished with value: 0.9547169811320755 and parameters: {'rf_max_depth': 7, 'rf_min_samples_split': 14, 'rf_min_samples_leaf': 14, 'rf_n_estimators': 354, 'rf_bootstrap': 'False', 'rf_criterion': 'gini'}. Best is trial 40 with value: 0.9660377358490566.\u001b[0m\n",
      "\u001b[32m[I 2022-12-19 22:10:16,549]\u001b[0m Trial 167 finished with value: 0.9660377358490566 and parameters: {'rf_max_depth': 7, 'rf_min_samples_split': 21, 'rf_min_samples_leaf': 12, 'rf_n_estimators': 223, 'rf_bootstrap': 'False', 'rf_criterion': 'gini'}. Best is trial 40 with value: 0.9660377358490566.\u001b[0m\n",
      "\u001b[32m[I 2022-12-19 22:10:17,265]\u001b[0m Trial 169 finished with value: 0.9547169811320755 and parameters: {'rf_max_depth': 6, 'rf_min_samples_split': 28, 'rf_min_samples_leaf': 13, 'rf_n_estimators': 114, 'rf_bootstrap': 'False', 'rf_criterion': 'gini'}. Best is trial 40 with value: 0.9660377358490566.\u001b[0m\n",
      "\u001b[32m[I 2022-12-19 22:10:18,004]\u001b[0m Trial 168 finished with value: 0.9547169811320755 and parameters: {'rf_max_depth': 6, 'rf_min_samples_split': 16, 'rf_min_samples_leaf': 12, 'rf_n_estimators': 274, 'rf_bootstrap': 'False', 'rf_criterion': 'gini'}. Best is trial 40 with value: 0.9660377358490566.\u001b[0m\n",
      "\u001b[32m[I 2022-12-19 22:10:18,941]\u001b[0m Trial 170 finished with value: 0.9471698113207547 and parameters: {'rf_max_depth': 11, 'rf_min_samples_split': 21, 'rf_min_samples_leaf': 10, 'rf_n_estimators': 270, 'rf_bootstrap': 'False', 'rf_criterion': 'gini'}. Best is trial 40 with value: 0.9660377358490566.\u001b[0m\n",
      "\u001b[32m[I 2022-12-19 22:10:19,632]\u001b[0m Trial 171 finished with value: 0.8754716981132076 and parameters: {'rf_max_depth': 2, 'rf_min_samples_split': 14, 'rf_min_samples_leaf': 11, 'rf_n_estimators': 318, 'rf_bootstrap': 'False', 'rf_criterion': 'gini'}. Best is trial 40 with value: 0.9660377358490566.\u001b[0m\n",
      "\u001b[32m[I 2022-12-19 22:10:20,270]\u001b[0m Trial 172 finished with value: 0.8754716981132076 and parameters: {'rf_max_depth': 2, 'rf_min_samples_split': 26, 'rf_min_samples_leaf': 11, 'rf_n_estimators': 256, 'rf_bootstrap': 'False', 'rf_criterion': 'gini'}. Best is trial 40 with value: 0.9660377358490566.\u001b[0m\n",
      "\u001b[32m[I 2022-12-19 22:10:21,006]\u001b[0m Trial 173 finished with value: 0.9622641509433962 and parameters: {'rf_max_depth': 8, 'rf_min_samples_split': 18, 'rf_min_samples_leaf': 13, 'rf_n_estimators': 241, 'rf_bootstrap': 'False', 'rf_criterion': 'gini'}. Best is trial 40 with value: 0.9660377358490566.\u001b[0m\n",
      "\u001b[32m[I 2022-12-19 22:10:21,386]\u001b[0m Trial 174 finished with value: 0.9622641509433962 and parameters: {'rf_max_depth': 7, 'rf_min_samples_split': 19, 'rf_min_samples_leaf': 13, 'rf_n_estimators': 195, 'rf_bootstrap': 'False', 'rf_criterion': 'gini'}. Best is trial 40 with value: 0.9660377358490566.\u001b[0m\n",
      "\u001b[32m[I 2022-12-19 22:10:22,072]\u001b[0m Trial 175 finished with value: 0.9622641509433962 and parameters: {'rf_max_depth': 7, 'rf_min_samples_split': 19, 'rf_min_samples_leaf': 13, 'rf_n_estimators': 202, 'rf_bootstrap': 'False', 'rf_criterion': 'gini'}. Best is trial 40 with value: 0.9660377358490566.\u001b[0m\n",
      "\u001b[32m[I 2022-12-19 22:10:22,088]\u001b[0m Trial 176 finished with value: 0.9584905660377359 and parameters: {'rf_max_depth': 10, 'rf_min_samples_split': 13, 'rf_min_samples_leaf': 14, 'rf_n_estimators': 134, 'rf_bootstrap': 'False', 'rf_criterion': 'gini'}. Best is trial 40 with value: 0.9660377358490566.\u001b[0m\n",
      "\u001b[32m[I 2022-12-19 22:10:23,110]\u001b[0m Trial 178 finished with value: 0.9660377358490566 and parameters: {'rf_max_depth': 8, 'rf_min_samples_split': 23, 'rf_min_samples_leaf': 12, 'rf_n_estimators': 180, 'rf_bootstrap': 'False', 'rf_criterion': 'gini'}. Best is trial 40 with value: 0.9660377358490566.\u001b[0m\n",
      "\u001b[32m[I 2022-12-19 22:10:23,786]\u001b[0m Trial 177 finished with value: 0.9660377358490566 and parameters: {'rf_max_depth': 8, 'rf_min_samples_split': 24, 'rf_min_samples_leaf': 12, 'rf_n_estimators': 301, 'rf_bootstrap': 'False', 'rf_criterion': 'gini'}. Best is trial 40 with value: 0.9660377358490566.\u001b[0m\n",
      "\u001b[32m[I 2022-12-19 22:10:24,517]\u001b[0m Trial 179 finished with value: 0.9471698113207547 and parameters: {'rf_max_depth': 9, 'rf_min_samples_split': 23, 'rf_min_samples_leaf': 11, 'rf_n_estimators': 246, 'rf_bootstrap': 'False', 'rf_criterion': 'gini'}. Best is trial 40 with value: 0.9660377358490566.\u001b[0m\n",
      "\u001b[32m[I 2022-12-19 22:10:24,744]\u001b[0m Trial 180 finished with value: 0.9584905660377359 and parameters: {'rf_max_depth': 8, 'rf_min_samples_split': 22, 'rf_min_samples_leaf': 15, 'rf_n_estimators': 160, 'rf_bootstrap': 'False', 'rf_criterion': 'gini'}. Best is trial 40 with value: 0.9660377358490566.\u001b[0m\n",
      "\u001b[32m[I 2022-12-19 22:10:25,522]\u001b[0m Trial 181 finished with value: 0.9622641509433962 and parameters: {'rf_max_depth': 8, 'rf_min_samples_split': 16, 'rf_min_samples_leaf': 15, 'rf_n_estimators': 178, 'rf_bootstrap': 'False', 'rf_criterion': 'gini'}. Best is trial 40 with value: 0.9660377358490566.\u001b[0m\n",
      "\u001b[32m[I 2022-12-19 22:10:26,253]\u001b[0m Trial 182 finished with value: 0.879245283018868 and parameters: {'rf_max_depth': 15, 'rf_min_samples_split': 15, 'rf_min_samples_leaf': 50, 'rf_n_estimators': 282, 'rf_bootstrap': 'False', 'rf_criterion': 'gini'}. Best is trial 40 with value: 0.9660377358490566.\u001b[0m\n",
      "\u001b[32m[I 2022-12-19 22:10:27,120]\u001b[0m Trial 183 finished with value: 0.9547169811320755 and parameters: {'rf_max_depth': 6, 'rf_min_samples_split': 13, 'rf_min_samples_leaf': 14, 'rf_n_estimators': 295, 'rf_bootstrap': 'False', 'rf_criterion': 'gini'}. Best is trial 40 with value: 0.9660377358490566.\u001b[0m\n",
      "\u001b[32m[I 2022-12-19 22:10:27,661]\u001b[0m Trial 184 finished with value: 0.9622641509433962 and parameters: {'rf_max_depth': 9, 'rf_min_samples_split': 12, 'rf_min_samples_leaf': 14, 'rf_n_estimators': 243, 'rf_bootstrap': 'False', 'rf_criterion': 'gini'}. Best is trial 40 with value: 0.9660377358490566.\u001b[0m\n",
      "\u001b[32m[I 2022-12-19 22:10:28,402]\u001b[0m Trial 185 finished with value: 0.9660377358490566 and parameters: {'rf_max_depth': 7, 'rf_min_samples_split': 21, 'rf_min_samples_leaf': 12, 'rf_n_estimators': 222, 'rf_bootstrap': 'False', 'rf_criterion': 'gini'}. Best is trial 40 with value: 0.9660377358490566.\u001b[0m\n",
      "\u001b[32m[I 2022-12-19 22:10:28,926]\u001b[0m Trial 187 finished with value: 0.9283018867924528 and parameters: {'rf_max_depth': 5, 'rf_min_samples_split': 27, 'rf_min_samples_leaf': 13, 'rf_n_estimators': 97, 'rf_bootstrap': 'False', 'rf_criterion': 'gini'}. Best is trial 40 with value: 0.9660377358490566.\u001b[0m\n",
      "\u001b[32m[I 2022-12-19 22:10:29,526]\u001b[0m Trial 186 finished with value: 0.9660377358490566 and parameters: {'rf_max_depth': 10, 'rf_min_samples_split': 26, 'rf_min_samples_leaf': 12, 'rf_n_estimators': 328, 'rf_bootstrap': 'False', 'rf_criterion': 'gini'}. Best is trial 40 with value: 0.9660377358490566.\u001b[0m\n",
      "\u001b[32m[I 2022-12-19 22:10:29,911]\u001b[0m Trial 188 finished with value: 0.9622641509433962 and parameters: {'rf_max_depth': 8, 'rf_min_samples_split': 25, 'rf_min_samples_leaf': 12, 'rf_n_estimators': 147, 'rf_bootstrap': 'False', 'rf_criterion': 'gini'}. Best is trial 40 with value: 0.9660377358490566.\u001b[0m\n",
      "\u001b[32m[I 2022-12-19 22:10:30,611]\u001b[0m Trial 189 finished with value: 0.939622641509434 and parameters: {'rf_max_depth': 8, 'rf_min_samples_split': 32, 'rf_min_samples_leaf': 10, 'rf_n_estimators': 184, 'rf_bootstrap': 'False', 'rf_criterion': 'gini'}. Best is trial 40 with value: 0.9660377358490566.\u001b[0m\n",
      "\u001b[32m[I 2022-12-19 22:10:31,454]\u001b[0m Trial 190 finished with value: 0.9471698113207547 and parameters: {'rf_max_depth': 9, 'rf_min_samples_split': 13, 'rf_min_samples_leaf': 10, 'rf_n_estimators': 262, 'rf_bootstrap': 'False', 'rf_criterion': 'gini'}. Best is trial 40 with value: 0.9660377358490566.\u001b[0m\n",
      "\u001b[32m[I 2022-12-19 22:10:31,933]\u001b[0m Trial 191 finished with value: 0.9660377358490566 and parameters: {'rf_max_depth': 7, 'rf_min_samples_split': 15, 'rf_min_samples_leaf': 11, 'rf_n_estimators': 230, 'rf_bootstrap': 'False', 'rf_criterion': 'gini'}. Best is trial 40 with value: 0.9660377358490566.\u001b[0m\n",
      "\u001b[32m[I 2022-12-19 22:10:32,723]\u001b[0m Trial 192 finished with value: 0.9660377358490566 and parameters: {'rf_max_depth': 7, 'rf_min_samples_split': 20, 'rf_min_samples_leaf': 11, 'rf_n_estimators': 215, 'rf_bootstrap': 'False', 'rf_criterion': 'gini'}. Best is trial 40 with value: 0.9660377358490566.\u001b[0m\n",
      "\u001b[32m[I 2022-12-19 22:10:33,558]\u001b[0m Trial 193 finished with value: 0.9471698113207547 and parameters: {'rf_max_depth': 9, 'rf_min_samples_split': 14, 'rf_min_samples_leaf': 11, 'rf_n_estimators': 285, 'rf_bootstrap': 'False', 'rf_criterion': 'gini'}. Best is trial 40 with value: 0.9660377358490566.\u001b[0m\n",
      "\u001b[32m[I 2022-12-19 22:10:34,166]\u001b[0m Trial 194 finished with value: 0.9660377358490566 and parameters: {'rf_max_depth': 7, 'rf_min_samples_split': 17, 'rf_min_samples_leaf': 11, 'rf_n_estimators': 241, 'rf_bootstrap': 'False', 'rf_criterion': 'gini'}. Best is trial 40 with value: 0.9660377358490566.\u001b[0m\n",
      "\u001b[32m[I 2022-12-19 22:10:34,892]\u001b[0m Trial 195 finished with value: 0.9660377358490566 and parameters: {'rf_max_depth': 7, 'rf_min_samples_split': 17, 'rf_min_samples_leaf': 12, 'rf_n_estimators': 214, 'rf_bootstrap': 'False', 'rf_criterion': 'gini'}. Best is trial 40 with value: 0.9660377358490566.\u001b[0m\n",
      "\u001b[32m[I 2022-12-19 22:10:35,553]\u001b[0m Trial 197 finished with value: 0.9547169811320755 and parameters: {'rf_max_depth': 6, 'rf_min_samples_split': 17, 'rf_min_samples_leaf': 13, 'rf_n_estimators': 121, 'rf_bootstrap': 'False', 'rf_criterion': 'gini'}. Best is trial 40 with value: 0.9660377358490566.\u001b[0m\n",
      "\u001b[32m[I 2022-12-19 22:10:36,292]\u001b[0m Trial 196 finished with value: 0.9471698113207547 and parameters: {'rf_max_depth': 9, 'rf_min_samples_split': 22, 'rf_min_samples_leaf': 9, 'rf_n_estimators': 351, 'rf_bootstrap': 'False', 'rf_criterion': 'gini'}. Best is trial 40 with value: 0.9660377358490566.\u001b[0m\n",
      "\u001b[32m[I 2022-12-19 22:10:37,460]\u001b[0m Trial 199 finished with value: 0.9660377358490566 and parameters: {'rf_max_depth': 7, 'rf_min_samples_split': 18, 'rf_min_samples_leaf': 12, 'rf_n_estimators': 211, 'rf_bootstrap': 'False', 'rf_criterion': 'gini'}. Best is trial 40 with value: 0.9660377358490566.\u001b[0m\n",
      "\u001b[32m[I 2022-12-19 22:10:37,524]\u001b[0m Trial 198 finished with value: 0.9660377358490566 and parameters: {'rf_max_depth': 9, 'rf_min_samples_split': 19, 'rf_min_samples_leaf': 12, 'rf_n_estimators': 368, 'rf_bootstrap': 'False', 'rf_criterion': 'gini'}. Best is trial 40 with value: 0.9660377358490566.\u001b[0m\n"
     ]
    },
    {
     "name": "stdout",
     "output_type": "stream",
     "text": [
      "FrozenTrial(number=40, values=[0.9660377358490566], datetime_start=datetime.datetime(2022, 12, 19, 22, 8, 12, 299407), datetime_complete=datetime.datetime(2022, 12, 19, 22, 8, 13, 313082), params={'rf_max_depth': 31, 'rf_min_samples_split': 2, 'rf_min_samples_leaf': 12, 'rf_n_estimators': 130, 'rf_bootstrap': 'False', 'rf_criterion': 'gini'}, distributions={'rf_max_depth': IntDistribution(high=50, log=True, low=2, step=1), 'rf_min_samples_split': IntDistribution(high=50, log=True, low=2, step=1), 'rf_min_samples_leaf': IntDistribution(high=50, log=True, low=2, step=1), 'rf_n_estimators': IntDistribution(high=1000, log=True, low=10, step=1), 'rf_bootstrap': CategoricalDistribution(choices=('True', 'False')), 'rf_criterion': CategoricalDistribution(choices=('gini', 'entropy'))}, user_attrs={}, system_attrs={}, intermediate_values={}, trial_id=40, state=TrialState.COMPLETE, value=None)\n"
     ]
    }
   ],
   "source": [
    "from optuna.study import create_study\n",
    "\n",
    "def objective(trial):\n",
    "    rf_max_depth = trial.suggest_int(\"rf_max_depth\", 2, 50, log=True)\n",
    "    rf_min_samples_split = trial.suggest_int(\"rf_min_samples_split\", 2, 50, log=True)\n",
    "    rf_min_samples_leaf = trial.suggest_int(\"rf_min_samples_leaf\", 2, 50, log=True)\n",
    "    rf_n_estimators = trial.suggest_int(\"rf_n_estimators\", 10, 1000, log=True)\n",
    "    rf_bootstrap = trial.suggest_categorical(\"rf_bootstrap\", ['True', 'False'])\n",
    "    rf_criterion = trial.suggest_categorical(\"rf_criterion\", ['gini', 'entropy'])\n",
    "\n",
    "    classifier_obj = RandomForestClassifier(\n",
    "        max_depth=rf_max_depth, min_samples_split=rf_min_samples_split, min_samples_leaf=rf_min_samples_leaf,\n",
    "        n_estimators=rf_n_estimators, bootstrap=rf_bootstrap, criterion=rf_criterion, random_state=123, n_jobs=-1\n",
    "    )\n",
    "\n",
    "    classifier_obj.fit(X_train_etc, y_train_etc)\n",
    "    acc = classifier_obj.score(X_test_etc, y_test_etc)\n",
    "\n",
    "    return acc\n",
    "\n",
    "study = create_study(direction=\"maximize\")\n",
    "study.optimize(objective, n_trials=200, n_jobs=2)\n",
    "print(study.best_trial)"
   ]
  },
  {
   "cell_type": "code",
   "execution_count": null,
   "id": "vQ-LSYF59Irv",
   "metadata": {
    "colab": {
     "base_uri": "https://localhost:8080/"
    },
    "id": "vQ-LSYF59Irv",
    "outputId": "b7c5b233-2f24-46ae-bf88-a78b654e1a50"
   },
   "outputs": [
    {
     "name": "stdout",
     "output_type": "stream",
     "text": [
      "Time: 0.4817801739999936\n",
      "Score: 0.9660377358490566\n"
     ]
    }
   ],
   "source": [
    "params={'max_depth': 31, 'min_samples_split': 2, 'min_samples_leaf': 12, 'n_estimators': 130, 'bootstrap': 'False', 'criterion': 'gini'}\n",
    "\n",
    "def reference_model():\n",
    "  clf_rf = RandomForestClassifier(random_state=123, **params).fit(X_train_etc, y_train_etc)\n",
    "  clf_rf_predictions  = clf_rf.predict(X_test_etc)\n",
    "  return clf_rf.score(X_test_etc, y_test_etc)\n",
    "\n",
    "time_measure(reference_model)"
   ]
  },
  {
   "cell_type": "markdown",
   "id": "e8Cp0DrECiys",
   "metadata": {
    "id": "e8Cp0DrECiys"
   },
   "source": [
    "Using feature optimization, we were able to get the best result for Extra Tree Classifier which discarded the Taste and Color variables. We can observe a slight improvement over time and a score improvement of 1%.\n",
    "\n",
    "With the help of the optuna bilbiote, we selected hyperparameters that have no effect on time and improve the score compared to ETC by 2%."
   ]
  }
 ],
 "metadata": {
  "colab": {
   "collapsed_sections": [
    "21891728",
    "4f770ca0",
    "kGBxDqgwhGzc",
    "55jOAxa_k2D5",
    "Pjk2WOxfqo2S",
    "UPGqaiL7jJjX",
    "mLhx8esNhTid",
    "LuvAfiydhtO5",
    "WvI5pm2Thv5V",
    "cSKT8vNchx6N",
    "DCVe36YzjfeD",
    "yEyPmfvRczR1",
    "Ajqiq--nOo_r"
   ],
   "provenance": []
  },
  "kernelspec": {
   "display_name": "Python 3 (ipykernel)",
   "language": "python",
   "name": "python3"
  },
  "language_info": {
   "codemirror_mode": {
    "name": "ipython",
    "version": 3
   },
   "file_extension": ".py",
   "mimetype": "text/x-python",
   "name": "python",
   "nbconvert_exporter": "python",
   "pygments_lexer": "ipython3",
   "version": "3.9.7"
  }
 },
 "nbformat": 4,
 "nbformat_minor": 5
}
